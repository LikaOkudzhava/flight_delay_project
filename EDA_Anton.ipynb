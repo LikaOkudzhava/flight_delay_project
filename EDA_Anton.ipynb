{
 "cells": [
  {
   "cell_type": "code",
   "execution_count": 325,
   "id": "448b279a",
   "metadata": {},
   "outputs": [],
   "source": [
    "import pandas as pd\n",
    "import numpy as np\n",
    "import seaborn as sns\n",
    "import matplotlib.pyplot as plt\n",
    "from datetime import datetime, timedelta\n",
    "from sklearn.model_selection import train_test_split\n",
    "from sklearn.preprocessing import StandardScaler, MinMaxScaler, RobustScaler\n",
    "from sklearn.ensemble import  RandomForestRegressor\n",
    "from sklearn.tree import  DecisionTreeRegressor\n",
    "from sklearn.metrics import mean_squared_error, r2_score, mean_absolute_error\n",
    "from sklearn.tree import plot_tree\n",
    "RSEED = 42\n"
   ]
  },
  {
   "cell_type": "code",
   "execution_count": 326,
   "id": "15d18e65",
   "metadata": {},
   "outputs": [
    {
     "data": {
      "application/vnd.microsoft.datawrangler.viewer.v0+json": {
       "columns": [
        {
         "name": "index",
         "rawType": "int64",
         "type": "integer"
        },
        {
         "name": "ID",
         "rawType": "object",
         "type": "string"
        },
        {
         "name": "DATOP",
         "rawType": "object",
         "type": "string"
        },
        {
         "name": "FLTID",
         "rawType": "object",
         "type": "string"
        },
        {
         "name": "DEPSTN",
         "rawType": "object",
         "type": "string"
        },
        {
         "name": "ARRSTN",
         "rawType": "object",
         "type": "string"
        },
        {
         "name": "STD",
         "rawType": "object",
         "type": "string"
        },
        {
         "name": "STA",
         "rawType": "object",
         "type": "string"
        },
        {
         "name": "STATUS",
         "rawType": "object",
         "type": "string"
        },
        {
         "name": "AC",
         "rawType": "object",
         "type": "string"
        },
        {
         "name": "target",
         "rawType": "float64",
         "type": "float"
        }
       ],
       "conversionMethod": "pd.DataFrame",
       "ref": "a61cc67f-e1f1-4c2d-bf0b-5c04deff32f9",
       "rows": [
        [
         "0",
         "train_id_0",
         "2016-01-03",
         "TU 0712 ",
         "CMN",
         "TUN",
         "2016-01-03 10:30:00",
         "2016-01-03 12.55.00",
         "ATA",
         "TU 32AIMN",
         "260.0"
        ],
        [
         "1",
         "train_id_1",
         "2016-01-13",
         "TU 0757 ",
         "MXP",
         "TUN",
         "2016-01-13 15:05:00",
         "2016-01-13 16.55.00",
         "ATA",
         "TU 31BIMO",
         "20.0"
        ],
        [
         "2",
         "train_id_2",
         "2016-01-16",
         "TU 0214 ",
         "TUN",
         "IST",
         "2016-01-16 04:10:00",
         "2016-01-16 06.45.00",
         "ATA",
         "TU 32AIMN",
         "0.0"
        ],
        [
         "3",
         "train_id_3",
         "2016-01-17",
         "TU 0480 ",
         "DJE",
         "NTE",
         "2016-01-17 14:10:00",
         "2016-01-17 17.00.00",
         "ATA",
         "TU 736IOK",
         "0.0"
        ],
        [
         "4",
         "train_id_4",
         "2016-01-17",
         "TU 0338 ",
         "TUN",
         "ALG",
         "2016-01-17 14:30:00",
         "2016-01-17 15.50.00",
         "ATA",
         "TU 320IMU",
         "22.0"
        ]
       ],
       "shape": {
        "columns": 10,
        "rows": 5
       }
      },
      "text/html": [
       "<div>\n",
       "<style scoped>\n",
       "    .dataframe tbody tr th:only-of-type {\n",
       "        vertical-align: middle;\n",
       "    }\n",
       "\n",
       "    .dataframe tbody tr th {\n",
       "        vertical-align: top;\n",
       "    }\n",
       "\n",
       "    .dataframe thead th {\n",
       "        text-align: right;\n",
       "    }\n",
       "</style>\n",
       "<table border=\"1\" class=\"dataframe\">\n",
       "  <thead>\n",
       "    <tr style=\"text-align: right;\">\n",
       "      <th></th>\n",
       "      <th>ID</th>\n",
       "      <th>DATOP</th>\n",
       "      <th>FLTID</th>\n",
       "      <th>DEPSTN</th>\n",
       "      <th>ARRSTN</th>\n",
       "      <th>STD</th>\n",
       "      <th>STA</th>\n",
       "      <th>STATUS</th>\n",
       "      <th>AC</th>\n",
       "      <th>target</th>\n",
       "    </tr>\n",
       "  </thead>\n",
       "  <tbody>\n",
       "    <tr>\n",
       "      <th>0</th>\n",
       "      <td>train_id_0</td>\n",
       "      <td>2016-01-03</td>\n",
       "      <td>TU 0712</td>\n",
       "      <td>CMN</td>\n",
       "      <td>TUN</td>\n",
       "      <td>2016-01-03 10:30:00</td>\n",
       "      <td>2016-01-03 12.55.00</td>\n",
       "      <td>ATA</td>\n",
       "      <td>TU 32AIMN</td>\n",
       "      <td>260.0</td>\n",
       "    </tr>\n",
       "    <tr>\n",
       "      <th>1</th>\n",
       "      <td>train_id_1</td>\n",
       "      <td>2016-01-13</td>\n",
       "      <td>TU 0757</td>\n",
       "      <td>MXP</td>\n",
       "      <td>TUN</td>\n",
       "      <td>2016-01-13 15:05:00</td>\n",
       "      <td>2016-01-13 16.55.00</td>\n",
       "      <td>ATA</td>\n",
       "      <td>TU 31BIMO</td>\n",
       "      <td>20.0</td>\n",
       "    </tr>\n",
       "    <tr>\n",
       "      <th>2</th>\n",
       "      <td>train_id_2</td>\n",
       "      <td>2016-01-16</td>\n",
       "      <td>TU 0214</td>\n",
       "      <td>TUN</td>\n",
       "      <td>IST</td>\n",
       "      <td>2016-01-16 04:10:00</td>\n",
       "      <td>2016-01-16 06.45.00</td>\n",
       "      <td>ATA</td>\n",
       "      <td>TU 32AIMN</td>\n",
       "      <td>0.0</td>\n",
       "    </tr>\n",
       "    <tr>\n",
       "      <th>3</th>\n",
       "      <td>train_id_3</td>\n",
       "      <td>2016-01-17</td>\n",
       "      <td>TU 0480</td>\n",
       "      <td>DJE</td>\n",
       "      <td>NTE</td>\n",
       "      <td>2016-01-17 14:10:00</td>\n",
       "      <td>2016-01-17 17.00.00</td>\n",
       "      <td>ATA</td>\n",
       "      <td>TU 736IOK</td>\n",
       "      <td>0.0</td>\n",
       "    </tr>\n",
       "    <tr>\n",
       "      <th>4</th>\n",
       "      <td>train_id_4</td>\n",
       "      <td>2016-01-17</td>\n",
       "      <td>TU 0338</td>\n",
       "      <td>TUN</td>\n",
       "      <td>ALG</td>\n",
       "      <td>2016-01-17 14:30:00</td>\n",
       "      <td>2016-01-17 15.50.00</td>\n",
       "      <td>ATA</td>\n",
       "      <td>TU 320IMU</td>\n",
       "      <td>22.0</td>\n",
       "    </tr>\n",
       "  </tbody>\n",
       "</table>\n",
       "</div>"
      ],
      "text/plain": [
       "           ID       DATOP     FLTID DEPSTN ARRSTN                  STD   \n",
       "0  train_id_0  2016-01-03  TU 0712     CMN    TUN  2016-01-03 10:30:00  \\\n",
       "1  train_id_1  2016-01-13  TU 0757     MXP    TUN  2016-01-13 15:05:00   \n",
       "2  train_id_2  2016-01-16  TU 0214     TUN    IST  2016-01-16 04:10:00   \n",
       "3  train_id_3  2016-01-17  TU 0480     DJE    NTE  2016-01-17 14:10:00   \n",
       "4  train_id_4  2016-01-17  TU 0338     TUN    ALG  2016-01-17 14:30:00   \n",
       "\n",
       "                   STA STATUS         AC  target  \n",
       "0  2016-01-03 12.55.00    ATA  TU 32AIMN   260.0  \n",
       "1  2016-01-13 16.55.00    ATA  TU 31BIMO    20.0  \n",
       "2  2016-01-16 06.45.00    ATA  TU 32AIMN     0.0  \n",
       "3  2016-01-17 17.00.00    ATA  TU 736IOK     0.0  \n",
       "4  2016-01-17 15.50.00    ATA  TU 320IMU    22.0  "
      ]
     },
     "execution_count": 326,
     "metadata": {},
     "output_type": "execute_result"
    }
   ],
   "source": [
    "df_train = pd.read_csv('data/train.csv')\n",
    "df_train.head()"
   ]
  },
  {
   "cell_type": "code",
   "execution_count": 327,
   "id": "ceb00d08",
   "metadata": {},
   "outputs": [
    {
     "data": {
      "application/vnd.microsoft.datawrangler.viewer.v0+json": {
       "columns": [
        {
         "name": "index",
         "rawType": "int64",
         "type": "integer"
        },
        {
         "name": "ID",
         "rawType": "object",
         "type": "string"
        },
        {
         "name": "DATOP",
         "rawType": "datetime64[ns]",
         "type": "datetime"
        },
        {
         "name": "FLTID",
         "rawType": "object",
         "type": "string"
        },
        {
         "name": "DEPSTN",
         "rawType": "object",
         "type": "string"
        },
        {
         "name": "ARRSTN",
         "rawType": "object",
         "type": "string"
        },
        {
         "name": "STD",
         "rawType": "datetime64[ns]",
         "type": "datetime"
        },
        {
         "name": "STA",
         "rawType": "datetime64[ns]",
         "type": "datetime"
        },
        {
         "name": "STATUS",
         "rawType": "object",
         "type": "string"
        },
        {
         "name": "AC",
         "rawType": "object",
         "type": "string"
        },
        {
         "name": "target",
         "rawType": "float64",
         "type": "float"
        },
        {
         "name": "airline_code",
         "rawType": "object",
         "type": "string"
        },
        {
         "name": "flt_num",
         "rawType": "object",
         "type": "string"
        },
        {
         "name": "AC_airline_code",
         "rawType": "object",
         "type": "string"
        },
        {
         "name": "AC_num",
         "rawType": "object",
         "type": "string"
        },
        {
         "name": "STD_year",
         "rawType": "int32",
         "type": "integer"
        },
        {
         "name": "STD_month",
         "rawType": "int32",
         "type": "integer"
        },
        {
         "name": "STD_day",
         "rawType": "int32",
         "type": "integer"
        },
        {
         "name": "STD_hour",
         "rawType": "int32",
         "type": "integer"
        },
        {
         "name": "STA_hour",
         "rawType": "int32",
         "type": "integer"
        },
        {
         "name": "DURATION",
         "rawType": "float64",
         "type": "float"
        },
        {
         "name": "plain",
         "rawType": "object",
         "type": "string"
        },
        {
         "name": "DATOP_DEP_count",
         "rawType": "int64",
         "type": "integer"
        },
        {
         "name": "DATOP_ARR_count",
         "rawType": "int64",
         "type": "integer"
        },
        {
         "name": "STD_hour_category",
         "rawType": "object",
         "type": "string"
        },
        {
         "name": "daytime_evening",
         "rawType": "int32",
         "type": "integer"
        },
        {
         "name": "daytime_morning",
         "rawType": "int32",
         "type": "integer"
        },
        {
         "name": "daytime_night",
         "rawType": "int32",
         "type": "integer"
        },
        {
         "name": "daytime_noon",
         "rawType": "int32",
         "type": "integer"
        },
        {
         "name": "status_ATA",
         "rawType": "int32",
         "type": "integer"
        },
        {
         "name": "status_DEL",
         "rawType": "int32",
         "type": "integer"
        },
        {
         "name": "status_DEP",
         "rawType": "int32",
         "type": "integer"
        },
        {
         "name": "status_RTR",
         "rawType": "int32",
         "type": "integer"
        },
        {
         "name": "status_SCH",
         "rawType": "int32",
         "type": "integer"
        },
        {
         "name": "DEPSTN_AAE",
         "rawType": "int32",
         "type": "integer"
        },
        {
         "name": "DEPSTN_AAL",
         "rawType": "int32",
         "type": "integer"
        },
        {
         "name": "DEPSTN_ABJ",
         "rawType": "int32",
         "type": "integer"
        },
        {
         "name": "DEPSTN_ADB",
         "rawType": "int32",
         "type": "integer"
        },
        {
         "name": "DEPSTN_AHU",
         "rawType": "int32",
         "type": "integer"
        },
        {
         "name": "DEPSTN_ALG",
         "rawType": "int32",
         "type": "integer"
        },
        {
         "name": "DEPSTN_AMM",
         "rawType": "int32",
         "type": "integer"
        },
        {
         "name": "DEPSTN_AMS",
         "rawType": "int32",
         "type": "integer"
        },
        {
         "name": "DEPSTN_ARN",
         "rawType": "int32",
         "type": "integer"
        },
        {
         "name": "DEPSTN_ATH",
         "rawType": "int32",
         "type": "integer"
        },
        {
         "name": "DEPSTN_AYT",
         "rawType": "int32",
         "type": "integer"
        },
        {
         "name": "DEPSTN_BCN",
         "rawType": "int32",
         "type": "integer"
        },
        {
         "name": "DEPSTN_BDS",
         "rawType": "int32",
         "type": "integer"
        },
        {
         "name": "DEPSTN_BEG",
         "rawType": "int32",
         "type": "integer"
        },
        {
         "name": "DEPSTN_BEY",
         "rawType": "int32",
         "type": "integer"
        },
        {
         "name": "DEPSTN_BJA",
         "rawType": "int32",
         "type": "integer"
        },
        {
         "name": "DEPSTN_BKO",
         "rawType": "int32",
         "type": "integer"
        },
        {
         "name": "DEPSTN_BLL",
         "rawType": "int32",
         "type": "integer"
        },
        {
         "name": "DEPSTN_BLQ",
         "rawType": "int32",
         "type": "integer"
        },
        {
         "name": "DEPSTN_BOD",
         "rawType": "int32",
         "type": "integer"
        },
        {
         "name": "DEPSTN_BRI",
         "rawType": "int32",
         "type": "integer"
        },
        {
         "name": "DEPSTN_BRQ",
         "rawType": "int32",
         "type": "integer"
        },
        {
         "name": "DEPSTN_BRU",
         "rawType": "int32",
         "type": "integer"
        },
        {
         "name": "DEPSTN_BTS",
         "rawType": "int32",
         "type": "integer"
        },
        {
         "name": "DEPSTN_BUD",
         "rawType": "int32",
         "type": "integer"
        },
        {
         "name": "DEPSTN_BYJ",
         "rawType": "int32",
         "type": "integer"
        },
        {
         "name": "DEPSTN_CAG",
         "rawType": "int32",
         "type": "integer"
        },
        {
         "name": "DEPSTN_CAI",
         "rawType": "int32",
         "type": "integer"
        },
        {
         "name": "DEPSTN_CDG",
         "rawType": "int32",
         "type": "integer"
        },
        {
         "name": "DEPSTN_CGN",
         "rawType": "int32",
         "type": "integer"
        },
        {
         "name": "DEPSTN_CKY",
         "rawType": "int32",
         "type": "integer"
        },
        {
         "name": "DEPSTN_CMN",
         "rawType": "int32",
         "type": "integer"
        },
        {
         "name": "DEPSTN_COO",
         "rawType": "int32",
         "type": "integer"
        },
        {
         "name": "DEPSTN_CPH",
         "rawType": "int32",
         "type": "integer"
        },
        {
         "name": "DEPSTN_CRL",
         "rawType": "int32",
         "type": "integer"
        },
        {
         "name": "DEPSTN_CTA",
         "rawType": "int32",
         "type": "integer"
        },
        {
         "name": "DEPSTN_CZL",
         "rawType": "int32",
         "type": "integer"
        },
        {
         "name": "DEPSTN_DJE",
         "rawType": "int32",
         "type": "integer"
        },
        {
         "name": "DEPSTN_DKR",
         "rawType": "int32",
         "type": "integer"
        },
        {
         "name": "DEPSTN_DOH",
         "rawType": "int32",
         "type": "integer"
        },
        {
         "name": "DEPSTN_DSS",
         "rawType": "int32",
         "type": "integer"
        },
        {
         "name": "DEPSTN_DUS",
         "rawType": "int32",
         "type": "integer"
        },
        {
         "name": "DEPSTN_EBL",
         "rawType": "int32",
         "type": "integer"
        },
        {
         "name": "DEPSTN_EBM",
         "rawType": "int32",
         "type": "integer"
        },
        {
         "name": "DEPSTN_ESB",
         "rawType": "int32",
         "type": "integer"
        },
        {
         "name": "DEPSTN_FBM",
         "rawType": "int32",
         "type": "integer"
        },
        {
         "name": "DEPSTN_FCO",
         "rawType": "int32",
         "type": "integer"
        },
        {
         "name": "DEPSTN_FIH",
         "rawType": "int32",
         "type": "integer"
        },
        {
         "name": "DEPSTN_FRA",
         "rawType": "int32",
         "type": "integer"
        },
        {
         "name": "DEPSTN_GAE",
         "rawType": "int32",
         "type": "integer"
        },
        {
         "name": "DEPSTN_GAF",
         "rawType": "int32",
         "type": "integer"
        },
        {
         "name": "DEPSTN_GHA",
         "rawType": "int32",
         "type": "integer"
        },
        {
         "name": "DEPSTN_GNB",
         "rawType": "int32",
         "type": "integer"
        },
        {
         "name": "DEPSTN_GVA",
         "rawType": "int32",
         "type": "integer"
        },
        {
         "name": "DEPSTN_HAJ",
         "rawType": "int32",
         "type": "integer"
        },
        {
         "name": "DEPSTN_HAM",
         "rawType": "int32",
         "type": "integer"
        },
        {
         "name": "DEPSTN_HBE",
         "rawType": "int32",
         "type": "integer"
        },
        {
         "name": "DEPSTN_IEV",
         "rawType": "int32",
         "type": "integer"
        },
        {
         "name": "DEPSTN_IST",
         "rawType": "int32",
         "type": "integer"
        },
        {
         "name": "DEPSTN_JED",
         "rawType": "int32",
         "type": "integer"
        },
        {
         "name": "DEPSTN_JIB",
         "rawType": "int32",
         "type": "integer"
        },
        {
         "name": "DEPSTN_KBP",
         "rawType": "int32",
         "type": "integer"
        },
        {
         "name": "DEPSTN_KEF",
         "rawType": "int32",
         "type": "integer"
        },
        {
         "name": "DEPSTN_KGL",
         "rawType": "int32",
         "type": "integer"
        },
        {
         "name": "DEPSTN_KRR",
         "rawType": "int32",
         "type": "integer"
        },
        {
         "name": "DEPSTN_KRT",
         "rawType": "int32",
         "type": "integer"
        },
        {
         "name": "DEPSTN_KSC",
         "rawType": "int32",
         "type": "integer"
        },
        {
         "name": "DEPSTN_KTW",
         "rawType": "int32",
         "type": "integer"
        },
        {
         "name": "DEPSTN_LAD",
         "rawType": "int32",
         "type": "integer"
        },
        {
         "name": "DEPSTN_LBV",
         "rawType": "int32",
         "type": "integer"
        },
        {
         "name": "DEPSTN_LED",
         "rawType": "int32",
         "type": "integer"
        },
        {
         "name": "DEPSTN_LFW",
         "rawType": "int32",
         "type": "integer"
        },
        {
         "name": "DEPSTN_LGW",
         "rawType": "int32",
         "type": "integer"
        },
        {
         "name": "DEPSTN_LHR",
         "rawType": "int32",
         "type": "integer"
        },
        {
         "name": "DEPSTN_LIL",
         "rawType": "int32",
         "type": "integer"
        },
        {
         "name": "DEPSTN_LIS",
         "rawType": "int32",
         "type": "integer"
        },
        {
         "name": "DEPSTN_LJU",
         "rawType": "int32",
         "type": "integer"
        },
        {
         "name": "DEPSTN_LUX",
         "rawType": "int32",
         "type": "integer"
        },
        {
         "name": "DEPSTN_LYS",
         "rawType": "int32",
         "type": "integer"
        },
        {
         "name": "DEPSTN_MAD",
         "rawType": "int32",
         "type": "integer"
        },
        {
         "name": "DEPSTN_MED",
         "rawType": "int32",
         "type": "integer"
        },
        {
         "name": "DEPSTN_MIR",
         "rawType": "int32",
         "type": "integer"
        },
        {
         "name": "DEPSTN_MLA",
         "rawType": "int32",
         "type": "integer"
        },
        {
         "name": "DEPSTN_MRS",
         "rawType": "int32",
         "type": "integer"
        },
        {
         "name": "DEPSTN_MUC",
         "rawType": "int32",
         "type": "integer"
        },
        {
         "name": "DEPSTN_MVB",
         "rawType": "int32",
         "type": "integer"
        },
        {
         "name": "DEPSTN_MXP",
         "rawType": "int32",
         "type": "integer"
        },
        {
         "name": "DEPSTN_NAP",
         "rawType": "int32",
         "type": "integer"
        },
        {
         "name": "DEPSTN_NBE",
         "rawType": "int32",
         "type": "integer"
        },
        {
         "name": "DEPSTN_NCE",
         "rawType": "int32",
         "type": "integer"
        },
        {
         "name": "DEPSTN_NDR",
         "rawType": "int32",
         "type": "integer"
        },
        {
         "name": "DEPSTN_NIM",
         "rawType": "int32",
         "type": "integer"
        },
        {
         "name": "DEPSTN_NKC",
         "rawType": "int32",
         "type": "integer"
        },
        {
         "name": "DEPSTN_NTE",
         "rawType": "int32",
         "type": "integer"
        },
        {
         "name": "DEPSTN_OPO",
         "rawType": "int32",
         "type": "integer"
        },
        {
         "name": "DEPSTN_ORN",
         "rawType": "int32",
         "type": "integer"
        },
        {
         "name": "DEPSTN_ORY",
         "rawType": "int32",
         "type": "integer"
        },
        {
         "name": "DEPSTN_OSR",
         "rawType": "int32",
         "type": "integer"
        },
        {
         "name": "DEPSTN_OST",
         "rawType": "int32",
         "type": "integer"
        },
        {
         "name": "DEPSTN_OTP",
         "rawType": "int32",
         "type": "integer"
        },
        {
         "name": "DEPSTN_OUA",
         "rawType": "int32",
         "type": "integer"
        },
        {
         "name": "DEPSTN_OUD",
         "rawType": "int32",
         "type": "integer"
        },
        {
         "name": "DEPSTN_PMO",
         "rawType": "int32",
         "type": "integer"
        },
        {
         "name": "DEPSTN_PRG",
         "rawType": "int32",
         "type": "integer"
        },
        {
         "name": "DEPSTN_PSA",
         "rawType": "int32",
         "type": "integer"
        },
        {
         "name": "DEPSTN_RAK",
         "rawType": "int32",
         "type": "integer"
        },
        {
         "name": "DEPSTN_RTM",
         "rawType": "int32",
         "type": "integer"
        },
        {
         "name": "DEPSTN_SFA",
         "rawType": "int32",
         "type": "integer"
        },
        {
         "name": "DEPSTN_SJJ",
         "rawType": "int32",
         "type": "integer"
        },
        {
         "name": "DEPSTN_SKG",
         "rawType": "int32",
         "type": "integer"
        },
        {
         "name": "DEPSTN_SKX",
         "rawType": "int32",
         "type": "integer"
        },
        {
         "name": "DEPSTN_STR",
         "rawType": "int32",
         "type": "integer"
        },
        {
         "name": "DEPSTN_SVO",
         "rawType": "int32",
         "type": "integer"
        },
        {
         "name": "DEPSTN_SXB",
         "rawType": "int32",
         "type": "integer"
        },
        {
         "name": "DEPSTN_SXF",
         "rawType": "int32",
         "type": "integer"
        },
        {
         "name": "DEPSTN_TBJ",
         "rawType": "int32",
         "type": "integer"
        },
        {
         "name": "DEPSTN_TLL",
         "rawType": "int32",
         "type": "integer"
        },
        {
         "name": "DEPSTN_TLS",
         "rawType": "int32",
         "type": "integer"
        },
        {
         "name": "DEPSTN_TMR",
         "rawType": "int32",
         "type": "integer"
        },
        {
         "name": "DEPSTN_TNG",
         "rawType": "int32",
         "type": "integer"
        },
        {
         "name": "DEPSTN_TOE",
         "rawType": "int32",
         "type": "integer"
        },
        {
         "name": "DEPSTN_TPS",
         "rawType": "int32",
         "type": "integer"
        },
        {
         "name": "DEPSTN_TRN",
         "rawType": "int32",
         "type": "integer"
        },
        {
         "name": "DEPSTN_TUN",
         "rawType": "int32",
         "type": "integer"
        },
        {
         "name": "DEPSTN_VCE",
         "rawType": "int32",
         "type": "integer"
        },
        {
         "name": "DEPSTN_VIE",
         "rawType": "int32",
         "type": "integer"
        },
        {
         "name": "DEPSTN_VKO",
         "rawType": "int32",
         "type": "integer"
        },
        {
         "name": "DEPSTN_VNO",
         "rawType": "int32",
         "type": "integer"
        },
        {
         "name": "DEPSTN_VOG",
         "rawType": "int32",
         "type": "integer"
        },
        {
         "name": "DEPSTN_VRN",
         "rawType": "int32",
         "type": "integer"
        },
        {
         "name": "DEPSTN_YUL",
         "rawType": "int32",
         "type": "integer"
        },
        {
         "name": "DEPSTN_ZRH",
         "rawType": "int32",
         "type": "integer"
        },
        {
         "name": "ARRSTN_AAE",
         "rawType": "int32",
         "type": "integer"
        },
        {
         "name": "ARRSTN_ABJ",
         "rawType": "int32",
         "type": "integer"
        },
        {
         "name": "ARRSTN_ADB",
         "rawType": "int32",
         "type": "integer"
        },
        {
         "name": "ARRSTN_AHU",
         "rawType": "int32",
         "type": "integer"
        },
        {
         "name": "ARRSTN_ALG",
         "rawType": "int32",
         "type": "integer"
        },
        {
         "name": "ARRSTN_AMM",
         "rawType": "int32",
         "type": "integer"
        },
        {
         "name": "ARRSTN_AMS",
         "rawType": "int32",
         "type": "integer"
        },
        {
         "name": "ARRSTN_ARN",
         "rawType": "int32",
         "type": "integer"
        },
        {
         "name": "ARRSTN_ATH",
         "rawType": "int32",
         "type": "integer"
        },
        {
         "name": "ARRSTN_AYT",
         "rawType": "int32",
         "type": "integer"
        },
        {
         "name": "ARRSTN_BCN",
         "rawType": "int32",
         "type": "integer"
        },
        {
         "name": "ARRSTN_BDS",
         "rawType": "int32",
         "type": "integer"
        },
        {
         "name": "ARRSTN_BEG",
         "rawType": "int32",
         "type": "integer"
        },
        {
         "name": "ARRSTN_BEY",
         "rawType": "int32",
         "type": "integer"
        },
        {
         "name": "ARRSTN_BGY",
         "rawType": "int32",
         "type": "integer"
        },
        {
         "name": "ARRSTN_BJA",
         "rawType": "int32",
         "type": "integer"
        },
        {
         "name": "ARRSTN_BKO",
         "rawType": "int32",
         "type": "integer"
        },
        {
         "name": "ARRSTN_BLL",
         "rawType": "int32",
         "type": "integer"
        },
        {
         "name": "ARRSTN_BLQ",
         "rawType": "int32",
         "type": "integer"
        },
        {
         "name": "ARRSTN_BOD",
         "rawType": "int32",
         "type": "integer"
        },
        {
         "name": "ARRSTN_BRI",
         "rawType": "int32",
         "type": "integer"
        },
        {
         "name": "ARRSTN_BRQ",
         "rawType": "int32",
         "type": "integer"
        },
        {
         "name": "ARRSTN_BRU",
         "rawType": "int32",
         "type": "integer"
        },
        {
         "name": "ARRSTN_BTS",
         "rawType": "int32",
         "type": "integer"
        },
        {
         "name": "ARRSTN_BUD",
         "rawType": "int32",
         "type": "integer"
        },
        {
         "name": "ARRSTN_BYJ",
         "rawType": "int32",
         "type": "integer"
        },
        {
         "name": "ARRSTN_CAG",
         "rawType": "int32",
         "type": "integer"
        },
        {
         "name": "ARRSTN_CAI",
         "rawType": "int32",
         "type": "integer"
        },
        {
         "name": "ARRSTN_CDG",
         "rawType": "int32",
         "type": "integer"
        },
        {
         "name": "ARRSTN_CGN",
         "rawType": "int32",
         "type": "integer"
        },
        {
         "name": "ARRSTN_CKY",
         "rawType": "int32",
         "type": "integer"
        },
        {
         "name": "ARRSTN_CMN",
         "rawType": "int32",
         "type": "integer"
        },
        {
         "name": "ARRSTN_COO",
         "rawType": "int32",
         "type": "integer"
        },
        {
         "name": "ARRSTN_CPH",
         "rawType": "int32",
         "type": "integer"
        },
        {
         "name": "ARRSTN_CRL",
         "rawType": "int32",
         "type": "integer"
        },
        {
         "name": "ARRSTN_CTA",
         "rawType": "int32",
         "type": "integer"
        },
        {
         "name": "ARRSTN_CZL",
         "rawType": "int32",
         "type": "integer"
        },
        {
         "name": "ARRSTN_DJE",
         "rawType": "int32",
         "type": "integer"
        },
        {
         "name": "ARRSTN_DKR",
         "rawType": "int32",
         "type": "integer"
        },
        {
         "name": "ARRSTN_DOH",
         "rawType": "int32",
         "type": "integer"
        },
        {
         "name": "ARRSTN_DSS",
         "rawType": "int32",
         "type": "integer"
        },
        {
         "name": "ARRSTN_DUS",
         "rawType": "int32",
         "type": "integer"
        },
        {
         "name": "ARRSTN_EBL",
         "rawType": "int32",
         "type": "integer"
        },
        {
         "name": "ARRSTN_EBM",
         "rawType": "int32",
         "type": "integer"
        },
        {
         "name": "ARRSTN_ESB",
         "rawType": "int32",
         "type": "integer"
        },
        {
         "name": "ARRSTN_FBM",
         "rawType": "int32",
         "type": "integer"
        },
        {
         "name": "ARRSTN_FCO",
         "rawType": "int32",
         "type": "integer"
        },
        {
         "name": "ARRSTN_FIH",
         "rawType": "int32",
         "type": "integer"
        },
        {
         "name": "ARRSTN_FRA",
         "rawType": "int32",
         "type": "integer"
        },
        {
         "name": "ARRSTN_GAE",
         "rawType": "int32",
         "type": "integer"
        },
        {
         "name": "ARRSTN_GAF",
         "rawType": "int32",
         "type": "integer"
        },
        {
         "name": "ARRSTN_GHA",
         "rawType": "int32",
         "type": "integer"
        },
        {
         "name": "ARRSTN_GNB",
         "rawType": "int32",
         "type": "integer"
        },
        {
         "name": "ARRSTN_GVA",
         "rawType": "int32",
         "type": "integer"
        },
        {
         "name": "ARRSTN_HAJ",
         "rawType": "int32",
         "type": "integer"
        },
        {
         "name": "ARRSTN_HAM",
         "rawType": "int32",
         "type": "integer"
        },
        {
         "name": "ARRSTN_HBE",
         "rawType": "int32",
         "type": "integer"
        },
        {
         "name": "ARRSTN_IEV",
         "rawType": "int32",
         "type": "integer"
        },
        {
         "name": "ARRSTN_IST",
         "rawType": "int32",
         "type": "integer"
        },
        {
         "name": "ARRSTN_JED",
         "rawType": "int32",
         "type": "integer"
        },
        {
         "name": "ARRSTN_JIB",
         "rawType": "int32",
         "type": "integer"
        },
        {
         "name": "ARRSTN_KBP",
         "rawType": "int32",
         "type": "integer"
        },
        {
         "name": "ARRSTN_KGL",
         "rawType": "int32",
         "type": "integer"
        },
        {
         "name": "ARRSTN_KRR",
         "rawType": "int32",
         "type": "integer"
        },
        {
         "name": "ARRSTN_KRT",
         "rawType": "int32",
         "type": "integer"
        },
        {
         "name": "ARRSTN_KSC",
         "rawType": "int32",
         "type": "integer"
        },
        {
         "name": "ARRSTN_LAD",
         "rawType": "int32",
         "type": "integer"
        },
        {
         "name": "ARRSTN_LBV",
         "rawType": "int32",
         "type": "integer"
        },
        {
         "name": "ARRSTN_LED",
         "rawType": "int32",
         "type": "integer"
        },
        {
         "name": "ARRSTN_LFW",
         "rawType": "int32",
         "type": "integer"
        },
        {
         "name": "ARRSTN_LGW",
         "rawType": "int32",
         "type": "integer"
        },
        {
         "name": "ARRSTN_LHR",
         "rawType": "int32",
         "type": "integer"
        },
        {
         "name": "ARRSTN_LIL",
         "rawType": "int32",
         "type": "integer"
        },
        {
         "name": "ARRSTN_LIS",
         "rawType": "int32",
         "type": "integer"
        },
        {
         "name": "ARRSTN_LJU",
         "rawType": "int32",
         "type": "integer"
        },
        {
         "name": "ARRSTN_LUX",
         "rawType": "int32",
         "type": "integer"
        },
        {
         "name": "ARRSTN_LYS",
         "rawType": "int32",
         "type": "integer"
        },
        {
         "name": "ARRSTN_MAD",
         "rawType": "int32",
         "type": "integer"
        },
        {
         "name": "ARRSTN_MED",
         "rawType": "int32",
         "type": "integer"
        },
        {
         "name": "ARRSTN_MIR",
         "rawType": "int32",
         "type": "integer"
        },
        {
         "name": "ARRSTN_MLA",
         "rawType": "int32",
         "type": "integer"
        },
        {
         "name": "ARRSTN_MRS",
         "rawType": "int32",
         "type": "integer"
        },
        {
         "name": "ARRSTN_MUC",
         "rawType": "int32",
         "type": "integer"
        },
        {
         "name": "ARRSTN_MVB",
         "rawType": "int32",
         "type": "integer"
        },
        {
         "name": "ARRSTN_MXP",
         "rawType": "int32",
         "type": "integer"
        },
        {
         "name": "ARRSTN_NAP",
         "rawType": "int32",
         "type": "integer"
        },
        {
         "name": "ARRSTN_NBE",
         "rawType": "int32",
         "type": "integer"
        },
        {
         "name": "ARRSTN_NCE",
         "rawType": "int32",
         "type": "integer"
        },
        {
         "name": "ARRSTN_NDR",
         "rawType": "int32",
         "type": "integer"
        },
        {
         "name": "ARRSTN_NIM",
         "rawType": "int32",
         "type": "integer"
        },
        {
         "name": "ARRSTN_NKC",
         "rawType": "int32",
         "type": "integer"
        },
        {
         "name": "ARRSTN_NTE",
         "rawType": "int32",
         "type": "integer"
        },
        {
         "name": "ARRSTN_OPO",
         "rawType": "int32",
         "type": "integer"
        },
        {
         "name": "ARRSTN_ORN",
         "rawType": "int32",
         "type": "integer"
        },
        {
         "name": "ARRSTN_ORY",
         "rawType": "int32",
         "type": "integer"
        },
        {
         "name": "ARRSTN_OSR",
         "rawType": "int32",
         "type": "integer"
        },
        {
         "name": "ARRSTN_OST",
         "rawType": "int32",
         "type": "integer"
        },
        {
         "name": "ARRSTN_OTP",
         "rawType": "int32",
         "type": "integer"
        },
        {
         "name": "ARRSTN_OUA",
         "rawType": "int32",
         "type": "integer"
        },
        {
         "name": "ARRSTN_OUD",
         "rawType": "int32",
         "type": "integer"
        },
        {
         "name": "ARRSTN_PMO",
         "rawType": "int32",
         "type": "integer"
        },
        {
         "name": "ARRSTN_PRG",
         "rawType": "int32",
         "type": "integer"
        },
        {
         "name": "ARRSTN_PSA",
         "rawType": "int32",
         "type": "integer"
        },
        {
         "name": "ARRSTN_RAK",
         "rawType": "int32",
         "type": "integer"
        },
        {
         "name": "ARRSTN_RTM",
         "rawType": "int32",
         "type": "integer"
        },
        {
         "name": "ARRSTN_SFA",
         "rawType": "int32",
         "type": "integer"
        },
        {
         "name": "ARRSTN_SJJ",
         "rawType": "int32",
         "type": "integer"
        },
        {
         "name": "ARRSTN_SKG",
         "rawType": "int32",
         "type": "integer"
        },
        {
         "name": "ARRSTN_SKX",
         "rawType": "int32",
         "type": "integer"
        },
        {
         "name": "ARRSTN_SVO",
         "rawType": "int32",
         "type": "integer"
        },
        {
         "name": "ARRSTN_SXB",
         "rawType": "int32",
         "type": "integer"
        },
        {
         "name": "ARRSTN_SXF",
         "rawType": "int32",
         "type": "integer"
        },
        {
         "name": "ARRSTN_TBJ",
         "rawType": "int32",
         "type": "integer"
        },
        {
         "name": "ARRSTN_TLS",
         "rawType": "int32",
         "type": "integer"
        },
        {
         "name": "ARRSTN_TMR",
         "rawType": "int32",
         "type": "integer"
        },
        {
         "name": "ARRSTN_TNG",
         "rawType": "int32",
         "type": "integer"
        },
        {
         "name": "ARRSTN_TOE",
         "rawType": "int32",
         "type": "integer"
        },
        {
         "name": "ARRSTN_TPS",
         "rawType": "int32",
         "type": "integer"
        },
        {
         "name": "ARRSTN_TRN",
         "rawType": "int32",
         "type": "integer"
        },
        {
         "name": "ARRSTN_TUN",
         "rawType": "int32",
         "type": "integer"
        },
        {
         "name": "ARRSTN_VCE",
         "rawType": "int32",
         "type": "integer"
        },
        {
         "name": "ARRSTN_VIE",
         "rawType": "int32",
         "type": "integer"
        },
        {
         "name": "ARRSTN_VKO",
         "rawType": "int32",
         "type": "integer"
        },
        {
         "name": "ARRSTN_VNO",
         "rawType": "int32",
         "type": "integer"
        },
        {
         "name": "ARRSTN_VOG",
         "rawType": "int32",
         "type": "integer"
        },
        {
         "name": "ARRSTN_VRN",
         "rawType": "int32",
         "type": "integer"
        },
        {
         "name": "ARRSTN_YUL",
         "rawType": "int32",
         "type": "integer"
        },
        {
         "name": "ARRSTN_ZRH",
         "rawType": "int32",
         "type": "integer"
        }
       ],
       "conversionMethod": "pd.DataFrame",
       "ref": "61517a9d-645d-4c6f-9a51-d46a95f8d51a",
       "rows": [
        [
         "0",
         "train_id_0",
         "2016-01-03 00:00:00",
         "TU 0712 ",
         "CMN",
         "TUN",
         "2016-01-03 10:30:00",
         "2016-01-03 12:55:00",
         "ATA",
         "TU 32AIMN",
         "260.0",
         "TU",
         "0712",
         "TU",
         "32AIMN",
         "2016",
         "1",
         "6",
         "10",
         "12",
         "145.0",
         "32A",
         "2",
         "41",
         "morning",
         "0",
         "1",
         "0",
         "0",
         "1",
         "0",
         "0",
         "0",
         "0",
         "0",
         "0",
         "0",
         "0",
         "0",
         "0",
         "0",
         "0",
         "0",
         "0",
         "0",
         "0",
         "0",
         "0",
         "0",
         "0",
         "0",
         "0",
         "0",
         "0",
         "0",
         "0",
         "0",
         "0",
         "0",
         "0",
         "0",
         "0",
         "0",
         "0",
         "0",
         "1",
         "0",
         "0",
         "0",
         "0",
         "0",
         "0",
         "0",
         "0",
         "0",
         "0",
         "0",
         "0",
         "0",
         "0",
         "0",
         "0",
         "0",
         "0",
         "0",
         "0",
         "0",
         "0",
         "0",
         "0",
         "0",
         "0",
         "0",
         "0",
         "0",
         "0",
         "0",
         "0",
         "0",
         "0",
         "0",
         "0",
         "0",
         "0",
         "0",
         "0",
         "0",
         "0",
         "0",
         "0",
         "0",
         "0",
         "0",
         "0",
         "0",
         "0",
         "0",
         "0",
         "0",
         "0",
         "0",
         "0",
         "0",
         "0",
         "0",
         "0",
         "0",
         "0",
         "0",
         "0",
         "0",
         "0",
         "0",
         "0",
         "0",
         "0",
         "0",
         "0",
         "0",
         "0",
         "0",
         "0",
         "0",
         "0",
         "0",
         "0",
         "0",
         "0",
         "0",
         "0",
         "0",
         "0",
         "0",
         "0",
         "0",
         "0",
         "0",
         "0",
         "0",
         "0",
         "0",
         "0",
         "0",
         "0",
         "0",
         "0",
         "0",
         "0",
         "0",
         "0",
         "0",
         "0",
         "0",
         "0",
         "0",
         "0",
         "0",
         "0",
         "0",
         "0",
         "0",
         "0",
         "0",
         "0",
         "0",
         "0",
         "0",
         "0",
         "0",
         "0",
         "0",
         "0",
         "0",
         "0",
         "0",
         "0",
         "0",
         "0",
         "0",
         "0",
         "0",
         "0",
         "0",
         "0",
         "0",
         "0",
         "0",
         "0",
         "0",
         "0",
         "0",
         "0",
         "0",
         "0",
         "0",
         "0",
         "0",
         "0",
         "0",
         "0",
         "0",
         "0",
         "0",
         "0",
         "0",
         "0",
         "0",
         "0",
         "0",
         "0",
         "0",
         "0",
         "0",
         "0",
         "0",
         "0",
         "0",
         "0",
         "0",
         "0",
         "0",
         "0",
         "0",
         "0",
         "0",
         "0",
         "0",
         "0",
         "0",
         "0",
         "0",
         "0",
         "0",
         "0",
         "0",
         "0",
         "0",
         "0",
         "0",
         "0",
         "0",
         "0",
         "0",
         "0",
         "0",
         "0",
         "0",
         "0",
         "0",
         "0",
         "0",
         "0",
         "0",
         "0",
         "0",
         "0",
         "0",
         "0",
         "0",
         "0",
         "0",
         "0",
         "0",
         "0",
         "0",
         "1",
         "0",
         "0",
         "0",
         "0",
         "0",
         "0",
         "0",
         "0"
        ],
        [
         "1",
         "train_id_1",
         "2016-01-13 00:00:00",
         "TU 0757 ",
         "MXP",
         "TUN",
         "2016-01-13 15:05:00",
         "2016-01-13 16:55:00",
         "ATA",
         "TU 31BIMO",
         "20.0",
         "TU",
         "0757",
         "TU",
         "31BIMO",
         "2016",
         "1",
         "2",
         "15",
         "16",
         "110.0",
         "31B",
         "1",
         "39",
         "noon",
         "0",
         "0",
         "0",
         "1",
         "1",
         "0",
         "0",
         "0",
         "0",
         "0",
         "0",
         "0",
         "0",
         "0",
         "0",
         "0",
         "0",
         "0",
         "0",
         "0",
         "0",
         "0",
         "0",
         "0",
         "0",
         "0",
         "0",
         "0",
         "0",
         "0",
         "0",
         "0",
         "0",
         "0",
         "0",
         "0",
         "0",
         "0",
         "0",
         "0",
         "0",
         "0",
         "0",
         "0",
         "0",
         "0",
         "0",
         "0",
         "0",
         "0",
         "0",
         "0",
         "0",
         "0",
         "0",
         "0",
         "0",
         "0",
         "0",
         "0",
         "0",
         "0",
         "0",
         "0",
         "0",
         "0",
         "0",
         "0",
         "0",
         "0",
         "0",
         "0",
         "0",
         "0",
         "0",
         "0",
         "0",
         "0",
         "0",
         "0",
         "0",
         "0",
         "0",
         "0",
         "0",
         "0",
         "0",
         "0",
         "0",
         "0",
         "0",
         "0",
         "0",
         "0",
         "0",
         "1",
         "0",
         "0",
         "0",
         "0",
         "0",
         "0",
         "0",
         "0",
         "0",
         "0",
         "0",
         "0",
         "0",
         "0",
         "0",
         "0",
         "0",
         "0",
         "0",
         "0",
         "0",
         "0",
         "0",
         "0",
         "0",
         "0",
         "0",
         "0",
         "0",
         "0",
         "0",
         "0",
         "0",
         "0",
         "0",
         "0",
         "0",
         "0",
         "0",
         "0",
         "0",
         "0",
         "0",
         "0",
         "0",
         "0",
         "0",
         "0",
         "0",
         "0",
         "0",
         "0",
         "0",
         "0",
         "0",
         "0",
         "0",
         "0",
         "0",
         "0",
         "0",
         "0",
         "0",
         "0",
         "0",
         "0",
         "0",
         "0",
         "0",
         "0",
         "0",
         "0",
         "0",
         "0",
         "0",
         "0",
         "0",
         "0",
         "0",
         "0",
         "0",
         "0",
         "0",
         "0",
         "0",
         "0",
         "0",
         "0",
         "0",
         "0",
         "0",
         "0",
         "0",
         "0",
         "0",
         "0",
         "0",
         "0",
         "0",
         "0",
         "0",
         "0",
         "0",
         "0",
         "0",
         "0",
         "0",
         "0",
         "0",
         "0",
         "0",
         "0",
         "0",
         "0",
         "0",
         "0",
         "0",
         "0",
         "0",
         "0",
         "0",
         "0",
         "0",
         "0",
         "0",
         "0",
         "0",
         "0",
         "0",
         "0",
         "0",
         "0",
         "0",
         "0",
         "0",
         "0",
         "0",
         "0",
         "0",
         "0",
         "0",
         "0",
         "0",
         "0",
         "0",
         "0",
         "0",
         "0",
         "0",
         "0",
         "0",
         "0",
         "0",
         "0",
         "0",
         "0",
         "0",
         "0",
         "0",
         "0",
         "0",
         "0",
         "0",
         "0",
         "1",
         "0",
         "0",
         "0",
         "0",
         "0",
         "0",
         "0",
         "0"
        ],
        [
         "2",
         "train_id_2",
         "2016-01-16 00:00:00",
         "TU 0214 ",
         "TUN",
         "IST",
         "2016-01-16 04:10:00",
         "2016-01-16 06:45:00",
         "ATA",
         "TU 32AIMN",
         "0.0",
         "TU",
         "0214",
         "TU",
         "32AIMN",
         "2016",
         "1",
         "5",
         "4",
         "6",
         "155.0",
         "32A",
         "36",
         "2",
         "night",
         "0",
         "0",
         "1",
         "0",
         "1",
         "0",
         "0",
         "0",
         "0",
         "0",
         "0",
         "0",
         "0",
         "0",
         "0",
         "0",
         "0",
         "0",
         "0",
         "0",
         "0",
         "0",
         "0",
         "0",
         "0",
         "0",
         "0",
         "0",
         "0",
         "0",
         "0",
         "0",
         "0",
         "0",
         "0",
         "0",
         "0",
         "0",
         "0",
         "0",
         "0",
         "0",
         "0",
         "0",
         "0",
         "0",
         "0",
         "0",
         "0",
         "0",
         "0",
         "0",
         "0",
         "0",
         "0",
         "0",
         "0",
         "0",
         "0",
         "0",
         "0",
         "0",
         "0",
         "0",
         "0",
         "0",
         "0",
         "0",
         "0",
         "0",
         "0",
         "0",
         "0",
         "0",
         "0",
         "0",
         "0",
         "0",
         "0",
         "0",
         "0",
         "0",
         "0",
         "0",
         "0",
         "0",
         "0",
         "0",
         "0",
         "0",
         "0",
         "0",
         "0",
         "0",
         "0",
         "0",
         "0",
         "0",
         "0",
         "0",
         "0",
         "0",
         "0",
         "0",
         "0",
         "0",
         "0",
         "0",
         "0",
         "0",
         "0",
         "0",
         "0",
         "0",
         "0",
         "0",
         "0",
         "0",
         "0",
         "0",
         "0",
         "0",
         "0",
         "0",
         "0",
         "0",
         "0",
         "0",
         "0",
         "0",
         "0",
         "0",
         "1",
         "0",
         "0",
         "0",
         "0",
         "0",
         "0",
         "0",
         "0",
         "0",
         "0",
         "0",
         "0",
         "0",
         "0",
         "0",
         "0",
         "0",
         "0",
         "0",
         "0",
         "0",
         "0",
         "0",
         "0",
         "0",
         "0",
         "0",
         "0",
         "0",
         "0",
         "0",
         "0",
         "0",
         "0",
         "0",
         "0",
         "0",
         "0",
         "0",
         "0",
         "0",
         "0",
         "0",
         "0",
         "0",
         "0",
         "0",
         "0",
         "0",
         "0",
         "0",
         "0",
         "0",
         "0",
         "0",
         "0",
         "0",
         "0",
         "0",
         "0",
         "0",
         "0",
         "0",
         "0",
         "0",
         "0",
         "1",
         "0",
         "0",
         "0",
         "0",
         "0",
         "0",
         "0",
         "0",
         "0",
         "0",
         "0",
         "0",
         "0",
         "0",
         "0",
         "0",
         "0",
         "0",
         "0",
         "0",
         "0",
         "0",
         "0",
         "0",
         "0",
         "0",
         "0",
         "0",
         "0",
         "0",
         "0",
         "0",
         "0",
         "0",
         "0",
         "0",
         "0",
         "0",
         "0",
         "0",
         "0",
         "0",
         "0",
         "0",
         "0",
         "0",
         "0",
         "0",
         "0",
         "0",
         "0",
         "0",
         "0",
         "0",
         "0",
         "0",
         "0",
         "0",
         "0",
         "0",
         "0",
         "0",
         "0",
         "0",
         "0",
         "0",
         "0",
         "0",
         "0"
        ],
        [
         "3",
         "train_id_3",
         "2016-01-17 00:00:00",
         "TU 0480 ",
         "DJE",
         "NTE",
         "2016-01-17 14:10:00",
         "2016-01-17 17:00:00",
         "ATA",
         "TU 736IOK",
         "0.0",
         "TU",
         "0480",
         "TU",
         "736IOK",
         "2016",
         "1",
         "6",
         "14",
         "17",
         "170.0",
         "736",
         "11",
         "2",
         "noon",
         "0",
         "0",
         "0",
         "1",
         "1",
         "0",
         "0",
         "0",
         "0",
         "0",
         "0",
         "0",
         "0",
         "0",
         "0",
         "0",
         "0",
         "0",
         "0",
         "0",
         "0",
         "0",
         "0",
         "0",
         "0",
         "0",
         "0",
         "0",
         "0",
         "0",
         "0",
         "0",
         "0",
         "0",
         "0",
         "0",
         "0",
         "0",
         "0",
         "0",
         "0",
         "0",
         "0",
         "0",
         "0",
         "0",
         "1",
         "0",
         "0",
         "0",
         "0",
         "0",
         "0",
         "0",
         "0",
         "0",
         "0",
         "0",
         "0",
         "0",
         "0",
         "0",
         "0",
         "0",
         "0",
         "0",
         "0",
         "0",
         "0",
         "0",
         "0",
         "0",
         "0",
         "0",
         "0",
         "0",
         "0",
         "0",
         "0",
         "0",
         "0",
         "0",
         "0",
         "0",
         "0",
         "0",
         "0",
         "0",
         "0",
         "0",
         "0",
         "0",
         "0",
         "0",
         "0",
         "0",
         "0",
         "0",
         "0",
         "0",
         "0",
         "0",
         "0",
         "0",
         "0",
         "0",
         "0",
         "0",
         "0",
         "0",
         "0",
         "0",
         "0",
         "0",
         "0",
         "0",
         "0",
         "0",
         "0",
         "0",
         "0",
         "0",
         "0",
         "0",
         "0",
         "0",
         "0",
         "0",
         "0",
         "0",
         "0",
         "0",
         "0",
         "0",
         "0",
         "0",
         "0",
         "0",
         "0",
         "0",
         "0",
         "0",
         "0",
         "0",
         "0",
         "0",
         "0",
         "0",
         "0",
         "0",
         "0",
         "0",
         "0",
         "0",
         "0",
         "0",
         "0",
         "0",
         "0",
         "0",
         "0",
         "0",
         "0",
         "0",
         "0",
         "0",
         "0",
         "0",
         "0",
         "0",
         "0",
         "0",
         "0",
         "0",
         "0",
         "0",
         "0",
         "0",
         "0",
         "0",
         "0",
         "0",
         "0",
         "0",
         "0",
         "0",
         "0",
         "0",
         "0",
         "0",
         "0",
         "0",
         "0",
         "0",
         "0",
         "0",
         "0",
         "0",
         "0",
         "0",
         "0",
         "0",
         "0",
         "0",
         "0",
         "0",
         "0",
         "0",
         "0",
         "0",
         "0",
         "0",
         "0",
         "0",
         "0",
         "0",
         "0",
         "0",
         "0",
         "0",
         "0",
         "0",
         "0",
         "0",
         "0",
         "0",
         "0",
         "0",
         "0",
         "0",
         "0",
         "0",
         "1",
         "0",
         "0",
         "0",
         "0",
         "0",
         "0",
         "0",
         "0",
         "0",
         "0",
         "0",
         "0",
         "0",
         "0",
         "0",
         "0",
         "0",
         "0",
         "0",
         "0",
         "0",
         "0",
         "0",
         "0",
         "0",
         "0",
         "0",
         "0",
         "0",
         "0",
         "0",
         "0",
         "0",
         "0",
         "0",
         "0"
        ],
        [
         "4",
         "train_id_4",
         "2016-01-17 00:00:00",
         "TU 0338 ",
         "TUN",
         "ALG",
         "2016-01-17 14:30:00",
         "2016-01-17 15:50:00",
         "ATA",
         "TU 320IMU",
         "22.0",
         "TU",
         "0338",
         "TU",
         "320IMU",
         "2016",
         "1",
         "6",
         "14",
         "15",
         "80.0",
         "320",
         "40",
         "2",
         "noon",
         "0",
         "0",
         "0",
         "1",
         "1",
         "0",
         "0",
         "0",
         "0",
         "0",
         "0",
         "0",
         "0",
         "0",
         "0",
         "0",
         "0",
         "0",
         "0",
         "0",
         "0",
         "0",
         "0",
         "0",
         "0",
         "0",
         "0",
         "0",
         "0",
         "0",
         "0",
         "0",
         "0",
         "0",
         "0",
         "0",
         "0",
         "0",
         "0",
         "0",
         "0",
         "0",
         "0",
         "0",
         "0",
         "0",
         "0",
         "0",
         "0",
         "0",
         "0",
         "0",
         "0",
         "0",
         "0",
         "0",
         "0",
         "0",
         "0",
         "0",
         "0",
         "0",
         "0",
         "0",
         "0",
         "0",
         "0",
         "0",
         "0",
         "0",
         "0",
         "0",
         "0",
         "0",
         "0",
         "0",
         "0",
         "0",
         "0",
         "0",
         "0",
         "0",
         "0",
         "0",
         "0",
         "0",
         "0",
         "0",
         "0",
         "0",
         "0",
         "0",
         "0",
         "0",
         "0",
         "0",
         "0",
         "0",
         "0",
         "0",
         "0",
         "0",
         "0",
         "0",
         "0",
         "0",
         "0",
         "0",
         "0",
         "0",
         "0",
         "0",
         "0",
         "0",
         "0",
         "0",
         "0",
         "0",
         "0",
         "0",
         "0",
         "0",
         "0",
         "0",
         "0",
         "0",
         "0",
         "0",
         "0",
         "0",
         "0",
         "0",
         "1",
         "0",
         "0",
         "0",
         "0",
         "0",
         "0",
         "0",
         "0",
         "0",
         "0",
         "0",
         "0",
         "1",
         "0",
         "0",
         "0",
         "0",
         "0",
         "0",
         "0",
         "0",
         "0",
         "0",
         "0",
         "0",
         "0",
         "0",
         "0",
         "0",
         "0",
         "0",
         "0",
         "0",
         "0",
         "0",
         "0",
         "0",
         "0",
         "0",
         "0",
         "0",
         "0",
         "0",
         "0",
         "0",
         "0",
         "0",
         "0",
         "0",
         "0",
         "0",
         "0",
         "0",
         "0",
         "0",
         "0",
         "0",
         "0",
         "0",
         "0",
         "0",
         "0",
         "0",
         "0",
         "0",
         "0",
         "0",
         "0",
         "0",
         "0",
         "0",
         "0",
         "0",
         "0",
         "0",
         "0",
         "0",
         "0",
         "0",
         "0",
         "0",
         "0",
         "0",
         "0",
         "0",
         "0",
         "0",
         "0",
         "0",
         "0",
         "0",
         "0",
         "0",
         "0",
         "0",
         "0",
         "0",
         "0",
         "0",
         "0",
         "0",
         "0",
         "0",
         "0",
         "0",
         "0",
         "0",
         "0",
         "0",
         "0",
         "0",
         "0",
         "0",
         "0",
         "0",
         "0",
         "0",
         "0",
         "0",
         "0",
         "0",
         "0",
         "0",
         "0",
         "0",
         "0",
         "0",
         "0",
         "0",
         "0",
         "0",
         "0",
         "0",
         "0",
         "0",
         "0"
        ]
       ],
       "shape": {
        "columns": 293,
        "rows": 5
       }
      },
      "text/html": [
       "<div>\n",
       "<style scoped>\n",
       "    .dataframe tbody tr th:only-of-type {\n",
       "        vertical-align: middle;\n",
       "    }\n",
       "\n",
       "    .dataframe tbody tr th {\n",
       "        vertical-align: top;\n",
       "    }\n",
       "\n",
       "    .dataframe thead th {\n",
       "        text-align: right;\n",
       "    }\n",
       "</style>\n",
       "<table border=\"1\" class=\"dataframe\">\n",
       "  <thead>\n",
       "    <tr style=\"text-align: right;\">\n",
       "      <th></th>\n",
       "      <th>ID</th>\n",
       "      <th>DATOP</th>\n",
       "      <th>FLTID</th>\n",
       "      <th>DEPSTN</th>\n",
       "      <th>ARRSTN</th>\n",
       "      <th>STD</th>\n",
       "      <th>STA</th>\n",
       "      <th>STATUS</th>\n",
       "      <th>AC</th>\n",
       "      <th>target</th>\n",
       "      <th>...</th>\n",
       "      <th>ARRSTN_TRN</th>\n",
       "      <th>ARRSTN_TUN</th>\n",
       "      <th>ARRSTN_VCE</th>\n",
       "      <th>ARRSTN_VIE</th>\n",
       "      <th>ARRSTN_VKO</th>\n",
       "      <th>ARRSTN_VNO</th>\n",
       "      <th>ARRSTN_VOG</th>\n",
       "      <th>ARRSTN_VRN</th>\n",
       "      <th>ARRSTN_YUL</th>\n",
       "      <th>ARRSTN_ZRH</th>\n",
       "    </tr>\n",
       "  </thead>\n",
       "  <tbody>\n",
       "    <tr>\n",
       "      <th>0</th>\n",
       "      <td>train_id_0</td>\n",
       "      <td>2016-01-03</td>\n",
       "      <td>TU 0712</td>\n",
       "      <td>CMN</td>\n",
       "      <td>TUN</td>\n",
       "      <td>2016-01-03 10:30:00</td>\n",
       "      <td>2016-01-03 12:55:00</td>\n",
       "      <td>ATA</td>\n",
       "      <td>TU 32AIMN</td>\n",
       "      <td>260.0</td>\n",
       "      <td>...</td>\n",
       "      <td>0</td>\n",
       "      <td>1</td>\n",
       "      <td>0</td>\n",
       "      <td>0</td>\n",
       "      <td>0</td>\n",
       "      <td>0</td>\n",
       "      <td>0</td>\n",
       "      <td>0</td>\n",
       "      <td>0</td>\n",
       "      <td>0</td>\n",
       "    </tr>\n",
       "    <tr>\n",
       "      <th>1</th>\n",
       "      <td>train_id_1</td>\n",
       "      <td>2016-01-13</td>\n",
       "      <td>TU 0757</td>\n",
       "      <td>MXP</td>\n",
       "      <td>TUN</td>\n",
       "      <td>2016-01-13 15:05:00</td>\n",
       "      <td>2016-01-13 16:55:00</td>\n",
       "      <td>ATA</td>\n",
       "      <td>TU 31BIMO</td>\n",
       "      <td>20.0</td>\n",
       "      <td>...</td>\n",
       "      <td>0</td>\n",
       "      <td>1</td>\n",
       "      <td>0</td>\n",
       "      <td>0</td>\n",
       "      <td>0</td>\n",
       "      <td>0</td>\n",
       "      <td>0</td>\n",
       "      <td>0</td>\n",
       "      <td>0</td>\n",
       "      <td>0</td>\n",
       "    </tr>\n",
       "    <tr>\n",
       "      <th>2</th>\n",
       "      <td>train_id_2</td>\n",
       "      <td>2016-01-16</td>\n",
       "      <td>TU 0214</td>\n",
       "      <td>TUN</td>\n",
       "      <td>IST</td>\n",
       "      <td>2016-01-16 04:10:00</td>\n",
       "      <td>2016-01-16 06:45:00</td>\n",
       "      <td>ATA</td>\n",
       "      <td>TU 32AIMN</td>\n",
       "      <td>0.0</td>\n",
       "      <td>...</td>\n",
       "      <td>0</td>\n",
       "      <td>0</td>\n",
       "      <td>0</td>\n",
       "      <td>0</td>\n",
       "      <td>0</td>\n",
       "      <td>0</td>\n",
       "      <td>0</td>\n",
       "      <td>0</td>\n",
       "      <td>0</td>\n",
       "      <td>0</td>\n",
       "    </tr>\n",
       "    <tr>\n",
       "      <th>3</th>\n",
       "      <td>train_id_3</td>\n",
       "      <td>2016-01-17</td>\n",
       "      <td>TU 0480</td>\n",
       "      <td>DJE</td>\n",
       "      <td>NTE</td>\n",
       "      <td>2016-01-17 14:10:00</td>\n",
       "      <td>2016-01-17 17:00:00</td>\n",
       "      <td>ATA</td>\n",
       "      <td>TU 736IOK</td>\n",
       "      <td>0.0</td>\n",
       "      <td>...</td>\n",
       "      <td>0</td>\n",
       "      <td>0</td>\n",
       "      <td>0</td>\n",
       "      <td>0</td>\n",
       "      <td>0</td>\n",
       "      <td>0</td>\n",
       "      <td>0</td>\n",
       "      <td>0</td>\n",
       "      <td>0</td>\n",
       "      <td>0</td>\n",
       "    </tr>\n",
       "    <tr>\n",
       "      <th>4</th>\n",
       "      <td>train_id_4</td>\n",
       "      <td>2016-01-17</td>\n",
       "      <td>TU 0338</td>\n",
       "      <td>TUN</td>\n",
       "      <td>ALG</td>\n",
       "      <td>2016-01-17 14:30:00</td>\n",
       "      <td>2016-01-17 15:50:00</td>\n",
       "      <td>ATA</td>\n",
       "      <td>TU 320IMU</td>\n",
       "      <td>22.0</td>\n",
       "      <td>...</td>\n",
       "      <td>0</td>\n",
       "      <td>0</td>\n",
       "      <td>0</td>\n",
       "      <td>0</td>\n",
       "      <td>0</td>\n",
       "      <td>0</td>\n",
       "      <td>0</td>\n",
       "      <td>0</td>\n",
       "      <td>0</td>\n",
       "      <td>0</td>\n",
       "    </tr>\n",
       "  </tbody>\n",
       "</table>\n",
       "<p>5 rows × 293 columns</p>\n",
       "</div>"
      ],
      "text/plain": [
       "           ID      DATOP     FLTID DEPSTN ARRSTN                 STD   \n",
       "0  train_id_0 2016-01-03  TU 0712     CMN    TUN 2016-01-03 10:30:00  \\\n",
       "1  train_id_1 2016-01-13  TU 0757     MXP    TUN 2016-01-13 15:05:00   \n",
       "2  train_id_2 2016-01-16  TU 0214     TUN    IST 2016-01-16 04:10:00   \n",
       "3  train_id_3 2016-01-17  TU 0480     DJE    NTE 2016-01-17 14:10:00   \n",
       "4  train_id_4 2016-01-17  TU 0338     TUN    ALG 2016-01-17 14:30:00   \n",
       "\n",
       "                  STA STATUS         AC  target  ... ARRSTN_TRN ARRSTN_TUN   \n",
       "0 2016-01-03 12:55:00    ATA  TU 32AIMN   260.0  ...          0          1  \\\n",
       "1 2016-01-13 16:55:00    ATA  TU 31BIMO    20.0  ...          0          1   \n",
       "2 2016-01-16 06:45:00    ATA  TU 32AIMN     0.0  ...          0          0   \n",
       "3 2016-01-17 17:00:00    ATA  TU 736IOK     0.0  ...          0          0   \n",
       "4 2016-01-17 15:50:00    ATA  TU 320IMU    22.0  ...          0          0   \n",
       "\n",
       "  ARRSTN_VCE ARRSTN_VIE  ARRSTN_VKO  ARRSTN_VNO  ARRSTN_VOG  ARRSTN_VRN   \n",
       "0          0          0           0           0           0           0  \\\n",
       "1          0          0           0           0           0           0   \n",
       "2          0          0           0           0           0           0   \n",
       "3          0          0           0           0           0           0   \n",
       "4          0          0           0           0           0           0   \n",
       "\n",
       "   ARRSTN_YUL  ARRSTN_ZRH  \n",
       "0           0           0  \n",
       "1           0           0  \n",
       "2           0           0  \n",
       "3           0           0  \n",
       "4           0           0  \n",
       "\n",
       "[5 rows x 293 columns]"
      ]
     },
     "execution_count": 327,
     "metadata": {},
     "output_type": "execute_result"
    }
   ],
   "source": [
    "df_train[\"STA\"] = df_train['STA'].str.replace(\".\", \":\")\n",
    "df_train[\"STA\"] = pd.to_datetime(df_train[\"STA\"])\n",
    "df_train[\"STD\"] = pd.to_datetime(df_train[\"STD\"])\n",
    "df_train[\"DATOP\"] = pd.to_datetime(df_train[\"DATOP\"], format='%Y-%m-%d')\n",
    "\n",
    "df_train[\"airline_code\"] = df_train['FLTID'].str.split(' ').str[0]\n",
    "df_train[\"flt_num\"] = df_train['FLTID'].str.split(' ').str[1]\n",
    "df_train[\"AC_airline_code\"] = df_train['AC'].str.split(' ').str[0]\n",
    "df_train[\"AC_num\"] = df_train['AC'].str.split(' ').str[1]\n",
    "df_train[\"STD_year\"] = df_train['STD'].dt.year\n",
    "df_train[\"STD_month\"] = df_train['STD'].dt.month\n",
    "df_train[\"STD_day\"] = df_train['STD'].dt.day_of_week\n",
    "df_train[\"STD_hour\"] = df_train['STD'].dt.hour\n",
    "df_train[\"STA_hour\"] = df_train['STA'].dt.hour\n",
    "df_train[\"DURATION\"] = (df_train.STA - df_train.STD) / timedelta(minutes = 1)\n",
    "df_train[\"plain\"] = df_train['AC'].str.split(' ').str[1].str[:3]\n",
    "datop_dep_counts = df_train.groupby(['DATOP', 'DEPSTN']).size()# Group by DATOP and DEPSTN and calculate the occurrences\n",
    "df_train['DATOP_DEP_count'] = df_train.set_index(['DATOP', 'DEPSTN']).index.map(datop_dep_counts)# Map the counts to a new column in df_train\n",
    "\n",
    "datop_arr_counts = df_train.groupby(['DATOP', 'ARRSTN']).size()# Group by DATOP and ARRST and calculate the occurrences\n",
    "df_train['DATOP_ARR_count'] = df_train.set_index(['DATOP', 'ARRSTN']).index.map(datop_arr_counts)# Map the counts to a new column in df_train\n",
    "\n",
    "# Define a function to categorize hours\n",
    "def categorize_hour(hour):\n",
    "    if 6 <= hour < 12:\n",
    "        return 'morning'\n",
    "    elif 12 <= hour < 18:\n",
    "        return 'noon'\n",
    "    elif 18 <= hour < 24:\n",
    "        return 'evening'\n",
    "    else:\n",
    "        return 'night'\n",
    "\n",
    "# Apply the function to categorize STD_hour and STA_hour\n",
    "df_train['STD_hour_category'] = df_train['STD_hour'].apply(categorize_hour)\n",
    "\n",
    "\n",
    "# hot-encode daytime one-hot encoding\n",
    "daytime = pd.get_dummies(df_train['STD_hour_category'], prefix='daytime', dtype = int)# not sure about dropping first\n",
    "\n",
    "# hot-encode status\n",
    "status = pd.get_dummies(df_train['STATUS'], prefix='status', dtype = int) # not sure about dropping first\n",
    "# hot-encode airports_dep\n",
    "airports_dep = pd.get_dummies(df_train['DEPSTN'], prefix='DEPSTN', dtype = int) # not sure about dropping first\n",
    "# hot-encode airports_arrv\n",
    "airports_arrv = pd.get_dummies(df_train['ARRSTN'], prefix='ARRSTN', dtype = int) # not sure about dropping first\n",
    "\n",
    "df_train = pd.concat([df_train, daytime,status, airports_dep, airports_arrv], axis=1)\n",
    "\n",
    "df_train.head()"
   ]
  },
  {
   "cell_type": "code",
   "execution_count": 328,
   "id": "3e7f9851",
   "metadata": {},
   "outputs": [],
   "source": [
    "# our dataframe contains of 10 columns and almost all of them are categorical.\n",
    "# besides each of the categorical features contains of many unique values.\n",
    "# we can not convert them into meaningful numbers, so we will use one hot encoding\n",
    "# we need to create a dataframe which will contain only relevant features, otherwise the amouunt of features will be too high. \n",
    "# Therefore we will start with few columns, look how the model going to perform and than add more columns.\n",
    "\n",
    "#it seems, that the most relevant columns are:\n",
    "\n",
    "# 1. Round\n",
    "\n",
    "# -month: since the country is very touristic, in certain months the number of flights is much higher than in others.\n",
    "     # easy to implement, since no hot encoding needed\n",
    "# - year: it seems that the delays incresed during the years \n",
    "     # easy to implement, since no hot encoding needed\n",
    "# - day\n",
    "    # easy to implement, since no hot encoding needed\n",
    "# - hour of departure and arrival: it seems that the delays are higher during the day than during the night. \n",
    "     # easy to implement, since no hot encoding needed\n",
    "# - duraion of the flight\n",
    "\n",
    "# 2. Round\n",
    "\n",
    "# -status: here the categories DEL and SCH always provide y = 0 ==> hot-encode them\n",
    "# -airports: it seems that the airport show a very different delay behaviour. There are a alot of them, and we still have to encode them.\n",
    "         # it might be interesting if there is an influence on the delay is identical for the same airport, regardless if it is the departure or arrival airport, would reduce the number of features\n",
    "\n",
    "\n",
    "\n",
    "\n",
    "# maybe we should include the number of flights per day, since it might be that the more flights are scheduled, the higher the delay is.\n",
    "     # additionally, it should be calculated for each airport\n",
    "\n",
    "# -daytime: as exprected during the noon the delays are much higher than during the night.\n",
    "         # next, we should check if there is the difference between daytime of departure and arrival\n",
    "         # include later, since easier to work with hour of departure and arrival, just 2 categories\n"
   ]
  },
  {
   "cell_type": "code",
   "execution_count": 329,
   "id": "e5edacc6",
   "metadata": {},
   "outputs": [
    {
     "data": {
      "text/plain": [
       "Index(['ID', 'DATOP', 'FLTID', 'DEPSTN', 'ARRSTN', 'STD', 'STA', 'STATUS',\n",
       "       'AC', 'target',\n",
       "       ...\n",
       "       'ARRSTN_TRN', 'ARRSTN_TUN', 'ARRSTN_VCE', 'ARRSTN_VIE', 'ARRSTN_VKO',\n",
       "       'ARRSTN_VNO', 'ARRSTN_VOG', 'ARRSTN_VRN', 'ARRSTN_YUL', 'ARRSTN_ZRH'],\n",
       "      dtype='object', length=293)"
      ]
     },
     "execution_count": 329,
     "metadata": {},
     "output_type": "execute_result"
    }
   ],
   "source": [
    "df_train.columns"
   ]
  },
  {
   "cell_type": "code",
   "execution_count": 330,
   "id": "2ea42345",
   "metadata": {},
   "outputs": [],
   "source": [
    "y = df_train['target']\n",
    "\n",
    "X = df_train[['STD_year', 'STD_month', 'STD_day', 'STD_hour', 'STA_hour', 'DURATION']]#no daytime, no STATUS\n",
    "#X = df_train[['STD_year', 'STD_month', 'STD_day', 'STD_hour', 'STA_hour', 'DURATION', 'status_ATA', 'status_DEL','status_DEP', 'status_RTR', 'status_SCH']]#no daytime\n",
    "#X = df_train[['STD_year', 'STD_month', 'STD_day', 'DURATION', 'daytime_morning','daytime_noon', 'daytime_evening','daytime_night']]#no hours, no STATUS"
   ]
  },
  {
   "cell_type": "code",
   "execution_count": 331,
   "id": "8dd2a581",
   "metadata": {},
   "outputs": [],
   "source": [
    "X_train, X_test, y_train, y_test = train_test_split(X, y, test_size=0.3, random_state=RSEED) # no stratify, since the target is not categorical"
   ]
  },
  {
   "cell_type": "code",
   "execution_count": 332,
   "id": "929e5113",
   "metadata": {},
   "outputs": [],
   "source": [
    "#y_train = np.log1p(y_train['target']) # should be done after splitting, we want influence the test set"
   ]
  },
  {
   "cell_type": "code",
   "execution_count": 333,
   "id": "aa505b72",
   "metadata": {},
   "outputs": [],
   "source": [
    "#get to know if some features are skewd and require transformation\n",
    "#sns.pairplot(X_train, diag_kind='kde')"
   ]
  },
  {
   "cell_type": "code",
   "execution_count": 334,
   "id": "cdd2544a",
   "metadata": {},
   "outputs": [],
   "source": [
    "# maybe try different scalers (minmax, standard or roubst)\n",
    "#shouldnt be used for decision trees, since thean the columns are gone and we wouldnt be able to to the feature importance analysis and to look at the decision tree\n",
    "scaler = RobustScaler()\n",
    "X_train = scaler.fit_transform(X_train)\n",
    "X_test = scaler.transform(X_test)"
   ]
  },
  {
   "cell_type": "code",
   "execution_count": 335,
   "id": "28a17711",
   "metadata": {},
   "outputs": [
    {
     "data": {
      "text/html": [
       "<style>#sk-container-id-20 {color: black;background-color: white;}#sk-container-id-20 pre{padding: 0;}#sk-container-id-20 div.sk-toggleable {background-color: white;}#sk-container-id-20 label.sk-toggleable__label {cursor: pointer;display: block;width: 100%;margin-bottom: 0;padding: 0.3em;box-sizing: border-box;text-align: center;}#sk-container-id-20 label.sk-toggleable__label-arrow:before {content: \"▸\";float: left;margin-right: 0.25em;color: #696969;}#sk-container-id-20 label.sk-toggleable__label-arrow:hover:before {color: black;}#sk-container-id-20 div.sk-estimator:hover label.sk-toggleable__label-arrow:before {color: black;}#sk-container-id-20 div.sk-toggleable__content {max-height: 0;max-width: 0;overflow: hidden;text-align: left;background-color: #f0f8ff;}#sk-container-id-20 div.sk-toggleable__content pre {margin: 0.2em;color: black;border-radius: 0.25em;background-color: #f0f8ff;}#sk-container-id-20 input.sk-toggleable__control:checked~div.sk-toggleable__content {max-height: 200px;max-width: 100%;overflow: auto;}#sk-container-id-20 input.sk-toggleable__control:checked~label.sk-toggleable__label-arrow:before {content: \"▾\";}#sk-container-id-20 div.sk-estimator input.sk-toggleable__control:checked~label.sk-toggleable__label {background-color: #d4ebff;}#sk-container-id-20 div.sk-label input.sk-toggleable__control:checked~label.sk-toggleable__label {background-color: #d4ebff;}#sk-container-id-20 input.sk-hidden--visually {border: 0;clip: rect(1px 1px 1px 1px);clip: rect(1px, 1px, 1px, 1px);height: 1px;margin: -1px;overflow: hidden;padding: 0;position: absolute;width: 1px;}#sk-container-id-20 div.sk-estimator {font-family: monospace;background-color: #f0f8ff;border: 1px dotted black;border-radius: 0.25em;box-sizing: border-box;margin-bottom: 0.5em;}#sk-container-id-20 div.sk-estimator:hover {background-color: #d4ebff;}#sk-container-id-20 div.sk-parallel-item::after {content: \"\";width: 100%;border-bottom: 1px solid gray;flex-grow: 1;}#sk-container-id-20 div.sk-label:hover label.sk-toggleable__label {background-color: #d4ebff;}#sk-container-id-20 div.sk-serial::before {content: \"\";position: absolute;border-left: 1px solid gray;box-sizing: border-box;top: 0;bottom: 0;left: 50%;z-index: 0;}#sk-container-id-20 div.sk-serial {display: flex;flex-direction: column;align-items: center;background-color: white;padding-right: 0.2em;padding-left: 0.2em;position: relative;}#sk-container-id-20 div.sk-item {position: relative;z-index: 1;}#sk-container-id-20 div.sk-parallel {display: flex;align-items: stretch;justify-content: center;background-color: white;position: relative;}#sk-container-id-20 div.sk-item::before, #sk-container-id-20 div.sk-parallel-item::before {content: \"\";position: absolute;border-left: 1px solid gray;box-sizing: border-box;top: 0;bottom: 0;left: 50%;z-index: -1;}#sk-container-id-20 div.sk-parallel-item {display: flex;flex-direction: column;z-index: 1;position: relative;background-color: white;}#sk-container-id-20 div.sk-parallel-item:first-child::after {align-self: flex-end;width: 50%;}#sk-container-id-20 div.sk-parallel-item:last-child::after {align-self: flex-start;width: 50%;}#sk-container-id-20 div.sk-parallel-item:only-child::after {width: 0;}#sk-container-id-20 div.sk-dashed-wrapped {border: 1px dashed gray;margin: 0 0.4em 0.5em 0.4em;box-sizing: border-box;padding-bottom: 0.4em;background-color: white;}#sk-container-id-20 div.sk-label label {font-family: monospace;font-weight: bold;display: inline-block;line-height: 1.2em;}#sk-container-id-20 div.sk-label-container {text-align: center;}#sk-container-id-20 div.sk-container {/* jupyter's `normalize.less` sets `[hidden] { display: none; }` but bootstrap.min.css set `[hidden] { display: none !important; }` so we also need the `!important` here to be able to override the default hidden behavior on the sphinx rendered scikit-learn.org. See: https://github.com/scikit-learn/scikit-learn/issues/21755 */display: inline-block !important;position: relative;}#sk-container-id-20 div.sk-text-repr-fallback {display: none;}</style><div id=\"sk-container-id-20\" class=\"sk-top-container\"><div class=\"sk-text-repr-fallback\"><pre>RandomForestRegressor(max_depth=20, max_features=&#x27;sqrt&#x27;, random_state=42)</pre><b>In a Jupyter environment, please rerun this cell to show the HTML representation or trust the notebook. <br />On GitHub, the HTML representation is unable to render, please try loading this page with nbviewer.org.</b></div><div class=\"sk-container\" hidden><div class=\"sk-item\"><div class=\"sk-estimator sk-toggleable\"><input class=\"sk-toggleable__control sk-hidden--visually\" id=\"sk-estimator-id-20\" type=\"checkbox\" checked><label for=\"sk-estimator-id-20\" class=\"sk-toggleable__label sk-toggleable__label-arrow\">RandomForestRegressor</label><div class=\"sk-toggleable__content\"><pre>RandomForestRegressor(max_depth=20, max_features=&#x27;sqrt&#x27;, random_state=42)</pre></div></div></div></div></div>"
      ],
      "text/plain": [
       "RandomForestRegressor(max_depth=20, max_features='sqrt', random_state=42)"
      ]
     },
     "execution_count": 335,
     "metadata": {},
     "output_type": "execute_result"
    }
   ],
   "source": [
    "#model_dtc = DecisionTreeRegressor(random_state=RSEED, max_depth=20)\n",
    "model_dtc = RandomForestRegressor(random_state=RSEED, n_estimators=100, max_depth=20, max_features='sqrt')\n",
    "model_dtc.fit(X_train, y_train)"
   ]
  },
  {
   "cell_type": "code",
   "execution_count": 336,
   "id": "70a153fb",
   "metadata": {},
   "outputs": [],
   "source": [
    "pred_test_dtc = model_dtc.predict(X_test)\n",
    "pred_train_dtc = model_dtc.predict(X_train)\n",
    "\n",
    "#pred_test_dtc = np.expm1(model_dtc.predict(X_test))\n",
    "#pred_train_dtc = np.expm1(model_dtc.predict(X_train))\n"
   ]
  },
  {
   "cell_type": "code",
   "execution_count": 337,
   "id": "1f59550b",
   "metadata": {},
   "outputs": [],
   "source": [
    "def calculate_metrics(y_train, y_pred_train, y_test, y_pred_test):\n",
    "    \"\"\"Calculate and print out RMSE and R2 for train and test data\n",
    "\n",
    "    Args:\n",
    "        y_train (array): true values of y_train\n",
    "        y_pred_train (array): predicted values of model for y_train\n",
    "        y_test (array): true values of y_test\n",
    "        y_pred_test (array): predicted values of model for y_test\n",
    "    \"\"\"\n",
    "\n",
    "    print(\"Metrics on training data\") \n",
    "    rmse = np.sqrt(mean_squared_error(y_train,y_pred_train))\n",
    "    r2 = r2_score(y_train,y_pred_train)\n",
    "    mae = mean_absolute_error(y_train,y_pred_train)\n",
    "    print(\"MAE: \", round(mae,3))\n",
    "    print(\"RMSE:\", round(rmse, 3))\n",
    "    print(\"R2:\", round(r2, 3))\n",
    "    print(\"---\"*10)\n",
    "    \n",
    "    # Calculate metric\n",
    "    print(\"Metrics on test data\")  \n",
    "    rmse = np.sqrt(mean_squared_error(y_test,y_pred_test))\n",
    "    r2 = r2_score(y_test,y_pred_test)\n",
    "    mae = mean_absolute_error(y_test,y_pred_test)\n",
    "    print(\"MAE: \", round(mae,3))\n",
    "    print(\"RMSE:\", round(rmse, 3))\n",
    "    print(\"R2:\", round(r2, 3))\n",
    "    print(\"---\"*10)\n",
    "\n",
    "    r2 = r2_score(y_test,y_pred_test)\n",
    "\n"
   ]
  },
  {
   "cell_type": "code",
   "execution_count": 338,
   "id": "ec5037a3",
   "metadata": {},
   "outputs": [
    {
     "name": "stdout",
     "output_type": "stream",
     "text": [
      "Metrics on training data\n",
      "MAE:  37.016\n",
      "RMSE: 84.51\n",
      "R2: 0.473\n",
      "------------------------------\n",
      "Metrics on test data\n",
      "MAE:  53.041\n",
      "RMSE: 123.807\n",
      "R2: -0.087\n",
      "------------------------------\n"
     ]
    }
   ],
   "source": [
    "#calculate_metrics(np.expm1(y_train), pred_train_dtc, np.expm1(y_test), pred_test_dtc)\n",
    "calculate_metrics(y_train, pred_train_dtc, y_test, pred_test_dtc)"
   ]
  },
  {
   "cell_type": "code",
   "execution_count": 340,
   "id": "b12d7594",
   "metadata": {},
   "outputs": [
    {
     "data": {
      "application/vnd.microsoft.datawrangler.viewer.v0+json": {
       "columns": [
        {
         "name": "index",
         "rawType": "int64",
         "type": "integer"
        },
        {
         "name": "feature",
         "rawType": "object",
         "type": "string"
        },
        {
         "name": "importance",
         "rawType": "float64",
         "type": "float"
        }
       ],
       "conversionMethod": "pd.DataFrame",
       "ref": "b390453e-8dc4-4865-a26d-9d553d1325e1",
       "rows": [
        [
         "5",
         "DURATION",
         "0.3122800336452825"
        ],
        [
         "1",
         "STD_month",
         "0.2495843713739167"
        ],
        [
         "2",
         "STD_day",
         "0.16661670600120676"
        ],
        [
         "4",
         "STA_hour",
         "0.10756367955701039"
        ],
        [
         "3",
         "STD_hour",
         "0.1016381115804913"
        ],
        [
         "0",
         "STD_year",
         "0.06231709784209234"
        ]
       ],
       "shape": {
        "columns": 2,
        "rows": 6
       }
      },
      "text/html": [
       "<div>\n",
       "<style scoped>\n",
       "    .dataframe tbody tr th:only-of-type {\n",
       "        vertical-align: middle;\n",
       "    }\n",
       "\n",
       "    .dataframe tbody tr th {\n",
       "        vertical-align: top;\n",
       "    }\n",
       "\n",
       "    .dataframe thead th {\n",
       "        text-align: right;\n",
       "    }\n",
       "</style>\n",
       "<table border=\"1\" class=\"dataframe\">\n",
       "  <thead>\n",
       "    <tr style=\"text-align: right;\">\n",
       "      <th></th>\n",
       "      <th>feature</th>\n",
       "      <th>importance</th>\n",
       "    </tr>\n",
       "  </thead>\n",
       "  <tbody>\n",
       "    <tr>\n",
       "      <th>5</th>\n",
       "      <td>DURATION</td>\n",
       "      <td>0.312280</td>\n",
       "    </tr>\n",
       "    <tr>\n",
       "      <th>1</th>\n",
       "      <td>STD_month</td>\n",
       "      <td>0.249584</td>\n",
       "    </tr>\n",
       "    <tr>\n",
       "      <th>2</th>\n",
       "      <td>STD_day</td>\n",
       "      <td>0.166617</td>\n",
       "    </tr>\n",
       "    <tr>\n",
       "      <th>4</th>\n",
       "      <td>STA_hour</td>\n",
       "      <td>0.107564</td>\n",
       "    </tr>\n",
       "    <tr>\n",
       "      <th>3</th>\n",
       "      <td>STD_hour</td>\n",
       "      <td>0.101638</td>\n",
       "    </tr>\n",
       "    <tr>\n",
       "      <th>0</th>\n",
       "      <td>STD_year</td>\n",
       "      <td>0.062317</td>\n",
       "    </tr>\n",
       "  </tbody>\n",
       "</table>\n",
       "</div>"
      ],
      "text/plain": [
       "     feature  importance\n",
       "5   DURATION    0.312280\n",
       "1  STD_month    0.249584\n",
       "2    STD_day    0.166617\n",
       "4   STA_hour    0.107564\n",
       "3   STD_hour    0.101638\n",
       "0   STD_year    0.062317"
      ]
     },
     "execution_count": 340,
     "metadata": {},
     "output_type": "execute_result"
    }
   ],
   "source": [
    "features = X.columns  # Use the column names of the original DataFrame X as features\n",
    "fi = pd.DataFrame({'feature': features,\n",
    "                   'importance': model_dtc.feature_importances_}).\\\n",
    "                    sort_values('importance', ascending=False)\n",
    "fi.head(10)\n"
   ]
  },
  {
   "cell_type": "code",
   "execution_count": 342,
   "id": "53a06c8a",
   "metadata": {},
   "outputs": [
    {
     "data": {
      "image/png": "[encoded data removed]",
      "text/plain": [
       "<Figure size 2500x2000 with 1 Axes>"
      ]
     },
     "metadata": {},
     "output_type": "display_data"
    }
   ],
   "source": [
    "# Extract the first decision tree from the RandomForestRegressor\n",
    "first_tree = model_dtc.estimators_[0]\n",
    "\n",
    "# Plot the first decision tree\n",
    "fig = plt.figure(figsize=(25, 20))\n",
    "dectree_plot = plot_tree(first_tree, max_depth=1, filled=True, feature_names=features)"
   ]
  },
  {
   "cell_type": "code",
   "execution_count": 273,
   "id": "b2aaea42",
   "metadata": {},
   "outputs": [
    {
     "data": {
      "image/png": "[encoded data removed]",
      "text/plain": [
       "<Figure size 1500x500 with 2 Axes>"
      ]
     },
     "metadata": {},
     "output_type": "display_data"
    }
   ],
   "source": [
    "# Calculate residuals\n",
    "residuals_train = y_train - pred_train_dtc\n",
    "\n",
    "# Plot true vs. predicted values and residuals\n",
    "fig, ax = plt.subplots(1, 2, figsize=(15, 5))\n",
    "plt.subplots_adjust(right=1)\n",
    "plt.suptitle('Error Analysis for Training Data')\n",
    "\n",
    "# True vs. predicted values\n",
    "ax[0].scatter(pred_train_dtc, y_train, color=\"#FF5A36\", alpha=0.7)\n",
    "ax[0].plot([y_train.min(), y_train.max()], [y_train.min(), y_train.max()], color=\"#193251\")\n",
    "ax[0].set_title(\"True vs. Predicted Values\", fontsize=16)\n",
    "ax[0].set_xlabel(\"Predicted Values\")\n",
    "ax[0].set_ylabel(\"True Values\")\n",
    "ax[0].set_xlim((pred_train_dtc.min() - 10), (pred_train_dtc.max() + 10))\n",
    "ax[0].set_ylim((y_train.min() - 40), (y_train.max() + 40))\n",
    "\n",
    "# Residual scatter plot\n",
    "ax[1].scatter(pred_train_dtc, residuals_train, color=\"#FF5A36\", alpha=0.7)\n",
    "ax[1].plot([pred_train_dtc.min(), pred_train_dtc.max()], [0, 0], color=\"#193251\")\n",
    "ax[1].set_title(\"Residual Scatter Plot\", fontsize=16)\n",
    "ax[1].set_xlabel(\"Predicted Values\")\n",
    "ax[1].set_ylabel(\"Residuals\")\n",
    "ax[1].set_xlim((pred_train_dtc.min() - 10), (pred_train_dtc.max() + 10))\n",
    "ax[1].set_ylim((residuals_train.min() - 10), (residuals_train.max() + 10))\n",
    "\n",
    "plt.show()"
   ]
  }
 ],
 "metadata": {
  "kernelspec": {
   "display_name": ".venv",
   "language": "python",
   "name": "python3"
  },
  "language_info": {
   "codemirror_mode": {
    "name": "ipython",
    "version": 3
   },
   "file_extension": ".py",
   "mimetype": "text/x-python",
   "name": "python",
   "nbconvert_exporter": "python",
   "pygments_lexer": "ipython3",
   "version": "3.11.3"
  }
 },
 "nbformat": 4,
 "nbformat_minor": 5
}
