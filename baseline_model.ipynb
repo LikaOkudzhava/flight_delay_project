{
 "cells": [
  {
   "cell_type": "markdown",
   "id": "855598fa",
   "metadata": {},
   "source": [
    "# Baseline model for flight delay"
   ]
  },
  {
   "cell_type": "code",
   "execution_count": 1,
   "id": "2e180b14",
   "metadata": {},
   "outputs": [],
   "source": [
    "    # Import packages\n",
    "import numpy as np\n",
    "import pandas as pd\n",
    "import seaborn as sns\n",
    "import matplotlib.pyplot as plt\n",
    "from datetime import datetime, date, time, timedelta\n",
    "\n",
    "import init\n",
    "import baseline_model as bm"
   ]
  },
  {
   "cell_type": "code",
   "execution_count": 2,
   "id": "aaf9981b",
   "metadata": {},
   "outputs": [],
   "source": [
    "# Load data\n",
    "df_train = init.load_data(\"train\")"
   ]
  },
  {
   "cell_type": "code",
   "execution_count": 3,
   "id": "ecfa91a3",
   "metadata": {},
   "outputs": [
    {
     "data": {
      "application/vnd.microsoft.datawrangler.viewer.v0+json": {
       "columns": [
        {
         "name": "index",
         "rawType": "int64",
         "type": "integer"
        },
        {
         "name": "STD",
         "rawType": "datetime64[ns]",
         "type": "datetime"
        },
        {
         "name": "STA",
         "rawType": "datetime64[ns]",
         "type": "datetime"
        },
        {
         "name": "DURATION",
         "rawType": "float64",
         "type": "float"
        },
        {
         "name": "target",
         "rawType": "float64",
         "type": "float"
        }
       ],
       "conversionMethod": "pd.DataFrame",
       "ref": "38ae0edb-e728-4c0a-93eb-09613c7e497d",
       "rows": [
        [
         "68355",
         "2017-05-19 05:00:00",
         "2018-09-30 21:00:00",
         "719520.0",
         "0.0"
        ],
        [
         "104441",
         "2018-09-30 22:00:00",
         "2019-11-20 21:00:00",
         "598980.0",
         "0.0"
        ],
        [
         "107433",
         "2018-11-16 21:00:00",
         "2019-12-24 21:00:00",
         "580320.0",
         "0.0"
        ],
        [
         "104084",
         "2018-03-25 00:00:00",
         "2019-03-31 00:00:00",
         "534240.0",
         "0.0"
        ],
        [
         "68102",
         "2017-03-26 00:00:00",
         "2018-03-25 00:00:00",
         "524160.0",
         "0.0"
        ],
        [
         "70616",
         "2017-12-14 21:00:00",
         "2018-09-07 21:00:00",
         "384480.0",
         "0.0"
        ],
        [
         "107595",
         "2018-03-29 07:00:00",
         "2018-12-18 12:00:00",
         "380460.0",
         "0.0"
        ],
        [
         "107288",
         "2018-10-30 21:00:00",
         "2019-07-12 14:00:00",
         "366780.0",
         "0.0"
        ],
        [
         "106294",
         "2018-02-05 05:00:00",
         "2018-08-29 12:00:00",
         "295620.0",
         "0.0"
        ],
        [
         "69431",
         "2017-04-03 14:00:00",
         "2017-10-23 09:00:00",
         "292020.0",
         "0.0"
        ],
        [
         "32170",
         "2016-11-29 00:00:00",
         "2017-04-26 21:00:00",
         "214380.0",
         "0.0"
        ],
        [
         "29624",
         "2016-11-05 00:00:00",
         "2017-03-28 09:00:00",
         "206460.0",
         "0.0"
        ],
        [
         "32867",
         "2016-09-17 00:00:00",
         "2017-01-17 15:00:00",
         "176580.0",
         "0.0"
        ],
        [
         "103746",
         "2018-10-16 07:00:00",
         "2019-02-15 13:00:00",
         "176040.0",
         "0.0"
        ],
        [
         "32176",
         "2016-11-21 00:00:00",
         "2017-03-17 11:00:00",
         "167700.0",
         "0.0"
        ],
        [
         "104376",
         "2018-10-25 07:00:00",
         "2019-02-18 07:00:00",
         "167040.0",
         "0.0"
        ],
        [
         "33985",
         "2016-01-11 14:00:00",
         "2016-05-06 08:00:00",
         "166680.0",
         "0.0"
        ],
        [
         "67552",
         "2017-10-30 05:00:00",
         "2018-02-20 15:00:00",
         "163320.0",
         "0.0"
        ],
        [
         "33275",
         "2016-01-25 14:00:00",
         "2016-05-16 19:48:00",
         "161628.0",
         "0.0"
        ],
        [
         "32088",
         "2016-04-11 00:00:00",
         "2016-07-16 07:00:00",
         "138660.0",
         "0.0"
        ],
        [
         "33084",
         "2016-09-07 00:00:00",
         "2016-12-05 00:00:00",
         "128160.0",
         "0.0"
        ],
        [
         "33910",
         "2016-04-07 00:00:00",
         "2016-06-30 09:00:00",
         "121500.0",
         "0.0"
        ],
        [
         "105536",
         "2018-01-10 14:00:00",
         "2018-03-29 07:00:00",
         "111900.0",
         "0.0"
        ],
        [
         "66974",
         "2017-01-23 21:00:00",
         "2017-04-06 05:00:00",
         "104160.0",
         "0.0"
        ],
        [
         "67519",
         "2017-11-08 12:30:00",
         "2018-01-11 21:00:00",
         "92670.0",
         "0.0"
        ],
        [
         "31313",
         "2016-11-05 13:00:00",
         "2016-12-25 23:00:00",
         "72600.0",
         "0.0"
        ],
        [
         "69433",
         "2017-06-30 18:00:00",
         "2017-08-10 12:30:00",
         "58710.0",
         "0.0"
        ],
        [
         "69783",
         "2017-05-10 09:00:00",
         "2017-06-14 00:00:00",
         "49860.0",
         "0.0"
        ],
        [
         "103737",
         "2018-01-15 05:00:00",
         "2018-02-15 18:00:00",
         "45420.0",
         "0.0"
        ],
        [
         "33720",
         "2016-03-13 18:00:00",
         "2016-04-14 06:00:00",
         "45360.0",
         "0.0"
        ],
        [
         "107060",
         "2018-02-26 05:00:00",
         "2018-03-29 06:45:00",
         "44745.0",
         "0.0"
        ],
        [
         "69030",
         "2017-05-29 13:00:00",
         "2017-06-29 13:00:00",
         "44640.0",
         "0.0"
        ],
        [
         "104785",
         "2018-04-16 05:00:00",
         "2018-05-16 13:00:00",
         "43680.0",
         "0.0"
        ],
        [
         "31105",
         "2016-02-28 00:00:00",
         "2016-03-26 21:00:00",
         "40140.0",
         "0.0"
        ],
        [
         "66489",
         "2017-04-10 00:00:00",
         "2017-05-06 15:30:00",
         "38370.0",
         "0.0"
        ],
        [
         "68902",
         "2017-05-02 07:00:00",
         "2017-05-27 11:00:00",
         "36240.0",
         "0.0"
        ],
        [
         "67098",
         "2017-10-16 05:00:00",
         "2017-11-10 01:00:00",
         "35760.0",
         "0.0"
        ],
        [
         "103973",
         "2018-12-03 07:00:00",
         "2018-12-25 10:00:00",
         "31860.0",
         "0.0"
        ],
        [
         "34000",
         "2016-06-14 07:00:00",
         "2016-07-02 11:00:00",
         "26160.0",
         "0.0"
        ],
        [
         "68727",
         "2017-01-07 00:00:00",
         "2017-01-24 11:00:00",
         "25140.0",
         "0.0"
        ],
        [
         "66712",
         "2017-08-10 11:00:00",
         "2017-08-27 05:00:00",
         "24120.0",
         "0.0"
        ],
        [
         "68599",
         "2017-06-14 00:00:00",
         "2017-06-30 14:00:00",
         "23880.0",
         "0.0"
        ],
        [
         "30320",
         "2016-12-05 00:00:00",
         "2016-12-20 13:00:00",
         "22380.0",
         "0.0"
        ],
        [
         "106878",
         "2018-02-26 05:00:00",
         "2018-03-13 14:00:00",
         "22140.0",
         "0.0"
        ],
        [
         "104948",
         "2018-03-19 09:30:00",
         "2018-04-03 13:00:00",
         "21810.0",
         "0.0"
        ],
        [
         "105227",
         "2018-03-26 05:00:00",
         "2018-04-07 16:00:00",
         "17940.0",
         "0.0"
        ],
        [
         "105773",
         "2018-05-21 05:00:00",
         "2018-06-02 12:40:00",
         "17740.0",
         "0.0"
        ],
        [
         "67683",
         "2017-08-30 15:00:00",
         "2017-09-11 07:00:00",
         "16800.0",
         "0.0"
        ],
        [
         "105029",
         "2018-11-05 07:00:00",
         "2018-11-16 17:30:00",
         "16470.0",
         "0.0"
        ],
        [
         "33510",
         "2016-06-13 07:00:00",
         "2016-06-24 15:00:00",
         "16320.0",
         "0.0"
        ]
       ],
       "shape": {
        "columns": 4,
        "rows": 107833
       }
      },
      "text/html": [
       "<div>\n",
       "<style scoped>\n",
       "    .dataframe tbody tr th:only-of-type {\n",
       "        vertical-align: middle;\n",
       "    }\n",
       "\n",
       "    .dataframe tbody tr th {\n",
       "        vertical-align: top;\n",
       "    }\n",
       "\n",
       "    .dataframe thead th {\n",
       "        text-align: right;\n",
       "    }\n",
       "</style>\n",
       "<table border=\"1\" class=\"dataframe\">\n",
       "  <thead>\n",
       "    <tr style=\"text-align: right;\">\n",
       "      <th></th>\n",
       "      <th>STD</th>\n",
       "      <th>STA</th>\n",
       "      <th>DURATION</th>\n",
       "      <th>target</th>\n",
       "    </tr>\n",
       "  </thead>\n",
       "  <tbody>\n",
       "    <tr>\n",
       "      <th>68355</th>\n",
       "      <td>2017-05-19 05:00:00</td>\n",
       "      <td>2018-09-30 21:00:00</td>\n",
       "      <td>719520.0</td>\n",
       "      <td>0.0</td>\n",
       "    </tr>\n",
       "    <tr>\n",
       "      <th>104441</th>\n",
       "      <td>2018-09-30 22:00:00</td>\n",
       "      <td>2019-11-20 21:00:00</td>\n",
       "      <td>598980.0</td>\n",
       "      <td>0.0</td>\n",
       "    </tr>\n",
       "    <tr>\n",
       "      <th>107433</th>\n",
       "      <td>2018-11-16 21:00:00</td>\n",
       "      <td>2019-12-24 21:00:00</td>\n",
       "      <td>580320.0</td>\n",
       "      <td>0.0</td>\n",
       "    </tr>\n",
       "    <tr>\n",
       "      <th>104084</th>\n",
       "      <td>2018-03-25 00:00:00</td>\n",
       "      <td>2019-03-31 00:00:00</td>\n",
       "      <td>534240.0</td>\n",
       "      <td>0.0</td>\n",
       "    </tr>\n",
       "    <tr>\n",
       "      <th>68102</th>\n",
       "      <td>2017-03-26 00:00:00</td>\n",
       "      <td>2018-03-25 00:00:00</td>\n",
       "      <td>524160.0</td>\n",
       "      <td>0.0</td>\n",
       "    </tr>\n",
       "    <tr>\n",
       "      <th>...</th>\n",
       "      <td>...</td>\n",
       "      <td>...</td>\n",
       "      <td>...</td>\n",
       "      <td>...</td>\n",
       "    </tr>\n",
       "    <tr>\n",
       "      <th>31899</th>\n",
       "      <td>2016-09-16 15:30:00</td>\n",
       "      <td>2016-09-16 15:40:00</td>\n",
       "      <td>10.0</td>\n",
       "      <td>0.0</td>\n",
       "    </tr>\n",
       "    <tr>\n",
       "      <th>31862</th>\n",
       "      <td>2016-04-13 12:30:00</td>\n",
       "      <td>2016-04-13 12:40:00</td>\n",
       "      <td>10.0</td>\n",
       "      <td>0.0</td>\n",
       "    </tr>\n",
       "    <tr>\n",
       "      <th>29655</th>\n",
       "      <td>2016-08-17 12:30:00</td>\n",
       "      <td>2016-08-17 12:40:00</td>\n",
       "      <td>10.0</td>\n",
       "      <td>0.0</td>\n",
       "    </tr>\n",
       "    <tr>\n",
       "      <th>29681</th>\n",
       "      <td>2016-08-14 12:30:00</td>\n",
       "      <td>2016-08-14 12:40:00</td>\n",
       "      <td>10.0</td>\n",
       "      <td>0.0</td>\n",
       "    </tr>\n",
       "    <tr>\n",
       "      <th>32635</th>\n",
       "      <td>2016-07-13 12:30:00</td>\n",
       "      <td>2016-07-13 12:40:00</td>\n",
       "      <td>10.0</td>\n",
       "      <td>0.0</td>\n",
       "    </tr>\n",
       "  </tbody>\n",
       "</table>\n",
       "<p>107833 rows × 4 columns</p>\n",
       "</div>"
      ],
      "text/plain": [
       "                       STD                 STA  DURATION  target\n",
       "68355  2017-05-19 05:00:00 2018-09-30 21:00:00  719520.0     0.0\n",
       "104441 2018-09-30 22:00:00 2019-11-20 21:00:00  598980.0     0.0\n",
       "107433 2018-11-16 21:00:00 2019-12-24 21:00:00  580320.0     0.0\n",
       "104084 2018-03-25 00:00:00 2019-03-31 00:00:00  534240.0     0.0\n",
       "68102  2017-03-26 00:00:00 2018-03-25 00:00:00  524160.0     0.0\n",
       "...                    ...                 ...       ...     ...\n",
       "31899  2016-09-16 15:30:00 2016-09-16 15:40:00      10.0     0.0\n",
       "31862  2016-04-13 12:30:00 2016-04-13 12:40:00      10.0     0.0\n",
       "29655  2016-08-17 12:30:00 2016-08-17 12:40:00      10.0     0.0\n",
       "29681  2016-08-14 12:30:00 2016-08-14 12:40:00      10.0     0.0\n",
       "32635  2016-07-13 12:30:00 2016-07-13 12:40:00      10.0     0.0\n",
       "\n",
       "[107833 rows x 4 columns]"
      ]
     },
     "execution_count": 3,
     "metadata": {},
     "output_type": "execute_result"
    }
   ],
   "source": [
    "# Calculate duration\n",
    "df_train[\"DURATION\"] = (df_train.STA - df_train.STD) / timedelta(minutes = 1)\n",
    "df_train[[\"STD\",\"STA\",\"DURATION\",\"target\"]].sort_values(\"DURATION\",ascending=False)"
   ]
  },
  {
   "cell_type": "code",
   "execution_count": null,
   "id": "3921cc36",
   "metadata": {},
   "outputs": [
    {
     "data": {
      "text/plain": [
       "(-2.0, 100.0)"
      ]
     },
     "execution_count": 4,
     "metadata": {},
     "output_type": "execute_result"
    },
    {
     "data": {
      "image/png": "[encoded data removed]",
      "text/plain": [
       "<Figure size 640x480 with 1 Axes>"
      ]
     },
     "metadata": {},
     "output_type": "display_data"
    }
   ],
   "source": [
    "# DURATION is very skewed, therefore it will be log transformed\n",
    "df_train[\"DURATION_LOG\"] = df_train[\"DURATION\"].transform(\"log\")\n",
    "sns.scatterplot(df_train,x=\"DURATION_LOG\",y=\"target\")\n",
    "plt.vlines(x=[2.9,6.4],ymin=0,ymax=3500,linestyles='dashed',colors=\"gray\")\n",
    "plt.ylim((-2,100))"
   ]
  },
  {
   "cell_type": "markdown",
   "id": "2a927584",
   "metadata": {},
   "source": [
    "## Baseline model 1)"
   ]
  },
  {
   "cell_type": "markdown",
   "id": "d9741c0f",
   "metadata": {},
   "source": [
    "The first baseline model should be the following:\n",
    "\\begin{aligned}\n",
    "IF\\ &the\\ logarithmic\\ duration\\ is\\ smaller\\ than\\ 2.9\\ or\\ bigger\\ than\\ 6.4\\\\\n",
    "&target = 0\\\\\n",
    "ELSE\\\\\n",
    "&target\\ =\\ mean(target)\\ of\\ all\\ flights\\ with\\ logarithmic\\ duration\\ in\\ [2.9,6.4]\\\\\n",
    "\\end{aligned}\n",
    "\n",
    "The metric which should be used is the RMSE\n"
   ]
  },
  {
   "cell_type": "code",
   "execution_count": 5,
   "id": "8533e534",
   "metadata": {},
   "outputs": [
    {
     "name": "stdout",
     "output_type": "stream",
     "text": [
      "The mean is 49.11\n",
      "The median is 14.0\n"
     ]
    }
   ],
   "source": [
    "# Get the median target for all flights with log duration in [2.9,6.4]\n",
    "\n",
    "target_mean = round(df_train[(2.9 <= df_train[\"DURATION_LOG\"]) & (df_train[\"DURATION_LOG\"] <= 6.4)][\"target\"].mean(),2)\n",
    "target_median = round(df_train[(2.9 <= df_train[\"DURATION_LOG\"]) & (df_train[\"DURATION_LOG\"] <= 6.4)][\"target\"].median(),2)\n",
    "\n",
    "print(\"The mean is\", target_mean)\n",
    "print(\"The median is\", target_median)"
   ]
  },
  {
   "cell_type": "code",
   "execution_count": 6,
   "id": "0993c7c6",
   "metadata": {},
   "outputs": [],
   "source": [
    "# Predict target values from train\n",
    "y_predict_mean   = bm.baseline_model(df_train,value=target_mean)\n",
    "y_predict_median = bm.baseline_model(df_train,value=target_median)\n",
    "y_predict_zero   = bm.baseline_model(df_train,value=0)"
   ]
  },
  {
   "cell_type": "code",
   "execution_count": 7,
   "id": "e0797c01",
   "metadata": {},
   "outputs": [
    {
     "name": "stdout",
     "output_type": "stream",
     "text": [
      "RMSE for using mean as value: 117.06\n",
      "RMSE for using median as value: 122.17\n",
      "RMSE for using 0 as value: 126.87\n"
     ]
    }
   ],
   "source": [
    "# Get RMSE for train data\n",
    "from sklearn.metrics import mean_squared_error\n",
    "\n",
    "print(\"RMSE for using mean as value:\",round(np.sqrt(mean_squared_error(df_train[\"target\"],y_predict_mean)),2))\n",
    "print(\"RMSE for using median as value:\",round(np.sqrt(mean_squared_error(df_train[\"target\"],y_predict_median)),2))\n",
    "print(\"RMSE for using 0 as value:\",round(np.sqrt(mean_squared_error(df_train[\"target\"],y_predict_zero)),2))"
   ]
  },
  {
   "cell_type": "markdown",
   "id": "7b9838b0",
   "metadata": {},
   "source": [
    "## Baseline model 2)"
   ]
  },
  {
   "cell_type": "markdown",
   "id": "fc616f17",
   "metadata": {},
   "source": [
    "The second baseline model should be the following:\n",
    "\\begin{aligned}\n",
    "IF\\ &STATUS\\ is\\ in\\ SCH\\ or\\ DEL\\\\\n",
    "&target = 0\\\\\n",
    "ELSE\\\\\n",
    "&target\\ =\\ mean(target)\\ of\\ all\\ flights\\ with\\ STATUS\\ not\\ in\\ SCH\\ or\\ DEL\\\\\n",
    "\\end{aligned}\n",
    "\n",
    "The metric which should be used is the RMSE\n"
   ]
  },
  {
   "cell_type": "code",
   "execution_count": 8,
   "id": "fbf764db",
   "metadata": {},
   "outputs": [
    {
     "name": "stdout",
     "output_type": "stream",
     "text": [
      "The mean is 55.64\n",
      "The median is 19.0\n"
     ]
    }
   ],
   "source": [
    "# Get the median target for all flights with STATUS not in SCH, DEL\n",
    "\n",
    "target_mean = round(df_train[(df_train[\"STATUS\"] != \"DEL\") & (df_train[\"STATUS\"] != \"SCH\")][\"target\"].mean(),2)\n",
    "target_median = round(df_train[(df_train[\"STATUS\"] != \"DEL\") & (df_train[\"STATUS\"] != \"SCH\")][\"target\"].median(),2)\n",
    "\n",
    "print(\"The mean is\", target_mean)\n",
    "print(\"The median is\", target_median)"
   ]
  },
  {
   "cell_type": "code",
   "execution_count": 9,
   "id": "8ab6dc9c",
   "metadata": {},
   "outputs": [],
   "source": [
    "# Predict target values from train\n",
    "y_predict_mean   = bm.baseline_model2(df_train,value=target_mean)\n",
    "y_predict_median = bm.baseline_model2(df_train,value=target_median)\n",
    "y_predict_zero   = bm.baseline_model2(df_train,value=0)"
   ]
  },
  {
   "cell_type": "code",
   "execution_count": 10,
   "id": "b7c10d3f",
   "metadata": {},
   "outputs": [
    {
     "name": "stdout",
     "output_type": "stream",
     "text": [
      "RMSE for using mean as value: 115.69\n",
      "RMSE for using median as value: 120.66\n",
      "RMSE for using 0 as value: 126.87\n"
     ]
    }
   ],
   "source": [
    "# Get RMSE for train data\n",
    "from sklearn.metrics import mean_squared_error\n",
    "\n",
    "print(\"RMSE for using mean as value:\",round(np.sqrt(mean_squared_error(df_train[\"target\"],y_predict_mean)),2))\n",
    "print(\"RMSE for using median as value:\",round(np.sqrt(mean_squared_error(df_train[\"target\"],y_predict_median)),2))\n",
    "print(\"RMSE for using 0 as value:\",round(np.sqrt(mean_squared_error(df_train[\"target\"],y_predict_zero)),2))"
   ]
  },
  {
   "cell_type": "code",
   "execution_count": 19,
   "id": "bc81ae93",
   "metadata": {},
   "outputs": [
    {
     "name": "stdout",
     "output_type": "stream",
     "text": [
      "Accuracy for using mean as value: 0.19\n",
      "Accuracy for using median as value: 0.36\n",
      "Accuracy for using 0 as value: 0.46\n"
     ]
    }
   ],
   "source": [
    "# Get Accuracy for train data using the following approach:\n",
    "# IF y_predict IN [y_train-10,y_train+10]\n",
    "#     correct predicted\n",
    "# ELSE\n",
    "#     wrongly predicted\n",
    "\n",
    "print(\"Accuracy for using mean as value:\",round(bm.get_accuracy(df_train[\"target\"],y_predict_mean,10),2))\n",
    "print(\"Accuracy for using median as value:\",round(bm.get_accuracy(df_train[\"target\"],y_predict_median,10),2))\n",
    "print(\"Accuracy for using 0 as value:\",round(bm.get_accuracy(df_train[\"target\"],y_predict_zero,10),2))"
   ]
  },
  {
   "cell_type": "code",
   "execution_count": 20,
   "id": "9817b076",
   "metadata": {},
   "outputs": [],
   "source": [
    "from sklearn.metrics import make_scorer\n",
    "\n",
    "score_func = make_scorer(bm.get_accuracy)"
   ]
  }
 ],
 "metadata": {
  "kernelspec": {
   "display_name": ".venv",
   "language": "python",
   "name": "python3"
  },
  "language_info": {
   "codemirror_mode": {
    "name": "ipython",
    "version": 3
   },
   "file_extension": ".py",
   "mimetype": "text/x-python",
   "name": "python",
   "nbconvert_exporter": "python",
   "pygments_lexer": "ipython3",
   "version": "3.11.3"
  }
 },
 "nbformat": 4,
 "nbformat_minor": 5
}
