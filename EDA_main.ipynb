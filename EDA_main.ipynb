{
 "cells": [
  {
   "cell_type": "code",
   "execution_count": 1,
   "id": "6e223037",
   "metadata": {},
   "outputs": [],
   "source": [
    "import pandas as pd\n",
    "import numpy as np\n",
    "import seaborn as sns\n",
    "import matplotlib.pyplot as plt\n",
    "import geopandas as gpd\n",
    "import plotly.express as plx\n",
    "import json\n",
    "\n",
    "%matplotlib inline"
   ]
  },
  {
   "cell_type": "code",
   "execution_count": 36,
   "id": "f58b7c6f",
   "metadata": {},
   "outputs": [],
   "source": [
    "df_test =  pd.read_csv(\"data/Test.csv\")\n",
    "df_train =  pd.read_csv(\"data/Train.csv\")"
   ]
  },
  {
   "cell_type": "markdown",
   "id": "2bce976d",
   "metadata": {},
   "source": [
    "### Columns\n",
    "- DATOP - Date of flight\n",
    "- FLTID - Flight number\n",
    "- DEPSTN - Departure point\n",
    "- ARRSTN - Arrival point\n",
    "- STD - Scheduled Time departure\n",
    "- STA - Scheduled Time arrival\n",
    "- STATUS - Flight status\n",
    "- ETD - Expected Time departure\n",
    "- ETA - Expected Time arrival\n",
    "- ATD - Actual Time of Departure\n",
    "- ATA - Actual Time of arrival\n",
    "- DELAY1 - Delay code 1\n",
    "- DUR1 - delay time 1\n",
    "- DELAY2 - Delay code 2\n",
    "- DUR2 - delay time 2\n",
    "- DELAY3 - Delay code 3\n",
    "- DUR3 - delay time 3\n",
    "- DELAY4 - Delay code 4\n",
    "- DUR4 - delay time 4\n",
    "- AC - Aircraft Code"
   ]
  },
  {
   "cell_type": "code",
   "execution_count": 3,
   "id": "b7d0ce09",
   "metadata": {},
   "outputs": [
    {
     "data": {
      "application/vnd.microsoft.datawrangler.viewer.v0+json": {
       "columns": [
        {
         "name": "index",
         "rawType": "int64",
         "type": "integer"
        },
        {
         "name": "ID",
         "rawType": "object",
         "type": "string"
        },
        {
         "name": "DATOP",
         "rawType": "object",
         "type": "string"
        },
        {
         "name": "FLTID",
         "rawType": "object",
         "type": "string"
        },
        {
         "name": "DEPSTN",
         "rawType": "object",
         "type": "string"
        },
        {
         "name": "ARRSTN",
         "rawType": "object",
         "type": "string"
        },
        {
         "name": "STD",
         "rawType": "object",
         "type": "string"
        },
        {
         "name": "STA",
         "rawType": "object",
         "type": "string"
        },
        {
         "name": "STATUS",
         "rawType": "object",
         "type": "string"
        },
        {
         "name": "AC",
         "rawType": "object",
         "type": "string"
        }
       ],
       "conversionMethod": "pd.DataFrame",
       "ref": "d1f65686-ff99-45aa-ab30-b604ab149df6",
       "rows": [
        [
         "0",
         "test_id_0",
         "2016-05-04",
         "TU 0700 ",
         "DJE",
         "TUN",
         "2016-05-04 06:40:00",
         "2016-05-04 07.30.00",
         "ATA",
         "TU 32AIMF"
        ],
        [
         "1",
         "test_id_1",
         "2016-05-05",
         "TU 0395 ",
         "TUN",
         "BKO",
         "2016-05-05 15:20:00",
         "2016-05-05 20.05.00",
         "ATA",
         "TU 320IMW"
        ],
        [
         "2",
         "test_id_2",
         "2016-05-06",
         "TU 0745 ",
         "FRA",
         "TUN",
         "2016-05-06 10:00:00",
         "2016-05-06 12.25.00",
         "ATA",
         "TU 32AIMC"
        ],
        [
         "3",
         "test_id_3",
         "2016-05-11",
         "TU 0848 ",
         "BEY",
         "TUN",
         "2016-05-11 09:40:00",
         "2016-05-11 13.10.00",
         "ATA",
         "TU 31BIMO"
        ],
        [
         "4",
         "test_id_4",
         "2016-05-11",
         "TU 0635 ",
         "ORY",
         "MIR",
         "2016-05-11 09:50:00",
         "2016-05-11 12.35.00",
         "ATA",
         "TU 736IOQ"
        ]
       ],
       "shape": {
        "columns": 9,
        "rows": 5
       }
      },
      "text/html": [
       "<div>\n",
       "<style scoped>\n",
       "    .dataframe tbody tr th:only-of-type {\n",
       "        vertical-align: middle;\n",
       "    }\n",
       "\n",
       "    .dataframe tbody tr th {\n",
       "        vertical-align: top;\n",
       "    }\n",
       "\n",
       "    .dataframe thead th {\n",
       "        text-align: right;\n",
       "    }\n",
       "</style>\n",
       "<table border=\"1\" class=\"dataframe\">\n",
       "  <thead>\n",
       "    <tr style=\"text-align: right;\">\n",
       "      <th></th>\n",
       "      <th>ID</th>\n",
       "      <th>DATOP</th>\n",
       "      <th>FLTID</th>\n",
       "      <th>DEPSTN</th>\n",
       "      <th>ARRSTN</th>\n",
       "      <th>STD</th>\n",
       "      <th>STA</th>\n",
       "      <th>STATUS</th>\n",
       "      <th>AC</th>\n",
       "    </tr>\n",
       "  </thead>\n",
       "  <tbody>\n",
       "    <tr>\n",
       "      <th>0</th>\n",
       "      <td>test_id_0</td>\n",
       "      <td>2016-05-04</td>\n",
       "      <td>TU 0700</td>\n",
       "      <td>DJE</td>\n",
       "      <td>TUN</td>\n",
       "      <td>2016-05-04 06:40:00</td>\n",
       "      <td>2016-05-04 07.30.00</td>\n",
       "      <td>ATA</td>\n",
       "      <td>TU 32AIMF</td>\n",
       "    </tr>\n",
       "    <tr>\n",
       "      <th>1</th>\n",
       "      <td>test_id_1</td>\n",
       "      <td>2016-05-05</td>\n",
       "      <td>TU 0395</td>\n",
       "      <td>TUN</td>\n",
       "      <td>BKO</td>\n",
       "      <td>2016-05-05 15:20:00</td>\n",
       "      <td>2016-05-05 20.05.00</td>\n",
       "      <td>ATA</td>\n",
       "      <td>TU 320IMW</td>\n",
       "    </tr>\n",
       "    <tr>\n",
       "      <th>2</th>\n",
       "      <td>test_id_2</td>\n",
       "      <td>2016-05-06</td>\n",
       "      <td>TU 0745</td>\n",
       "      <td>FRA</td>\n",
       "      <td>TUN</td>\n",
       "      <td>2016-05-06 10:00:00</td>\n",
       "      <td>2016-05-06 12.25.00</td>\n",
       "      <td>ATA</td>\n",
       "      <td>TU 32AIMC</td>\n",
       "    </tr>\n",
       "    <tr>\n",
       "      <th>3</th>\n",
       "      <td>test_id_3</td>\n",
       "      <td>2016-05-11</td>\n",
       "      <td>TU 0848</td>\n",
       "      <td>BEY</td>\n",
       "      <td>TUN</td>\n",
       "      <td>2016-05-11 09:40:00</td>\n",
       "      <td>2016-05-11 13.10.00</td>\n",
       "      <td>ATA</td>\n",
       "      <td>TU 31BIMO</td>\n",
       "    </tr>\n",
       "    <tr>\n",
       "      <th>4</th>\n",
       "      <td>test_id_4</td>\n",
       "      <td>2016-05-11</td>\n",
       "      <td>TU 0635</td>\n",
       "      <td>ORY</td>\n",
       "      <td>MIR</td>\n",
       "      <td>2016-05-11 09:50:00</td>\n",
       "      <td>2016-05-11 12.35.00</td>\n",
       "      <td>ATA</td>\n",
       "      <td>TU 736IOQ</td>\n",
       "    </tr>\n",
       "  </tbody>\n",
       "</table>\n",
       "</div>"
      ],
      "text/plain": [
       "          ID       DATOP     FLTID DEPSTN ARRSTN                  STD   \n",
       "0  test_id_0  2016-05-04  TU 0700     DJE    TUN  2016-05-04 06:40:00  \\\n",
       "1  test_id_1  2016-05-05  TU 0395     TUN    BKO  2016-05-05 15:20:00   \n",
       "2  test_id_2  2016-05-06  TU 0745     FRA    TUN  2016-05-06 10:00:00   \n",
       "3  test_id_3  2016-05-11  TU 0848     BEY    TUN  2016-05-11 09:40:00   \n",
       "4  test_id_4  2016-05-11  TU 0635     ORY    MIR  2016-05-11 09:50:00   \n",
       "\n",
       "                   STA STATUS         AC  \n",
       "0  2016-05-04 07.30.00    ATA  TU 32AIMF  \n",
       "1  2016-05-05 20.05.00    ATA  TU 320IMW  \n",
       "2  2016-05-06 12.25.00    ATA  TU 32AIMC  \n",
       "3  2016-05-11 13.10.00    ATA  TU 31BIMO  \n",
       "4  2016-05-11 12.35.00    ATA  TU 736IOQ  "
      ]
     },
     "execution_count": 3,
     "metadata": {},
     "output_type": "execute_result"
    }
   ],
   "source": [
    "df_test.head()"
   ]
  },
  {
   "cell_type": "code",
   "execution_count": 4,
   "id": "4398998a",
   "metadata": {},
   "outputs": [
    {
     "data": {
      "application/vnd.microsoft.datawrangler.viewer.v0+json": {
       "columns": [
        {
         "name": "index",
         "rawType": "int64",
         "type": "integer"
        },
        {
         "name": "ID",
         "rawType": "object",
         "type": "string"
        },
        {
         "name": "DATOP",
         "rawType": "object",
         "type": "string"
        },
        {
         "name": "FLTID",
         "rawType": "object",
         "type": "string"
        },
        {
         "name": "DEPSTN",
         "rawType": "object",
         "type": "string"
        },
        {
         "name": "ARRSTN",
         "rawType": "object",
         "type": "string"
        },
        {
         "name": "STD",
         "rawType": "object",
         "type": "string"
        },
        {
         "name": "STA",
         "rawType": "object",
         "type": "string"
        },
        {
         "name": "STATUS",
         "rawType": "object",
         "type": "string"
        },
        {
         "name": "AC",
         "rawType": "object",
         "type": "string"
        },
        {
         "name": "target",
         "rawType": "float64",
         "type": "float"
        }
       ],
       "conversionMethod": "pd.DataFrame",
       "ref": "b033a7b3-1e46-4bdc-9733-9c8c7886232b",
       "rows": [
        [
         "0",
         "train_id_0",
         "2016-01-03",
         "TU 0712 ",
         "CMN",
         "TUN",
         "2016-01-03 10:30:00",
         "2016-01-03 12.55.00",
         "ATA",
         "TU 32AIMN",
         "260.0"
        ],
        [
         "1",
         "train_id_1",
         "2016-01-13",
         "TU 0757 ",
         "MXP",
         "TUN",
         "2016-01-13 15:05:00",
         "2016-01-13 16.55.00",
         "ATA",
         "TU 31BIMO",
         "20.0"
        ],
        [
         "2",
         "train_id_2",
         "2016-01-16",
         "TU 0214 ",
         "TUN",
         "IST",
         "2016-01-16 04:10:00",
         "2016-01-16 06.45.00",
         "ATA",
         "TU 32AIMN",
         "0.0"
        ],
        [
         "3",
         "train_id_3",
         "2016-01-17",
         "TU 0480 ",
         "DJE",
         "NTE",
         "2016-01-17 14:10:00",
         "2016-01-17 17.00.00",
         "ATA",
         "TU 736IOK",
         "0.0"
        ],
        [
         "4",
         "train_id_4",
         "2016-01-17",
         "TU 0338 ",
         "TUN",
         "ALG",
         "2016-01-17 14:30:00",
         "2016-01-17 15.50.00",
         "ATA",
         "TU 320IMU",
         "22.0"
        ]
       ],
       "shape": {
        "columns": 10,
        "rows": 5
       }
      },
      "text/html": [
       "<div>\n",
       "<style scoped>\n",
       "    .dataframe tbody tr th:only-of-type {\n",
       "        vertical-align: middle;\n",
       "    }\n",
       "\n",
       "    .dataframe tbody tr th {\n",
       "        vertical-align: top;\n",
       "    }\n",
       "\n",
       "    .dataframe thead th {\n",
       "        text-align: right;\n",
       "    }\n",
       "</style>\n",
       "<table border=\"1\" class=\"dataframe\">\n",
       "  <thead>\n",
       "    <tr style=\"text-align: right;\">\n",
       "      <th></th>\n",
       "      <th>ID</th>\n",
       "      <th>DATOP</th>\n",
       "      <th>FLTID</th>\n",
       "      <th>DEPSTN</th>\n",
       "      <th>ARRSTN</th>\n",
       "      <th>STD</th>\n",
       "      <th>STA</th>\n",
       "      <th>STATUS</th>\n",
       "      <th>AC</th>\n",
       "      <th>target</th>\n",
       "    </tr>\n",
       "  </thead>\n",
       "  <tbody>\n",
       "    <tr>\n",
       "      <th>0</th>\n",
       "      <td>train_id_0</td>\n",
       "      <td>2016-01-03</td>\n",
       "      <td>TU 0712</td>\n",
       "      <td>CMN</td>\n",
       "      <td>TUN</td>\n",
       "      <td>2016-01-03 10:30:00</td>\n",
       "      <td>2016-01-03 12.55.00</td>\n",
       "      <td>ATA</td>\n",
       "      <td>TU 32AIMN</td>\n",
       "      <td>260.0</td>\n",
       "    </tr>\n",
       "    <tr>\n",
       "      <th>1</th>\n",
       "      <td>train_id_1</td>\n",
       "      <td>2016-01-13</td>\n",
       "      <td>TU 0757</td>\n",
       "      <td>MXP</td>\n",
       "      <td>TUN</td>\n",
       "      <td>2016-01-13 15:05:00</td>\n",
       "      <td>2016-01-13 16.55.00</td>\n",
       "      <td>ATA</td>\n",
       "      <td>TU 31BIMO</td>\n",
       "      <td>20.0</td>\n",
       "    </tr>\n",
       "    <tr>\n",
       "      <th>2</th>\n",
       "      <td>train_id_2</td>\n",
       "      <td>2016-01-16</td>\n",
       "      <td>TU 0214</td>\n",
       "      <td>TUN</td>\n",
       "      <td>IST</td>\n",
       "      <td>2016-01-16 04:10:00</td>\n",
       "      <td>2016-01-16 06.45.00</td>\n",
       "      <td>ATA</td>\n",
       "      <td>TU 32AIMN</td>\n",
       "      <td>0.0</td>\n",
       "    </tr>\n",
       "    <tr>\n",
       "      <th>3</th>\n",
       "      <td>train_id_3</td>\n",
       "      <td>2016-01-17</td>\n",
       "      <td>TU 0480</td>\n",
       "      <td>DJE</td>\n",
       "      <td>NTE</td>\n",
       "      <td>2016-01-17 14:10:00</td>\n",
       "      <td>2016-01-17 17.00.00</td>\n",
       "      <td>ATA</td>\n",
       "      <td>TU 736IOK</td>\n",
       "      <td>0.0</td>\n",
       "    </tr>\n",
       "    <tr>\n",
       "      <th>4</th>\n",
       "      <td>train_id_4</td>\n",
       "      <td>2016-01-17</td>\n",
       "      <td>TU 0338</td>\n",
       "      <td>TUN</td>\n",
       "      <td>ALG</td>\n",
       "      <td>2016-01-17 14:30:00</td>\n",
       "      <td>2016-01-17 15.50.00</td>\n",
       "      <td>ATA</td>\n",
       "      <td>TU 320IMU</td>\n",
       "      <td>22.0</td>\n",
       "    </tr>\n",
       "  </tbody>\n",
       "</table>\n",
       "</div>"
      ],
      "text/plain": [
       "           ID       DATOP     FLTID DEPSTN ARRSTN                  STD   \n",
       "0  train_id_0  2016-01-03  TU 0712     CMN    TUN  2016-01-03 10:30:00  \\\n",
       "1  train_id_1  2016-01-13  TU 0757     MXP    TUN  2016-01-13 15:05:00   \n",
       "2  train_id_2  2016-01-16  TU 0214     TUN    IST  2016-01-16 04:10:00   \n",
       "3  train_id_3  2016-01-17  TU 0480     DJE    NTE  2016-01-17 14:10:00   \n",
       "4  train_id_4  2016-01-17  TU 0338     TUN    ALG  2016-01-17 14:30:00   \n",
       "\n",
       "                   STA STATUS         AC  target  \n",
       "0  2016-01-03 12.55.00    ATA  TU 32AIMN   260.0  \n",
       "1  2016-01-13 16.55.00    ATA  TU 31BIMO    20.0  \n",
       "2  2016-01-16 06.45.00    ATA  TU 32AIMN     0.0  \n",
       "3  2016-01-17 17.00.00    ATA  TU 736IOK     0.0  \n",
       "4  2016-01-17 15.50.00    ATA  TU 320IMU    22.0  "
      ]
     },
     "execution_count": 4,
     "metadata": {},
     "output_type": "execute_result"
    }
   ],
   "source": [
    "df_train.head()"
   ]
  },
  {
   "cell_type": "markdown",
   "id": "4969ab70",
   "metadata": {},
   "source": [
    "### EDA of the train data"
   ]
  },
  {
   "cell_type": "code",
   "execution_count": 5,
   "id": "76ef834a",
   "metadata": {},
   "outputs": [
    {
     "data": {
      "text/plain": [
       "STATUS\n",
       "ATA    93679\n",
       "SCH    13242\n",
       "DEP      467\n",
       "RTR      294\n",
       "DEL      151\n",
       "Name: count, dtype: int64"
      ]
     },
     "execution_count": 5,
     "metadata": {},
     "output_type": "execute_result"
    }
   ],
   "source": [
    "df_train.STATUS.value_counts()"
   ]
  },
  {
   "cell_type": "code",
   "execution_count": 6,
   "id": "63406c49",
   "metadata": {},
   "outputs": [
    {
     "data": {
      "application/vnd.microsoft.datawrangler.viewer.v0+json": {
       "columns": [
        {
         "name": "index",
         "rawType": "object",
         "type": "string"
        },
        {
         "name": "target",
         "rawType": "float64",
         "type": "float"
        }
       ],
       "conversionMethod": "pd.DataFrame",
       "ref": "34e8bff1-3f71-4a5c-87b6-229edd6204fa",
       "rows": [
        [
         "count",
         "107833.0"
        ],
        [
         "mean",
         "48.73301308504818"
        ],
        [
         "std",
         "117.13556208555866"
        ],
        [
         "min",
         "0.0"
        ],
        [
         "25%",
         "0.0"
        ],
        [
         "50%",
         "14.0"
        ],
        [
         "75%",
         "43.0"
        ],
        [
         "max",
         "3451.0"
        ]
       ],
       "shape": {
        "columns": 1,
        "rows": 8
       }
      },
      "text/html": [
       "<div>\n",
       "<style scoped>\n",
       "    .dataframe tbody tr th:only-of-type {\n",
       "        vertical-align: middle;\n",
       "    }\n",
       "\n",
       "    .dataframe tbody tr th {\n",
       "        vertical-align: top;\n",
       "    }\n",
       "\n",
       "    .dataframe thead th {\n",
       "        text-align: right;\n",
       "    }\n",
       "</style>\n",
       "<table border=\"1\" class=\"dataframe\">\n",
       "  <thead>\n",
       "    <tr style=\"text-align: right;\">\n",
       "      <th></th>\n",
       "      <th>target</th>\n",
       "    </tr>\n",
       "  </thead>\n",
       "  <tbody>\n",
       "    <tr>\n",
       "      <th>count</th>\n",
       "      <td>107833.000000</td>\n",
       "    </tr>\n",
       "    <tr>\n",
       "      <th>mean</th>\n",
       "      <td>48.733013</td>\n",
       "    </tr>\n",
       "    <tr>\n",
       "      <th>std</th>\n",
       "      <td>117.135562</td>\n",
       "    </tr>\n",
       "    <tr>\n",
       "      <th>min</th>\n",
       "      <td>0.000000</td>\n",
       "    </tr>\n",
       "    <tr>\n",
       "      <th>25%</th>\n",
       "      <td>0.000000</td>\n",
       "    </tr>\n",
       "    <tr>\n",
       "      <th>50%</th>\n",
       "      <td>14.000000</td>\n",
       "    </tr>\n",
       "    <tr>\n",
       "      <th>75%</th>\n",
       "      <td>43.000000</td>\n",
       "    </tr>\n",
       "    <tr>\n",
       "      <th>max</th>\n",
       "      <td>3451.000000</td>\n",
       "    </tr>\n",
       "  </tbody>\n",
       "</table>\n",
       "</div>"
      ],
      "text/plain": [
       "              target\n",
       "count  107833.000000\n",
       "mean       48.733013\n",
       "std       117.135562\n",
       "min         0.000000\n",
       "25%         0.000000\n",
       "50%        14.000000\n",
       "75%        43.000000\n",
       "max      3451.000000"
      ]
     },
     "execution_count": 6,
     "metadata": {},
     "output_type": "execute_result"
    }
   ],
   "source": [
    "df_train.describe()"
   ]
  },
  {
   "cell_type": "code",
   "execution_count": 7,
   "id": "cbc34fd0",
   "metadata": {},
   "outputs": [
    {
     "name": "stdout",
     "output_type": "stream",
     "text": [
      "<class 'pandas.core.frame.DataFrame'>\n",
      "RangeIndex: 107833 entries, 0 to 107832\n",
      "Data columns (total 10 columns):\n",
      " #   Column  Non-Null Count   Dtype  \n",
      "---  ------  --------------   -----  \n",
      " 0   ID      107833 non-null  object \n",
      " 1   DATOP   107833 non-null  object \n",
      " 2   FLTID   107833 non-null  object \n",
      " 3   DEPSTN  107833 non-null  object \n",
      " 4   ARRSTN  107833 non-null  object \n",
      " 5   STD     107833 non-null  object \n",
      " 6   STA     107833 non-null  object \n",
      " 7   STATUS  107833 non-null  object \n",
      " 8   AC      107833 non-null  object \n",
      " 9   target  107833 non-null  float64\n",
      "dtypes: float64(1), object(9)\n",
      "memory usage: 8.2+ MB\n"
     ]
    },
    {
     "data": {
      "text/plain": [
       "(None,\n",
       " ID        0\n",
       " DATOP     0\n",
       " FLTID     0\n",
       " DEPSTN    0\n",
       " ARRSTN    0\n",
       " STD       0\n",
       " STA       0\n",
       " STATUS    0\n",
       " AC        0\n",
       " target    0\n",
       " dtype: int64)"
      ]
     },
     "execution_count": 7,
     "metadata": {},
     "output_type": "execute_result"
    }
   ],
   "source": [
    "df_train.info(), df_train.isnull().sum(),"
   ]
  },
  {
   "cell_type": "code",
   "execution_count": 8,
   "id": "1bdd115a",
   "metadata": {},
   "outputs": [
    {
     "data": {
      "text/plain": [
       "ID         object\n",
       "DATOP      object\n",
       "FLTID      object\n",
       "DEPSTN     object\n",
       "ARRSTN     object\n",
       "STD        object\n",
       "STA        object\n",
       "STATUS     object\n",
       "AC         object\n",
       "target    float64\n",
       "dtype: object"
      ]
     },
     "execution_count": 8,
     "metadata": {},
     "output_type": "execute_result"
    }
   ],
   "source": [
    "df_train.dtypes"
   ]
  },
  {
   "cell_type": "code",
   "execution_count": 9,
   "id": "6438f665",
   "metadata": {},
   "outputs": [
    {
     "data": {
      "application/vnd.microsoft.datawrangler.viewer.v0+json": {
       "columns": [
        {
         "name": "index",
         "rawType": "int64",
         "type": "integer"
        },
        {
         "name": "ID",
         "rawType": "object",
         "type": "string"
        },
        {
         "name": "DATOP",
         "rawType": "object",
         "type": "string"
        },
        {
         "name": "FLTID",
         "rawType": "object",
         "type": "string"
        },
        {
         "name": "DEPSTN",
         "rawType": "object",
         "type": "string"
        },
        {
         "name": "ARRSTN",
         "rawType": "object",
         "type": "string"
        },
        {
         "name": "STD",
         "rawType": "object",
         "type": "string"
        },
        {
         "name": "STA",
         "rawType": "object",
         "type": "string"
        },
        {
         "name": "STATUS",
         "rawType": "object",
         "type": "string"
        },
        {
         "name": "AC",
         "rawType": "object",
         "type": "string"
        },
        {
         "name": "target",
         "rawType": "float64",
         "type": "float"
        }
       ],
       "conversionMethod": "pd.DataFrame",
       "ref": "13aafd08-59de-4086-b4e3-0a5f49ac1fa5",
       "rows": [
        [
         "0",
         "train_id_0",
         "2016-01-03",
         "TU 0712 ",
         "CMN",
         "TUN",
         "2016-01-03 10:30:00",
         "2016-01-03 12.55.00",
         "ATA",
         "TU 32AIMN",
         "260.0"
        ],
        [
         "1",
         "train_id_1",
         "2016-01-13",
         "TU 0757 ",
         "MXP",
         "TUN",
         "2016-01-13 15:05:00",
         "2016-01-13 16.55.00",
         "ATA",
         "TU 31BIMO",
         "20.0"
        ],
        [
         "2",
         "train_id_2",
         "2016-01-16",
         "TU 0214 ",
         "TUN",
         "IST",
         "2016-01-16 04:10:00",
         "2016-01-16 06.45.00",
         "ATA",
         "TU 32AIMN",
         "0.0"
        ]
       ],
       "shape": {
        "columns": 10,
        "rows": 3
       }
      },
      "text/html": [
       "<div>\n",
       "<style scoped>\n",
       "    .dataframe tbody tr th:only-of-type {\n",
       "        vertical-align: middle;\n",
       "    }\n",
       "\n",
       "    .dataframe tbody tr th {\n",
       "        vertical-align: top;\n",
       "    }\n",
       "\n",
       "    .dataframe thead th {\n",
       "        text-align: right;\n",
       "    }\n",
       "</style>\n",
       "<table border=\"1\" class=\"dataframe\">\n",
       "  <thead>\n",
       "    <tr style=\"text-align: right;\">\n",
       "      <th></th>\n",
       "      <th>ID</th>\n",
       "      <th>DATOP</th>\n",
       "      <th>FLTID</th>\n",
       "      <th>DEPSTN</th>\n",
       "      <th>ARRSTN</th>\n",
       "      <th>STD</th>\n",
       "      <th>STA</th>\n",
       "      <th>STATUS</th>\n",
       "      <th>AC</th>\n",
       "      <th>target</th>\n",
       "    </tr>\n",
       "  </thead>\n",
       "  <tbody>\n",
       "    <tr>\n",
       "      <th>0</th>\n",
       "      <td>train_id_0</td>\n",
       "      <td>2016-01-03</td>\n",
       "      <td>TU 0712</td>\n",
       "      <td>CMN</td>\n",
       "      <td>TUN</td>\n",
       "      <td>2016-01-03 10:30:00</td>\n",
       "      <td>2016-01-03 12.55.00</td>\n",
       "      <td>ATA</td>\n",
       "      <td>TU 32AIMN</td>\n",
       "      <td>260.0</td>\n",
       "    </tr>\n",
       "    <tr>\n",
       "      <th>1</th>\n",
       "      <td>train_id_1</td>\n",
       "      <td>2016-01-13</td>\n",
       "      <td>TU 0757</td>\n",
       "      <td>MXP</td>\n",
       "      <td>TUN</td>\n",
       "      <td>2016-01-13 15:05:00</td>\n",
       "      <td>2016-01-13 16.55.00</td>\n",
       "      <td>ATA</td>\n",
       "      <td>TU 31BIMO</td>\n",
       "      <td>20.0</td>\n",
       "    </tr>\n",
       "    <tr>\n",
       "      <th>2</th>\n",
       "      <td>train_id_2</td>\n",
       "      <td>2016-01-16</td>\n",
       "      <td>TU 0214</td>\n",
       "      <td>TUN</td>\n",
       "      <td>IST</td>\n",
       "      <td>2016-01-16 04:10:00</td>\n",
       "      <td>2016-01-16 06.45.00</td>\n",
       "      <td>ATA</td>\n",
       "      <td>TU 32AIMN</td>\n",
       "      <td>0.0</td>\n",
       "    </tr>\n",
       "  </tbody>\n",
       "</table>\n",
       "</div>"
      ],
      "text/plain": [
       "           ID       DATOP     FLTID DEPSTN ARRSTN                  STD   \n",
       "0  train_id_0  2016-01-03  TU 0712     CMN    TUN  2016-01-03 10:30:00  \\\n",
       "1  train_id_1  2016-01-13  TU 0757     MXP    TUN  2016-01-13 15:05:00   \n",
       "2  train_id_2  2016-01-16  TU 0214     TUN    IST  2016-01-16 04:10:00   \n",
       "\n",
       "                   STA STATUS         AC  target  \n",
       "0  2016-01-03 12.55.00    ATA  TU 32AIMN   260.0  \n",
       "1  2016-01-13 16.55.00    ATA  TU 31BIMO    20.0  \n",
       "2  2016-01-16 06.45.00    ATA  TU 32AIMN     0.0  "
      ]
     },
     "execution_count": 9,
     "metadata": {},
     "output_type": "execute_result"
    }
   ],
   "source": [
    "\n",
    "\n",
    "df_train.head(3)"
   ]
  },
  {
   "cell_type": "code",
   "execution_count": null,
   "id": "c85734e1",
   "metadata": {},
   "outputs": [
    {
     "data": {
      "application/vnd.microsoft.datawrangler.viewer.v0+json": {
       "columns": [
        {
         "name": "index",
         "rawType": "int64",
         "type": "integer"
        },
        {
         "name": "STATUS",
         "rawType": "object",
         "type": "string"
        },
        {
         "name": "mean",
         "rawType": "float64",
         "type": "float"
        },
        {
         "name": "median",
         "rawType": "float64",
         "type": "float"
        },
        {
         "name": "count",
         "rawType": "int64",
         "type": "integer"
        },
        {
         "name": "std",
         "rawType": "float64",
         "type": "float"
        }
       ],
       "conversionMethod": "pd.DataFrame",
       "ref": "55d752d9-e665-43a1-9d86-412ff4dbe849",
       "rows": [
        [
         "0",
         "ATA",
         "55.65509879482061",
         "19.0",
         "93679",
         "123.26295597934734"
        ],
        [
         "1",
         "SCH",
         "0.0",
         "0.0",
         "13242",
         "0.0"
        ],
        [
         "2",
         "DEP",
         "44.46252676659529",
         "0.0",
         "467",
         "111.05265052807117"
        ],
        [
         "3",
         "RTR",
         "69.89455782312925",
         "17.0",
         "294",
         "218.83289346070453"
        ],
        [
         "4",
         "DEL",
         "0.0",
         "0.0",
         "151",
         "0.0"
        ]
       ],
       "shape": {
        "columns": 5,
        "rows": 5
       }
      },
      "text/html": [
       "<div>\n",
       "<style scoped>\n",
       "    .dataframe tbody tr th:only-of-type {\n",
       "        vertical-align: middle;\n",
       "    }\n",
       "\n",
       "    .dataframe tbody tr th {\n",
       "        vertical-align: top;\n",
       "    }\n",
       "\n",
       "    .dataframe thead th {\n",
       "        text-align: right;\n",
       "    }\n",
       "</style>\n",
       "<table border=\"1\" class=\"dataframe\">\n",
       "  <thead>\n",
       "    <tr style=\"text-align: right;\">\n",
       "      <th></th>\n",
       "      <th>STATUS</th>\n",
       "      <th>mean</th>\n",
       "      <th>median</th>\n",
       "      <th>count</th>\n",
       "      <th>std</th>\n",
       "    </tr>\n",
       "  </thead>\n",
       "  <tbody>\n",
       "    <tr>\n",
       "      <th>0</th>\n",
       "      <td>ATA</td>\n",
       "      <td>55.655099</td>\n",
       "      <td>19.0</td>\n",
       "      <td>93679</td>\n",
       "      <td>123.262956</td>\n",
       "    </tr>\n",
       "    <tr>\n",
       "      <th>1</th>\n",
       "      <td>SCH</td>\n",
       "      <td>0.000000</td>\n",
       "      <td>0.0</td>\n",
       "      <td>13242</td>\n",
       "      <td>0.000000</td>\n",
       "    </tr>\n",
       "    <tr>\n",
       "      <th>2</th>\n",
       "      <td>DEP</td>\n",
       "      <td>44.462527</td>\n",
       "      <td>0.0</td>\n",
       "      <td>467</td>\n",
       "      <td>111.052651</td>\n",
       "    </tr>\n",
       "    <tr>\n",
       "      <th>3</th>\n",
       "      <td>RTR</td>\n",
       "      <td>69.894558</td>\n",
       "      <td>17.0</td>\n",
       "      <td>294</td>\n",
       "      <td>218.832893</td>\n",
       "    </tr>\n",
       "    <tr>\n",
       "      <th>4</th>\n",
       "      <td>DEL</td>\n",
       "      <td>0.000000</td>\n",
       "      <td>0.0</td>\n",
       "      <td>151</td>\n",
       "      <td>0.000000</td>\n",
       "    </tr>\n",
       "  </tbody>\n",
       "</table>\n",
       "</div>"
      ],
      "text/plain": [
       "  STATUS       mean  median  count         std\n",
       "0    ATA  55.655099    19.0  93679  123.262956\n",
       "1    SCH   0.000000     0.0  13242    0.000000\n",
       "2    DEP  44.462527     0.0    467  111.052651\n",
       "3    RTR  69.894558    17.0    294  218.832893\n",
       "4    DEL   0.000000     0.0    151    0.000000"
      ]
     },
     "execution_count": 37,
     "metadata": {},
     "output_type": "execute_result"
    }
   ],
   "source": [
    "df_train.groupby('STATUS')['target'].agg(['mean', 'median', 'count', 'std']).sort_values(by='count', ascending=False).reset_index()\n",
    "df_train"
   ]
  },
  {
   "cell_type": "code",
   "execution_count": null,
   "id": "6e065b7c",
   "metadata": {},
   "outputs": [],
   "source": [
    "df_train = df_train[~df_train['STATUS'].isin(['SCH', 'DEL'])]\n",
    "df_train\n"
   ]
  },
  {
   "cell_type": "code",
   "execution_count": 12,
   "id": "e5834620",
   "metadata": {},
   "outputs": [
    {
     "data": {
      "text/plain": [
       "array(['32A', '320', '31B', '736', 'CR9', '332', '31A', 'AT7', '733',\n",
       "       '734', '321', '345', '343'], dtype=object)"
      ]
     },
     "execution_count": 12,
     "metadata": {},
     "output_type": "execute_result"
    }
   ],
   "source": [
    "df_test[\"airline_code\"] = df_test['FLTID'].str.split(' ').str[0]\n",
    "df_test[\"flt_num\"] = df_test['FLTID'].str.split(' ').str[1]\n",
    "# df_train.drop(columns=[\"FLTID\"], axis=1, inplace=True)\n",
    "\n",
    "# df_train[\"AC_airline_code\"] = df_train['AC'].str.split(' ').str[0]\n",
    "df_test[\"AC_num\"] = df_test['AC'].str.split(' ').str[1].str[:3]\n",
    "\n",
    "df_test[\"route\"] = df_test[\"DEPSTN\"] + \"-\" + df_test[\"ARRSTN\"]\n",
    "\n",
    "df_test = df_test.drop('ID', axis=1)\n",
    "\n",
    "df_test[\"AC_num\"].unique()"
   ]
  },
  {
   "cell_type": "code",
   "execution_count": 13,
   "id": "1db99c4b",
   "metadata": {},
   "outputs": [
    {
     "data": {
      "text/plain": [
       "array(['32A', '320', '31B', '736', 'CR9', '332', '31A', 'AT7', '733',\n",
       "       '734', '321', '345', '343'], dtype=object)"
      ]
     },
     "execution_count": 13,
     "metadata": {},
     "output_type": "execute_result"
    }
   ],
   "source": [
    "df_test[\"AC_num\"].unique()"
   ]
  },
  {
   "cell_type": "code",
   "execution_count": 38,
   "id": "82aab82a",
   "metadata": {},
   "outputs": [
    {
     "data": {
      "application/vnd.microsoft.datawrangler.viewer.v0+json": {
       "columns": [
        {
         "name": "index",
         "rawType": "int64",
         "type": "integer"
        },
        {
         "name": "DATOP",
         "rawType": "object",
         "type": "string"
        },
        {
         "name": "FLTID",
         "rawType": "object",
         "type": "string"
        },
        {
         "name": "DEPSTN",
         "rawType": "object",
         "type": "string"
        },
        {
         "name": "ARRSTN",
         "rawType": "object",
         "type": "string"
        },
        {
         "name": "STD",
         "rawType": "object",
         "type": "string"
        },
        {
         "name": "STA",
         "rawType": "object",
         "type": "string"
        },
        {
         "name": "STATUS",
         "rawType": "object",
         "type": "string"
        },
        {
         "name": "AC",
         "rawType": "object",
         "type": "string"
        },
        {
         "name": "target",
         "rawType": "float64",
         "type": "float"
        },
        {
         "name": "airline_code",
         "rawType": "object",
         "type": "string"
        },
        {
         "name": "flt_num",
         "rawType": "object",
         "type": "string"
        },
        {
         "name": "AC_num",
         "rawType": "object",
         "type": "string"
        },
        {
         "name": "route",
         "rawType": "object",
         "type": "string"
        }
       ],
       "conversionMethod": "pd.DataFrame",
       "ref": "a60cabce-8e98-4d98-925c-0501050764f7",
       "rows": [
        [
         "0",
         "2016-01-03",
         "TU 0712 ",
         "CMN",
         "TUN",
         "2016-01-03 10:30:00",
         "2016-01-03 12.55.00",
         "ATA",
         "TU 32AIMN",
         "260.0",
         "TU",
         "0712",
         "32A",
         "CMN-TUN"
        ],
        [
         "1",
         "2016-01-13",
         "TU 0757 ",
         "MXP",
         "TUN",
         "2016-01-13 15:05:00",
         "2016-01-13 16.55.00",
         "ATA",
         "TU 31BIMO",
         "20.0",
         "TU",
         "0757",
         "31B",
         "MXP-TUN"
        ],
        [
         "2",
         "2016-01-16",
         "TU 0214 ",
         "TUN",
         "IST",
         "2016-01-16 04:10:00",
         "2016-01-16 06.45.00",
         "ATA",
         "TU 32AIMN",
         "0.0",
         "TU",
         "0214",
         "32A",
         "TUN-IST"
        ],
        [
         "3",
         "2016-01-17",
         "TU 0480 ",
         "DJE",
         "NTE",
         "2016-01-17 14:10:00",
         "2016-01-17 17.00.00",
         "ATA",
         "TU 736IOK",
         "0.0",
         "TU",
         "0480",
         "736",
         "DJE-NTE"
        ],
        [
         "4",
         "2016-01-17",
         "TU 0338 ",
         "TUN",
         "ALG",
         "2016-01-17 14:30:00",
         "2016-01-17 15.50.00",
         "ATA",
         "TU 320IMU",
         "22.0",
         "TU",
         "0338",
         "320",
         "TUN-ALG"
        ],
        [
         "5",
         "2016-01-17",
         "TU 0283 ",
         "TLS",
         "TUN",
         "2016-01-17 16:20:00",
         "2016-01-17 18.15.00",
         "ATA",
         "TU 736IOP",
         "53.0",
         "TU",
         "0283",
         "736",
         "TLS-TUN"
        ],
        [
         "6",
         "2016-01-18",
         "TU 0514 ",
         "TUN",
         "BCN",
         "2016-01-18 07:15:00",
         "2016-01-18 09.00.00",
         "ATA",
         "TU 32AIMH",
         "10.0",
         "TU",
         "0514",
         "32A",
         "TUN-BCN"
        ],
        [
         "7",
         "2016-01-18",
         "TU 0716 ",
         "TUN",
         "ORY",
         "2016-01-18 07:35:00",
         "2016-01-18 09.55.00",
         "ATA",
         "TU 32AIMI",
         "15.0",
         "TU",
         "0716",
         "32A",
         "TUN-ORY"
        ],
        [
         "8",
         "2016-01-18",
         "TU 0752 ",
         "TUN",
         "FCO",
         "2016-01-18 07:40:00",
         "2016-01-18 09.00.00",
         "ATA",
         "TU 32AIMC",
         "16.0",
         "TU",
         "0752",
         "32A",
         "TUN-FCO"
        ],
        [
         "9",
         "2016-01-18",
         "TU 0996 ",
         "TUN",
         "NCE",
         "2016-01-18 07:45:00",
         "2016-01-18 09.15.00",
         "ATA",
         "TU 31AIMK",
         "21.0",
         "TU",
         "0996",
         "31A",
         "TUN-NCE"
        ],
        [
         "10",
         "2016-01-18",
         "TU 0930 ",
         "TUN",
         "MRS",
         "2016-01-18 07:55:00",
         "2016-01-18 09.30.00",
         "ATA",
         "TU 32AIMF",
         "12.0",
         "TU",
         "0930",
         "32A",
         "TUN-MRS"
        ],
        [
         "11",
         "2016-01-20",
         "TU 0724 ",
         "TUN",
         "ORY",
         "2016-01-20 18:30:00",
         "2016-01-20 20.50.00",
         "ATA",
         "TU 32AIMP",
         "18.0",
         "TU",
         "0724",
         "32A",
         "TUN-ORY"
        ],
        [
         "12",
         "2016-01-20",
         "TU 0913 ",
         "TUN",
         "MED",
         "2016-01-20 19:40:00",
         "2016-01-21 00.00.00",
         "ATA",
         "TU 320IMR",
         "0.0",
         "TU",
         "0913",
         "320",
         "TUN-MED"
        ],
        [
         "13",
         "2016-01-21",
         "TU 0217 ",
         "IST",
         "TUN",
         "2016-01-21 20:10:00",
         "2016-01-21 23.00.00",
         "ATA",
         "TU 320IMU",
         "0.0",
         "TU",
         "0217",
         "320",
         "IST-TUN"
        ],
        [
         "14",
         "2016-01-22",
         "TU 0744 ",
         "TUN",
         "FRA",
         "2016-01-22 07:05:00",
         "2016-01-22 09.40.00",
         "ATA",
         "TU 736IOP",
         "18.0",
         "TU",
         "0744",
         "736",
         "TUN-FRA"
        ],
        [
         "15",
         "2016-01-22",
         "TU 0706 ",
         "CMN",
         "TUN",
         "2016-01-22 17:45:00",
         "2016-01-22 20.10.00",
         "ATA",
         "TU 320IMR",
         "0.0",
         "TU",
         "0706",
         "320",
         "CMN-TUN"
        ],
        [
         "16",
         "2016-01-22",
         "TU 0723 ",
         "ORY",
         "TUN",
         "2016-01-22 18:30:00",
         "2016-01-22 21.00.00",
         "ATA",
         "TU 332IFN",
         "37.0",
         "TU",
         "0723",
         "332",
         "ORY-TUN"
        ],
        [
         "17",
         "2016-01-23",
         "TU 0726 ",
         "MIR",
         "BRU",
         "2016-01-23 05:30:00",
         "2016-01-23 08.15.00",
         "ATA",
         "TU 31AIMJ",
         "149.0",
         "TU",
         "0726",
         "31A",
         "MIR-BRU"
        ],
        [
         "18",
         "2016-01-22",
         "TU 0913 ",
         "TUN",
         "MED",
         "2016-01-22 19:40:00",
         "2016-01-23 00.00.00",
         "ATA",
         "TU 320IMT",
         "30.0",
         "TU",
         "0913",
         "320",
         "TUN-MED"
        ],
        [
         "19",
         "2016-01-23",
         "TU 9038 ",
         "TUN",
         "DJE",
         "2016-01-23 08:50:00",
         "2016-01-23 09.45.00",
         "ATA",
         "TU 736IOL",
         "19.0",
         "TU",
         "9038",
         "736",
         "TUN-DJE"
        ],
        [
         "20",
         "2016-01-23",
         "TU 0717 ",
         "ORY",
         "TUN",
         "2016-01-23 10:55:00",
         "2016-01-23 13.20.00",
         "ATA",
         "TU 32AIMI",
         "27.0",
         "TU",
         "0717",
         "32A",
         "ORY-TUN"
        ],
        [
         "21",
         "2016-01-24",
         "TU 0430 ",
         "DJE",
         "LYS",
         "2016-01-24 14:05:00",
         "2016-01-24 16.25.00",
         "ATA",
         "TU 31AIMJ",
         "0.0",
         "TU",
         "0430",
         "31A",
         "DJE-LYS"
        ],
        [
         "22",
         "2016-01-27",
         "TU 0789 ",
         "BRU",
         "TUN",
         "2016-01-27 11:35:00",
         "2016-01-27 14.15.00",
         "ATA",
         "TU 32AIMF",
         "31.0",
         "TU",
         "0789",
         "32A",
         "BRU-TUN"
        ],
        [
         "23",
         "2016-02-01",
         "TU 0913 ",
         "TUN",
         "MED",
         "2016-02-01 19:40:00",
         "2016-02-02 00.00.00",
         "ATA",
         "TU 320IMT",
         "10.0",
         "TU",
         "0913",
         "320",
         "TUN-MED"
        ],
        [
         "24",
         "2016-02-02",
         "TU 0711 ",
         "TUN",
         "CMN",
         "2016-02-02 06:55:00",
         "2016-02-02 09.40.00",
         "ATA",
         "TU 320IMU",
         "24.0",
         "TU",
         "0711",
         "320",
         "TUN-CMN"
        ],
        [
         "25",
         "2016-02-02",
         "TU 0226 ",
         "TUN",
         "BEG",
         "2016-02-02 08:00:00",
         "2016-02-02 10.05.00",
         "ATA",
         "TU 32AIMN",
         "9.0",
         "TU",
         "0226",
         "32A",
         "TUN-BEG"
        ],
        [
         "26",
         "2016-02-02",
         "TU 0723 ",
         "ORY",
         "TUN",
         "2016-02-02 18:30:00",
         "2016-02-02 20.55.00",
         "ATA",
         "TU 320IMR",
         "0.0",
         "TU",
         "0723",
         "320",
         "ORY-TUN"
        ],
        [
         "27",
         "2016-02-02",
         "TU 0397 ",
         "TUN",
         "OUA",
         "2016-02-02 18:30:00",
         "2016-02-02 22.50.00",
         "ATA",
         "TU 31BIMQ",
         "0.0",
         "TU",
         "0397",
         "31B",
         "TUN-OUA"
        ],
        [
         "28",
         "2016-02-02",
         "TU 0217 ",
         "IST",
         "TUN",
         "2016-02-02 20:10:00",
         "2016-02-02 23.00.00",
         "ATA",
         "TU 32AIMN",
         "0.0",
         "TU",
         "0217",
         "32A",
         "IST-TUN"
        ],
        [
         "29",
         "2016-02-03",
         "TU 0398 ",
         "ABJ",
         "TUN",
         "2016-02-03 01:55:00",
         "2016-02-03 07.05.00",
         "ATA",
         "TU 31BIMQ",
         "0.0",
         "TU",
         "0398",
         "31B",
         "ABJ-TUN"
        ],
        [
         "30",
         "2016-02-03",
         "TU 0473 ",
         "VCE",
         "TUN",
         "2016-02-03 10:00:00",
         "2016-02-03 11.45.00",
         "ATA",
         "TU 320IMU",
         "9.0",
         "TU",
         "0473",
         "320",
         "VCE-TUN"
        ],
        [
         "31",
         "2016-02-04",
         "TU 0680 ",
         "TUN",
         "MRS",
         "2016-02-04 08:25:00",
         "2016-02-04 10.00.00",
         "ATA",
         "TU 31AIMK",
         "49.0",
         "TU",
         "0680",
         "31A",
         "TUN-MRS"
        ],
        [
         "32",
         "2016-02-04",
         "TU 0700 ",
         "TUN",
         "GVA",
         "2016-02-04 12:40:00",
         "2016-02-04 14.35.00",
         "ATA",
         "TU 31BIMO",
         "0.0",
         "TU",
         "0700",
         "31B",
         "TUN-GVA"
        ],
        [
         "33",
         "2016-02-04",
         "TU 0850 ",
         "TUN",
         "LYS",
         "2016-02-04 12:15:00",
         "2016-02-04 14.05.00",
         "ATA",
         "TU 736IOK",
         "24.0",
         "TU",
         "0850",
         "736",
         "TUN-LYS"
        ],
        [
         "34",
         "2016-02-04",
         "TU 0756 ",
         "TUN",
         "MXP",
         "2016-02-04 12:30:00",
         "2016-02-04 14.15.00",
         "ATA",
         "TU 32AIMN",
         "12.0",
         "TU",
         "0756",
         "32A",
         "TUN-MXP"
        ],
        [
         "35",
         "2016-02-04",
         "TU 0208 ",
         "TUN",
         "NTE",
         "2016-02-04 12:50:00",
         "2016-02-04 15.15.00",
         "ATA",
         "TU 736IOR",
         "7.0",
         "TU",
         "0208",
         "736",
         "TUN-NTE"
        ],
        [
         "36",
         "2016-02-04",
         "TU 0635 ",
         "MIR",
         "DJE",
         "2016-02-04 15:05:00",
         "2016-02-04 15.45.00",
         "ATA",
         "TU 31AIMJ",
         "20.0",
         "TU",
         "0635",
         "31A",
         "MIR-DJE"
        ],
        [
         "37",
         "2016-02-04",
         "TU 0757 ",
         "MXP",
         "TUN",
         "2016-02-04 15:05:00",
         "2016-02-04 17.00.00",
         "ATA",
         "TU 32AIMN",
         "20.0",
         "TU",
         "0757",
         "32A",
         "MXP-TUN"
        ],
        [
         "38",
         "2016-02-05",
         "TU 0711 ",
         "TUN",
         "CMN",
         "2016-02-05 06:55:00",
         "2016-02-05 09.40.00",
         "ATA",
         "TU 320IMV",
         "125.0",
         "TU",
         "0711",
         "320",
         "TUN-CMN"
        ],
        [
         "39",
         "2016-02-05",
         "TU 0847 ",
         "TUN",
         "BEY",
         "2016-02-05 09:30:00",
         "2016-02-05 12.45.00",
         "ATA",
         "TU 31BIMO",
         "13.0",
         "TU",
         "0847",
         "31B",
         "TUN-BEY"
        ],
        [
         "40",
         "2016-02-05",
         "TU 0881 ",
         "AMS",
         "TUN",
         "2016-02-05 10:10:00",
         "2016-02-05 13.00.00",
         "ATA",
         "TU 736IOK",
         "37.0",
         "TU",
         "0881",
         "736",
         "AMS-TUN"
        ],
        [
         "41",
         "2016-02-05",
         "TU 0745 ",
         "FRA",
         "TUN",
         "2016-02-05 10:30:00",
         "2016-02-05 12.55.00",
         "ATA",
         "TU 32AIMC",
         "25.0",
         "TU",
         "0745",
         "32A",
         "FRA-TUN"
        ],
        [
         "42",
         "2016-02-05",
         "TU 0902 ",
         "TUN",
         "MRS",
         "2016-02-05 14:05:00",
         "2016-02-05 15.45.00",
         "ATA",
         "TU 736IOK",
         "50.0",
         "TU",
         "0902",
         "736",
         "TUN-MRS"
        ],
        [
         "43",
         "2016-02-05",
         "TU 0717 ",
         "ORY",
         "TUN",
         "2016-02-05 10:55:00",
         "2016-02-05 13.15.00",
         "ATA",
         "TU 320IMS",
         "12.0",
         "TU",
         "0717",
         "320",
         "ORY-TUN"
        ],
        [
         "44",
         "2016-02-05",
         "TU 0515 ",
         "BCN",
         "TUN",
         "2016-02-05 16:40:00",
         "2016-02-05 18.15.00",
         "ATA",
         "TU 320IMS",
         "93.0",
         "TU",
         "0515",
         "320",
         "BCN-TUN"
        ],
        [
         "45",
         "2016-02-05",
         "TU 0724 ",
         "TUN",
         "ORY",
         "2016-02-05 18:30:00",
         "2016-02-05 20.50.00",
         "ATA",
         "TU 32AIMN",
         "10.0",
         "TU",
         "0724",
         "32A",
         "TUN-ORY"
        ],
        [
         "46",
         "2016-02-06",
         "TU 0635 ",
         "ORY",
         "DJE",
         "2016-02-06 17:40:00",
         "2016-02-06 20.25.00",
         "ATA",
         "TU 320IMS",
         "147.0",
         "TU",
         "0635",
         "320",
         "ORY-DJE"
        ],
        [
         "47",
         "2016-02-07",
         "TU 0714 ",
         "JED",
         "TUN",
         "2016-02-07 00:55:00",
         "2016-02-07 05.30.00",
         "ATA",
         "TU 332IFM",
         "15.0",
         "TU",
         "0714",
         "332",
         "JED-TUN"
        ],
        [
         "48",
         "2016-02-08",
         "TU 0339 ",
         "ALG",
         "TUN",
         "2016-02-08 17:00:00",
         "2016-02-08 18.10.00",
         "ATA",
         "TU 320IMU",
         "0.0",
         "TU",
         "0339",
         "320",
         "ALG-TUN"
        ],
        [
         "49",
         "2016-02-08",
         "TU 0319 ",
         "LIS",
         "MAD",
         "2016-02-08 18:00:00",
         "2016-02-08 19.25.00",
         "ATA",
         "TU 736IOR",
         "0.0",
         "TU",
         "0319",
         "736",
         "LIS-MAD"
        ]
       ],
       "shape": {
        "columns": 13,
        "rows": 107833
       }
      },
      "text/html": [
       "<div>\n",
       "<style scoped>\n",
       "    .dataframe tbody tr th:only-of-type {\n",
       "        vertical-align: middle;\n",
       "    }\n",
       "\n",
       "    .dataframe tbody tr th {\n",
       "        vertical-align: top;\n",
       "    }\n",
       "\n",
       "    .dataframe thead th {\n",
       "        text-align: right;\n",
       "    }\n",
       "</style>\n",
       "<table border=\"1\" class=\"dataframe\">\n",
       "  <thead>\n",
       "    <tr style=\"text-align: right;\">\n",
       "      <th></th>\n",
       "      <th>DATOP</th>\n",
       "      <th>FLTID</th>\n",
       "      <th>DEPSTN</th>\n",
       "      <th>ARRSTN</th>\n",
       "      <th>STD</th>\n",
       "      <th>STA</th>\n",
       "      <th>STATUS</th>\n",
       "      <th>AC</th>\n",
       "      <th>target</th>\n",
       "      <th>airline_code</th>\n",
       "      <th>flt_num</th>\n",
       "      <th>AC_num</th>\n",
       "      <th>route</th>\n",
       "    </tr>\n",
       "  </thead>\n",
       "  <tbody>\n",
       "    <tr>\n",
       "      <th>0</th>\n",
       "      <td>2016-01-03</td>\n",
       "      <td>TU 0712</td>\n",
       "      <td>CMN</td>\n",
       "      <td>TUN</td>\n",
       "      <td>2016-01-03 10:30:00</td>\n",
       "      <td>2016-01-03 12.55.00</td>\n",
       "      <td>ATA</td>\n",
       "      <td>TU 32AIMN</td>\n",
       "      <td>260.0</td>\n",
       "      <td>TU</td>\n",
       "      <td>0712</td>\n",
       "      <td>32A</td>\n",
       "      <td>CMN-TUN</td>\n",
       "    </tr>\n",
       "    <tr>\n",
       "      <th>1</th>\n",
       "      <td>2016-01-13</td>\n",
       "      <td>TU 0757</td>\n",
       "      <td>MXP</td>\n",
       "      <td>TUN</td>\n",
       "      <td>2016-01-13 15:05:00</td>\n",
       "      <td>2016-01-13 16.55.00</td>\n",
       "      <td>ATA</td>\n",
       "      <td>TU 31BIMO</td>\n",
       "      <td>20.0</td>\n",
       "      <td>TU</td>\n",
       "      <td>0757</td>\n",
       "      <td>31B</td>\n",
       "      <td>MXP-TUN</td>\n",
       "    </tr>\n",
       "    <tr>\n",
       "      <th>2</th>\n",
       "      <td>2016-01-16</td>\n",
       "      <td>TU 0214</td>\n",
       "      <td>TUN</td>\n",
       "      <td>IST</td>\n",
       "      <td>2016-01-16 04:10:00</td>\n",
       "      <td>2016-01-16 06.45.00</td>\n",
       "      <td>ATA</td>\n",
       "      <td>TU 32AIMN</td>\n",
       "      <td>0.0</td>\n",
       "      <td>TU</td>\n",
       "      <td>0214</td>\n",
       "      <td>32A</td>\n",
       "      <td>TUN-IST</td>\n",
       "    </tr>\n",
       "    <tr>\n",
       "      <th>3</th>\n",
       "      <td>2016-01-17</td>\n",
       "      <td>TU 0480</td>\n",
       "      <td>DJE</td>\n",
       "      <td>NTE</td>\n",
       "      <td>2016-01-17 14:10:00</td>\n",
       "      <td>2016-01-17 17.00.00</td>\n",
       "      <td>ATA</td>\n",
       "      <td>TU 736IOK</td>\n",
       "      <td>0.0</td>\n",
       "      <td>TU</td>\n",
       "      <td>0480</td>\n",
       "      <td>736</td>\n",
       "      <td>DJE-NTE</td>\n",
       "    </tr>\n",
       "    <tr>\n",
       "      <th>4</th>\n",
       "      <td>2016-01-17</td>\n",
       "      <td>TU 0338</td>\n",
       "      <td>TUN</td>\n",
       "      <td>ALG</td>\n",
       "      <td>2016-01-17 14:30:00</td>\n",
       "      <td>2016-01-17 15.50.00</td>\n",
       "      <td>ATA</td>\n",
       "      <td>TU 320IMU</td>\n",
       "      <td>22.0</td>\n",
       "      <td>TU</td>\n",
       "      <td>0338</td>\n",
       "      <td>320</td>\n",
       "      <td>TUN-ALG</td>\n",
       "    </tr>\n",
       "    <tr>\n",
       "      <th>...</th>\n",
       "      <td>...</td>\n",
       "      <td>...</td>\n",
       "      <td>...</td>\n",
       "      <td>...</td>\n",
       "      <td>...</td>\n",
       "      <td>...</td>\n",
       "      <td>...</td>\n",
       "      <td>...</td>\n",
       "      <td>...</td>\n",
       "      <td>...</td>\n",
       "      <td>...</td>\n",
       "      <td>...</td>\n",
       "      <td>...</td>\n",
       "    </tr>\n",
       "    <tr>\n",
       "      <th>107828</th>\n",
       "      <td>2018-07-05</td>\n",
       "      <td>WKL 0000</td>\n",
       "      <td>TUN</td>\n",
       "      <td>TUN</td>\n",
       "      <td>2018-07-05 23:00:00</td>\n",
       "      <td>2018-07-06 02.00.00</td>\n",
       "      <td>SCH</td>\n",
       "      <td>TU 32AIML</td>\n",
       "      <td>0.0</td>\n",
       "      <td>WKL</td>\n",
       "      <td>0000</td>\n",
       "      <td>32A</td>\n",
       "      <td>TUN-TUN</td>\n",
       "    </tr>\n",
       "    <tr>\n",
       "      <th>107829</th>\n",
       "      <td>2018-01-13</td>\n",
       "      <td>UG 0003</td>\n",
       "      <td>DJE</td>\n",
       "      <td>TUN</td>\n",
       "      <td>2018-01-13 08:00:00</td>\n",
       "      <td>2018-01-13 09.00.00</td>\n",
       "      <td>SCH</td>\n",
       "      <td>UG AT7AT7</td>\n",
       "      <td>0.0</td>\n",
       "      <td>UG</td>\n",
       "      <td>0003</td>\n",
       "      <td>AT7</td>\n",
       "      <td>DJE-TUN</td>\n",
       "    </tr>\n",
       "    <tr>\n",
       "      <th>107830</th>\n",
       "      <td>2018-11-07</td>\n",
       "      <td>SGT 0000</td>\n",
       "      <td>TUN</td>\n",
       "      <td>TUN</td>\n",
       "      <td>2018-11-07 05:00:00</td>\n",
       "      <td>2018-11-07 12.50.00</td>\n",
       "      <td>SCH</td>\n",
       "      <td>TU 736IOK</td>\n",
       "      <td>0.0</td>\n",
       "      <td>SGT</td>\n",
       "      <td>0000</td>\n",
       "      <td>736</td>\n",
       "      <td>TUN-TUN</td>\n",
       "    </tr>\n",
       "    <tr>\n",
       "      <th>107831</th>\n",
       "      <td>2018-01-23</td>\n",
       "      <td>UG 0010</td>\n",
       "      <td>TUN</td>\n",
       "      <td>DJE</td>\n",
       "      <td>2018-01-23 18:00:00</td>\n",
       "      <td>2018-01-23 18.45.00</td>\n",
       "      <td>ATA</td>\n",
       "      <td>TU CR9ISA</td>\n",
       "      <td>0.0</td>\n",
       "      <td>UG</td>\n",
       "      <td>0010</td>\n",
       "      <td>CR9</td>\n",
       "      <td>TUN-DJE</td>\n",
       "    </tr>\n",
       "    <tr>\n",
       "      <th>107832</th>\n",
       "      <td>2018-11-13</td>\n",
       "      <td>UG 0002</td>\n",
       "      <td>TUN</td>\n",
       "      <td>DJE</td>\n",
       "      <td>2018-11-13 06:15:00</td>\n",
       "      <td>2018-11-13 07.05.00</td>\n",
       "      <td>SCH</td>\n",
       "      <td>TU CR9ISA</td>\n",
       "      <td>0.0</td>\n",
       "      <td>UG</td>\n",
       "      <td>0002</td>\n",
       "      <td>CR9</td>\n",
       "      <td>TUN-DJE</td>\n",
       "    </tr>\n",
       "  </tbody>\n",
       "</table>\n",
       "<p>107833 rows × 13 columns</p>\n",
       "</div>"
      ],
      "text/plain": [
       "             DATOP      FLTID DEPSTN ARRSTN                  STD   \n",
       "0       2016-01-03   TU 0712     CMN    TUN  2016-01-03 10:30:00  \\\n",
       "1       2016-01-13   TU 0757     MXP    TUN  2016-01-13 15:05:00   \n",
       "2       2016-01-16   TU 0214     TUN    IST  2016-01-16 04:10:00   \n",
       "3       2016-01-17   TU 0480     DJE    NTE  2016-01-17 14:10:00   \n",
       "4       2016-01-17   TU 0338     TUN    ALG  2016-01-17 14:30:00   \n",
       "...            ...        ...    ...    ...                  ...   \n",
       "107828  2018-07-05  WKL 0000     TUN    TUN  2018-07-05 23:00:00   \n",
       "107829  2018-01-13   UG 0003     DJE    TUN  2018-01-13 08:00:00   \n",
       "107830  2018-11-07  SGT 0000     TUN    TUN  2018-11-07 05:00:00   \n",
       "107831  2018-01-23   UG 0010     TUN    DJE  2018-01-23 18:00:00   \n",
       "107832  2018-11-13   UG 0002     TUN    DJE  2018-11-13 06:15:00   \n",
       "\n",
       "                        STA STATUS         AC  target airline_code flt_num   \n",
       "0       2016-01-03 12.55.00    ATA  TU 32AIMN   260.0           TU    0712  \\\n",
       "1       2016-01-13 16.55.00    ATA  TU 31BIMO    20.0           TU    0757   \n",
       "2       2016-01-16 06.45.00    ATA  TU 32AIMN     0.0           TU    0214   \n",
       "3       2016-01-17 17.00.00    ATA  TU 736IOK     0.0           TU    0480   \n",
       "4       2016-01-17 15.50.00    ATA  TU 320IMU    22.0           TU    0338   \n",
       "...                     ...    ...        ...     ...          ...     ...   \n",
       "107828  2018-07-06 02.00.00    SCH  TU 32AIML     0.0          WKL    0000   \n",
       "107829  2018-01-13 09.00.00    SCH  UG AT7AT7     0.0           UG    0003   \n",
       "107830  2018-11-07 12.50.00    SCH  TU 736IOK     0.0          SGT    0000   \n",
       "107831  2018-01-23 18.45.00    ATA  TU CR9ISA     0.0           UG    0010   \n",
       "107832  2018-11-13 07.05.00    SCH  TU CR9ISA     0.0           UG    0002   \n",
       "\n",
       "       AC_num    route  \n",
       "0         32A  CMN-TUN  \n",
       "1         31B  MXP-TUN  \n",
       "2         32A  TUN-IST  \n",
       "3         736  DJE-NTE  \n",
       "4         320  TUN-ALG  \n",
       "...       ...      ...  \n",
       "107828    32A  TUN-TUN  \n",
       "107829    AT7  DJE-TUN  \n",
       "107830    736  TUN-TUN  \n",
       "107831    CR9  TUN-DJE  \n",
       "107832    CR9  TUN-DJE  \n",
       "\n",
       "[107833 rows x 13 columns]"
      ]
     },
     "execution_count": 38,
     "metadata": {},
     "output_type": "execute_result"
    }
   ],
   "source": [
    "df_train[\"airline_code\"] = df_train['FLTID'].str.split(' ').str[0]\n",
    "df_train[\"flt_num\"] = df_train['FLTID'].str.split(' ').str[1]\n",
    "# df_train.drop(columns=[\"FLTID\"], axis=1, inplace=True)\n",
    "\n",
    "# df_train[\"AC_airline_code\"] = df_train['AC'].str.split(' ').str[0]\n",
    "df_train[\"AC_num\"] = df_train['AC'].str.split(' ').str[1].str[:3]\n",
    "\n",
    "df_train[\"route\"] = df_train[\"DEPSTN\"] + \"-\" + df_train[\"ARRSTN\"]\n",
    "\n",
    "df_train = df_train.drop('ID', axis=1)\n",
    "\n",
    "df_train"
   ]
  },
  {
   "cell_type": "code",
   "execution_count": 15,
   "id": "bdf7a192",
   "metadata": {},
   "outputs": [
    {
     "data": {
      "text/plain": [
       "array(['738', '319', 'M87'], dtype=object)"
      ]
     },
     "execution_count": 15,
     "metadata": {},
     "output_type": "execute_result"
    }
   ],
   "source": [
    "train_unique_ac_nums = df_train[\"AC_num\"].unique()\n",
    "present = pd.Series(train_unique_ac_nums).isin(df_test[\"AC_num\"])\n",
    "train_unique_ac_nums[~present]"
   ]
  },
  {
   "cell_type": "code",
   "execution_count": null,
   "id": "ba09cc44",
   "metadata": {},
   "outputs": [],
   "source": [
    "def duration_to_minutes_int(duration_str):\n",
    "    \"\"\"Converts a 'D days HH:MM:SS' duration string to total minutes as an integer.\"\"\"\n",
    "    parts = re.match(r'(\\d+) days (\\d{2}):(\\d{2}):(\\d{2})', duration_str)\n",
    "    if parts:\n",
    "        days, hours, minutes, seconds = map(int, parts.groups())\n",
    "        total_minutes = (days * 24 * 60) + (hours * 60) + minutes + round(seconds / 60)\n",
    "        return int(total_minutes)\n",
    "    return None"
   ]
  },
  {
   "cell_type": "code",
   "execution_count": 58,
   "id": "db7c30e1",
   "metadata": {},
   "outputs": [
    {
     "data": {
      "application/vnd.microsoft.datawrangler.viewer.v0+json": {
       "columns": [
        {
         "name": "index",
         "rawType": "int64",
         "type": "integer"
        },
        {
         "name": "DATOP",
         "rawType": "object",
         "type": "unknown"
        },
        {
         "name": "FLTID",
         "rawType": "object",
         "type": "string"
        },
        {
         "name": "DEPSTN",
         "rawType": "object",
         "type": "string"
        },
        {
         "name": "ARRSTN",
         "rawType": "object",
         "type": "string"
        },
        {
         "name": "STD",
         "rawType": "datetime64[ns]",
         "type": "datetime"
        },
        {
         "name": "STA",
         "rawType": "datetime64[ns]",
         "type": "datetime"
        },
        {
         "name": "STATUS",
         "rawType": "object",
         "type": "string"
        },
        {
         "name": "AC",
         "rawType": "object",
         "type": "string"
        },
        {
         "name": "target",
         "rawType": "float64",
         "type": "float"
        },
        {
         "name": "airline_code",
         "rawType": "object",
         "type": "string"
        },
        {
         "name": "flt_num",
         "rawType": "object",
         "type": "string"
        },
        {
         "name": "AC_num",
         "rawType": "object",
         "type": "string"
        },
        {
         "name": "route",
         "rawType": "object",
         "type": "string"
        },
        {
         "name": "STD_duration",
         "rawType": "timedelta64[ns]",
         "type": "unknown"
        },
        {
         "name": "STA_day",
         "rawType": "int32",
         "type": "integer"
        },
        {
         "name": "STA_month",
         "rawType": "int32",
         "type": "integer"
        },
        {
         "name": "STA_hour",
         "rawType": "int32",
         "type": "integer"
        },
        {
         "name": "STD_day",
         "rawType": "int32",
         "type": "integer"
        },
        {
         "name": "STD_month",
         "rawType": "int32",
         "type": "integer"
        },
        {
         "name": "STD_hour",
         "rawType": "int32",
         "type": "integer"
        },
        {
         "name": "duration_min",
         "rawType": "Float64",
         "type": "float"
        }
       ],
       "conversionMethod": "pd.DataFrame",
       "ref": "8569c9d2-aed0-4faa-b6e2-ea048105b473",
       "rows": [
        [
         "0",
         "2016-01-03",
         "TU 0712 ",
         "CMN",
         "TUN",
         "2016-01-03 10:30:00",
         "2016-01-03 12:55:00",
         "ATA",
         "TU 32AIMN",
         "260.0",
         "TU",
         "0712",
         "32A",
         "CMN-TUN",
         "0 days 02:25:00",
         "6",
         "1",
         "12",
         "6",
         "1",
         "10",
         "145.0"
        ],
        [
         "1",
         "2016-01-13",
         "TU 0757 ",
         "MXP",
         "TUN",
         "2016-01-13 15:05:00",
         "2016-01-13 16:55:00",
         "ATA",
         "TU 31BIMO",
         "20.0",
         "TU",
         "0757",
         "31B",
         "MXP-TUN",
         "0 days 01:50:00",
         "2",
         "1",
         "16",
         "2",
         "1",
         "15",
         "110.0"
        ],
        [
         "2",
         "2016-01-16",
         "TU 0214 ",
         "TUN",
         "IST",
         "2016-01-16 04:10:00",
         "2016-01-16 06:45:00",
         "ATA",
         "TU 32AIMN",
         "0.0",
         "TU",
         "0214",
         "32A",
         "TUN-IST",
         "0 days 02:35:00",
         "5",
         "1",
         "6",
         "5",
         "1",
         "4",
         "155.0"
        ]
       ],
       "shape": {
        "columns": 21,
        "rows": 3
       }
      },
      "text/html": [
       "<div>\n",
       "<style scoped>\n",
       "    .dataframe tbody tr th:only-of-type {\n",
       "        vertical-align: middle;\n",
       "    }\n",
       "\n",
       "    .dataframe tbody tr th {\n",
       "        vertical-align: top;\n",
       "    }\n",
       "\n",
       "    .dataframe thead th {\n",
       "        text-align: right;\n",
       "    }\n",
       "</style>\n",
       "<table border=\"1\" class=\"dataframe\">\n",
       "  <thead>\n",
       "    <tr style=\"text-align: right;\">\n",
       "      <th></th>\n",
       "      <th>DATOP</th>\n",
       "      <th>FLTID</th>\n",
       "      <th>DEPSTN</th>\n",
       "      <th>ARRSTN</th>\n",
       "      <th>STD</th>\n",
       "      <th>STA</th>\n",
       "      <th>STATUS</th>\n",
       "      <th>AC</th>\n",
       "      <th>target</th>\n",
       "      <th>airline_code</th>\n",
       "      <th>...</th>\n",
       "      <th>AC_num</th>\n",
       "      <th>route</th>\n",
       "      <th>STD_duration</th>\n",
       "      <th>STA_day</th>\n",
       "      <th>STA_month</th>\n",
       "      <th>STA_hour</th>\n",
       "      <th>STD_day</th>\n",
       "      <th>STD_month</th>\n",
       "      <th>STD_hour</th>\n",
       "      <th>duration_min</th>\n",
       "    </tr>\n",
       "  </thead>\n",
       "  <tbody>\n",
       "    <tr>\n",
       "      <th>0</th>\n",
       "      <td>2016-01-03</td>\n",
       "      <td>TU 0712</td>\n",
       "      <td>CMN</td>\n",
       "      <td>TUN</td>\n",
       "      <td>2016-01-03 10:30:00</td>\n",
       "      <td>2016-01-03 12:55:00</td>\n",
       "      <td>ATA</td>\n",
       "      <td>TU 32AIMN</td>\n",
       "      <td>260.0</td>\n",
       "      <td>TU</td>\n",
       "      <td>...</td>\n",
       "      <td>32A</td>\n",
       "      <td>CMN-TUN</td>\n",
       "      <td>0 days 02:25:00</td>\n",
       "      <td>6</td>\n",
       "      <td>1</td>\n",
       "      <td>12</td>\n",
       "      <td>6</td>\n",
       "      <td>1</td>\n",
       "      <td>10</td>\n",
       "      <td>145.0</td>\n",
       "    </tr>\n",
       "    <tr>\n",
       "      <th>1</th>\n",
       "      <td>2016-01-13</td>\n",
       "      <td>TU 0757</td>\n",
       "      <td>MXP</td>\n",
       "      <td>TUN</td>\n",
       "      <td>2016-01-13 15:05:00</td>\n",
       "      <td>2016-01-13 16:55:00</td>\n",
       "      <td>ATA</td>\n",
       "      <td>TU 31BIMO</td>\n",
       "      <td>20.0</td>\n",
       "      <td>TU</td>\n",
       "      <td>...</td>\n",
       "      <td>31B</td>\n",
       "      <td>MXP-TUN</td>\n",
       "      <td>0 days 01:50:00</td>\n",
       "      <td>2</td>\n",
       "      <td>1</td>\n",
       "      <td>16</td>\n",
       "      <td>2</td>\n",
       "      <td>1</td>\n",
       "      <td>15</td>\n",
       "      <td>110.0</td>\n",
       "    </tr>\n",
       "    <tr>\n",
       "      <th>2</th>\n",
       "      <td>2016-01-16</td>\n",
       "      <td>TU 0214</td>\n",
       "      <td>TUN</td>\n",
       "      <td>IST</td>\n",
       "      <td>2016-01-16 04:10:00</td>\n",
       "      <td>2016-01-16 06:45:00</td>\n",
       "      <td>ATA</td>\n",
       "      <td>TU 32AIMN</td>\n",
       "      <td>0.0</td>\n",
       "      <td>TU</td>\n",
       "      <td>...</td>\n",
       "      <td>32A</td>\n",
       "      <td>TUN-IST</td>\n",
       "      <td>0 days 02:35:00</td>\n",
       "      <td>5</td>\n",
       "      <td>1</td>\n",
       "      <td>6</td>\n",
       "      <td>5</td>\n",
       "      <td>1</td>\n",
       "      <td>4</td>\n",
       "      <td>155.0</td>\n",
       "    </tr>\n",
       "  </tbody>\n",
       "</table>\n",
       "<p>3 rows × 21 columns</p>\n",
       "</div>"
      ],
      "text/plain": [
       "        DATOP     FLTID DEPSTN ARRSTN                 STD                 STA   \n",
       "0  2016-01-03  TU 0712     CMN    TUN 2016-01-03 10:30:00 2016-01-03 12:55:00  \\\n",
       "1  2016-01-13  TU 0757     MXP    TUN 2016-01-13 15:05:00 2016-01-13 16:55:00   \n",
       "2  2016-01-16  TU 0214     TUN    IST 2016-01-16 04:10:00 2016-01-16 06:45:00   \n",
       "\n",
       "  STATUS         AC  target airline_code  ... AC_num    route    STD_duration   \n",
       "0    ATA  TU 32AIMN   260.0           TU  ...    32A  CMN-TUN 0 days 02:25:00  \\\n",
       "1    ATA  TU 31BIMO    20.0           TU  ...    31B  MXP-TUN 0 days 01:50:00   \n",
       "2    ATA  TU 32AIMN     0.0           TU  ...    32A  TUN-IST 0 days 02:35:00   \n",
       "\n",
       "  STA_day  STA_month  STA_hour  STD_day  STD_month  STD_hour  duration_min  \n",
       "0       6          1        12        6          1        10         145.0  \n",
       "1       2          1        16        2          1        15         110.0  \n",
       "2       5          1         6        5          1         4         155.0  \n",
       "\n",
       "[3 rows x 21 columns]"
      ]
     },
     "execution_count": 58,
     "metadata": {},
     "output_type": "execute_result"
    }
   ],
   "source": [
    "# Date Time conversion and splitting\n",
    "# df_train[\"STA\"] = df_train['STA'].str.replace(\".\", \":\")\n",
    "\n",
    "df_train[\"STA\"] = pd.to_datetime(df_train[\"STA\"])\n",
    "df_train[\"STD\"] = pd.to_datetime(df_train[\"STD\"])\n",
    "df_train[\"DATOP\"] = pd.to_datetime(df_train[\"DATOP\"], format='%Y-%m-%d')\n",
    "\n",
    "df_train[\"STD_duration\"] = df_train['STA'] - df_train['STD']\n",
    "df_train[\"duration_min\"] = df_train[\"STD_duration\"].dt.total_seconds().astype(\"Int64\") / 60\n",
    "\n",
    "df_train[\"STA_day\"] = df_train['STA'].dt.day_of_week.astype(int)\n",
    "df_train[\"STA_month\"] = df_train['STA'].dt.month.astype(int)\n",
    "df_train[\"STA_hour\"] = df_train['STA'].dt.hour.astype(int)\n",
    "\n",
    "\n",
    "df_train[\"STD_day\"] = df_train['STD'].dt.day_of_week\n",
    "df_train[\"STD_month\"] = df_train['STD'].dt.month\n",
    "df_train[\"STD_hour\"] = df_train['STD'].dt.hour\n",
    "\n",
    "\n",
    "\n",
    "df_train[\"DATOP\"] = df_train[\"DATOP\"].dt.date\n",
    "\n",
    "df_train.head(3)"
   ]
  },
  {
   "cell_type": "code",
   "execution_count": 17,
   "id": "bd7dbc67",
   "metadata": {},
   "outputs": [
    {
     "data": {
      "application/vnd.microsoft.datawrangler.viewer.v0+json": {
       "columns": [
        {
         "name": "index",
         "rawType": "int64",
         "type": "integer"
        },
        {
         "name": "DEPSTN",
         "rawType": "object",
         "type": "string"
        },
        {
         "name": "mean",
         "rawType": "float64",
         "type": "float"
        },
        {
         "name": "median",
         "rawType": "float64",
         "type": "float"
        },
        {
         "name": "count",
         "rawType": "int64",
         "type": "integer"
        },
        {
         "name": "std",
         "rawType": "float64",
         "type": "float"
        }
       ],
       "conversionMethod": "pd.DataFrame",
       "ref": "7a36d62b-82a6-45c5-9d65-aac33892eb87",
       "rows": [
        [
         "0",
         "TUN",
         "54.560955210105845",
         "21.0",
         "34673",
         "105.02575653468021"
        ],
        [
         "1",
         "DJE",
         "40.94580863674852",
         "3.0",
         "7086",
         "129.69485450270042"
        ],
        [
         "2",
         "ORY",
         "51.89373701395073",
         "23.0",
         "6738",
         "88.52245150088862"
        ],
        [
         "3",
         "MIR",
         "36.94290375203915",
         "0.0",
         "4904",
         "125.46450834390295"
        ],
        [
         "4",
         "MRS",
         "57.53610426206411",
         "20.0",
         "2839",
         "111.6133055152723"
        ]
       ],
       "shape": {
        "columns": 5,
        "rows": 5
       }
      },
      "text/html": [
       "<div>\n",
       "<style scoped>\n",
       "    .dataframe tbody tr th:only-of-type {\n",
       "        vertical-align: middle;\n",
       "    }\n",
       "\n",
       "    .dataframe tbody tr th {\n",
       "        vertical-align: top;\n",
       "    }\n",
       "\n",
       "    .dataframe thead th {\n",
       "        text-align: right;\n",
       "    }\n",
       "</style>\n",
       "<table border=\"1\" class=\"dataframe\">\n",
       "  <thead>\n",
       "    <tr style=\"text-align: right;\">\n",
       "      <th></th>\n",
       "      <th>DEPSTN</th>\n",
       "      <th>mean</th>\n",
       "      <th>median</th>\n",
       "      <th>count</th>\n",
       "      <th>std</th>\n",
       "    </tr>\n",
       "  </thead>\n",
       "  <tbody>\n",
       "    <tr>\n",
       "      <th>0</th>\n",
       "      <td>TUN</td>\n",
       "      <td>54.560955</td>\n",
       "      <td>21.0</td>\n",
       "      <td>34673</td>\n",
       "      <td>105.025757</td>\n",
       "    </tr>\n",
       "    <tr>\n",
       "      <th>1</th>\n",
       "      <td>DJE</td>\n",
       "      <td>40.945809</td>\n",
       "      <td>3.0</td>\n",
       "      <td>7086</td>\n",
       "      <td>129.694855</td>\n",
       "    </tr>\n",
       "    <tr>\n",
       "      <th>2</th>\n",
       "      <td>ORY</td>\n",
       "      <td>51.893737</td>\n",
       "      <td>23.0</td>\n",
       "      <td>6738</td>\n",
       "      <td>88.522452</td>\n",
       "    </tr>\n",
       "    <tr>\n",
       "      <th>3</th>\n",
       "      <td>MIR</td>\n",
       "      <td>36.942904</td>\n",
       "      <td>0.0</td>\n",
       "      <td>4904</td>\n",
       "      <td>125.464508</td>\n",
       "    </tr>\n",
       "    <tr>\n",
       "      <th>4</th>\n",
       "      <td>MRS</td>\n",
       "      <td>57.536104</td>\n",
       "      <td>20.0</td>\n",
       "      <td>2839</td>\n",
       "      <td>111.613306</td>\n",
       "    </tr>\n",
       "  </tbody>\n",
       "</table>\n",
       "</div>"
      ],
      "text/plain": [
       "  DEPSTN       mean  median  count         std\n",
       "0    TUN  54.560955    21.0  34673  105.025757\n",
       "1    DJE  40.945809     3.0   7086  129.694855\n",
       "2    ORY  51.893737    23.0   6738   88.522452\n",
       "3    MIR  36.942904     0.0   4904  125.464508\n",
       "4    MRS  57.536104    20.0   2839  111.613306"
      ]
     },
     "execution_count": 17,
     "metadata": {},
     "output_type": "execute_result"
    }
   ],
   "source": [
    "grouped_routes = df_train.groupby('route')['target'].agg(['mean', 'median', 'count', 'std']).sort_values(by='count', ascending=False).reset_index()\n",
    "grouped_DEP = df_train.groupby('DEPSTN')['target'].agg(['mean', 'median', 'count', 'std']).sort_values(by='count', ascending=False).reset_index()\n",
    "grouped_ARR = df_train.groupby('ARRSTN')['target'].agg(['mean', 'median', 'count', 'std']).sort_values(by='count', ascending=False).reset_index()\n",
    "grouped_DEP.head(5)"
   ]
  },
  {
   "cell_type": "code",
   "execution_count": null,
   "id": "22ade646",
   "metadata": {},
   "outputs": [],
   "source": [
    "grouped_routes"
   ]
  },
  {
   "cell_type": "code",
   "execution_count": 35,
   "id": "47bd6aca",
   "metadata": {},
   "outputs": [
    {
     "data": {
      "image/png": "[encoded data removed]",
      "text/plain": [
       "<Figure size 2000x1000 with 1 Axes>"
      ]
     },
     "metadata": {},
     "output_type": "display_data"
    }
   ],
   "source": [
    "plt.figure(figsize=(20, 10))\n",
    "\n",
    "top_frequent_DEP = grouped_DEP.head(50)\n",
    "top_frequent_DEP = top_frequent_DEP.sort_values(by=\"median\", ascending=False)\n",
    "\n",
    "bar_width = 0.25\n",
    "x = np.arange(len(top_frequent_DEP['DEPSTN']))\n",
    "\n",
    "plt.bar(x, top_frequent_DEP['mean'], bar_width, label='Mean delay')\n",
    "plt.bar(x + bar_width, top_frequent_DEP['median'], bar_width, label='Median delay')\n",
    "\n",
    "plt.xlabel('departure')\n",
    "plt.ylabel('Delay [min]')\n",
    "plt.xticks(x - bar_width, top_frequent_DEP['DEPSTN'], rotation=45)\n",
    "plt.legend()\n",
    "plt.grid()\n",
    "plt.tight_layout()\n",
    "plt.show()"
   ]
  },
  {
   "cell_type": "code",
   "execution_count": 41,
   "id": "ecf4dfc8",
   "metadata": {},
   "outputs": [
    {
     "data": {
      "image/png": "[encoded data removed]",
      "text/plain": [
       "<Figure size 2000x1000 with 1 Axes>"
      ]
     },
     "metadata": {},
     "output_type": "display_data"
    }
   ],
   "source": [
    "plt.figure(figsize=(20, 10))\n",
    "\n",
    "top_frequent_ARR = grouped_ARR.head(50)\n",
    "top_frequent_ARR = top_frequent_ARR.sort_values(by=\"median\", ascending=False)\n",
    "\n",
    "bar_width = 0.25\n",
    "x = np.arange(len(top_frequent_ARR['ARRSTN']))\n",
    "\n",
    "plt.bar(x, top_frequent_ARR['mean'], bar_width, label='Mean delay')\n",
    "plt.bar(x + bar_width, top_frequent_ARR['median'], bar_width, label='Median delay')\n",
    "\n",
    "plt.xlabel('arrival')\n",
    "plt.ylabel('Delay [min]')\n",
    "plt.xticks(x - bar_width, top_frequent_ARR['ARRSTN'], rotation=45)\n",
    "plt.legend()\n",
    "plt.grid()\n",
    "plt.tight_layout()\n",
    "plt.show()"
   ]
  },
  {
   "cell_type": "code",
   "execution_count": 19,
   "id": "3d60ca0e",
   "metadata": {},
   "outputs": [
    {
     "data": {
      "image/png": "[encoded data removed]",
      "text/plain": [
       "<Figure size 2000x1000 with 1 Axes>"
      ]
     },
     "metadata": {},
     "output_type": "display_data"
    }
   ],
   "source": [
    "plt.figure(figsize=(20, 10))\n",
    "\n",
    "top_frequent_routes = grouped_routes.head(50)\n",
    "\n",
    "bar_width = 0.25\n",
    "x = np.arange(len(top_frequent_routes['route']))\n",
    "\n",
    "plt.bar(x, top_frequent_routes['mean'], bar_width, label='Mean delay')\n",
    "plt.bar(x + bar_width, top_frequent_routes['median'], bar_width, label='Median delay')\n",
    "\n",
    "plt.xlabel('Route')\n",
    "plt.ylabel('Delay [min]')\n",
    "plt.xticks(x - bar_width, top_frequent_routes['route'], rotation=45)\n",
    "plt.legend()\n",
    "plt.grid()\n",
    "plt.tight_layout()\n",
    "plt.show()"
   ]
  },
  {
   "cell_type": "code",
   "execution_count": 20,
   "id": "c966814c",
   "metadata": {},
   "outputs": [
    {
     "data": {
      "text/plain": [
       "<Figure size 1800x900 with 0 Axes>"
      ]
     },
     "metadata": {},
     "output_type": "display_data"
    },
    {
     "data": {
      "image/png": "[encoded data removed]",
      "text/plain": [
       "<Figure size 500x500 with 1 Axes>"
      ]
     },
     "metadata": {},
     "output_type": "display_data"
    }
   ],
   "source": [
    "plt.figure(figsize=(18, 9))\n",
    "sns.displot(df_train[df_train[\"route\"] == \"TUN-IST\"].target)\n",
    "plt.grid()\n",
    "plt.show()"
   ]
  },
  {
   "cell_type": "code",
   "execution_count": 61,
   "id": "1971a6ea",
   "metadata": {},
   "outputs": [
    {
     "data": {
      "application/vnd.microsoft.datawrangler.viewer.v0+json": {
       "columns": [
        {
         "name": "index",
         "rawType": "int64",
         "type": "integer"
        },
        {
         "name": "AC_num",
         "rawType": "object",
         "type": "string"
        },
        {
         "name": "mean",
         "rawType": "float64",
         "type": "float"
        },
        {
         "name": "median",
         "rawType": "float64",
         "type": "float"
        },
        {
         "name": "count",
         "rawType": "int64",
         "type": "integer"
        },
        {
         "name": "std",
         "rawType": "float64",
         "type": "float"
        }
       ],
       "conversionMethod": "pd.DataFrame",
       "ref": "5bb3214f-0068-4a67-a929-0d6e57fc3352",
       "rows": [
        [
         "0",
         "32A",
         "57.71080660420545",
         "18.0",
         "32767",
         "130.15729613067833"
        ],
        [
         "1",
         "320",
         "58.737627509642074",
         "22.0",
         "27743",
         "121.39810248081918"
        ],
        [
         "2",
         "736",
         "39.17385841990819",
         "8.0",
         "20695",
         "114.8428154287451"
        ],
        [
         "3",
         "31B",
         "32.96397301564519",
         "10.0",
         "6967",
         "79.97096440248143"
        ],
        [
         "4",
         "AT7",
         "1.0243577545195053",
         "0.0",
         "5255",
         "17.50085582880616"
        ],
        [
         "5",
         "332",
         "74.45504587155963",
         "33.0",
         "4905",
         "123.3204161039918"
        ],
        [
         "6",
         "CR9",
         "6.9049676025917925",
         "0.0",
         "3704",
         "46.60019665198058"
        ],
        [
         "7",
         "31A",
         "32.4502437625466",
         "5.0",
         "3487",
         "88.02446642177966"
        ],
        [
         "8",
         "733",
         "35.75929203539823",
         "15.0",
         "565",
         "54.97880416396229"
        ],
        [
         "9",
         "734",
         "116.42780748663101",
         "45.0",
         "561",
         "211.71748074718417"
        ],
        [
         "10",
         "738",
         "83.57493188010899",
         "50.0",
         "367",
         "99.14784028540596"
        ],
        [
         "11",
         "343",
         "85.61783439490446",
         "33.0",
         "314",
         "139.51857137168338"
        ],
        [
         "12",
         "319",
         "40.52158273381295",
         "10.0",
         "278",
         "92.96762703709443"
        ],
        [
         "13",
         "345",
         "136.90654205607476",
         "40.0",
         "214",
         "226.5163420074525"
        ],
        [
         "14",
         "M87",
         "19.166666666666668",
         "20.0",
         "6",
         "17.151287609583914"
        ],
        [
         "15",
         "321",
         "205.4",
         "245.0",
         "5",
         "118.62040296677465"
        ]
       ],
       "shape": {
        "columns": 5,
        "rows": 16
       }
      },
      "text/html": [
       "<div>\n",
       "<style scoped>\n",
       "    .dataframe tbody tr th:only-of-type {\n",
       "        vertical-align: middle;\n",
       "    }\n",
       "\n",
       "    .dataframe tbody tr th {\n",
       "        vertical-align: top;\n",
       "    }\n",
       "\n",
       "    .dataframe thead th {\n",
       "        text-align: right;\n",
       "    }\n",
       "</style>\n",
       "<table border=\"1\" class=\"dataframe\">\n",
       "  <thead>\n",
       "    <tr style=\"text-align: right;\">\n",
       "      <th></th>\n",
       "      <th>AC_num</th>\n",
       "      <th>mean</th>\n",
       "      <th>median</th>\n",
       "      <th>count</th>\n",
       "      <th>std</th>\n",
       "    </tr>\n",
       "  </thead>\n",
       "  <tbody>\n",
       "    <tr>\n",
       "      <th>0</th>\n",
       "      <td>32A</td>\n",
       "      <td>57.710807</td>\n",
       "      <td>18.0</td>\n",
       "      <td>32767</td>\n",
       "      <td>130.157296</td>\n",
       "    </tr>\n",
       "    <tr>\n",
       "      <th>1</th>\n",
       "      <td>320</td>\n",
       "      <td>58.737628</td>\n",
       "      <td>22.0</td>\n",
       "      <td>27743</td>\n",
       "      <td>121.398102</td>\n",
       "    </tr>\n",
       "    <tr>\n",
       "      <th>2</th>\n",
       "      <td>736</td>\n",
       "      <td>39.173858</td>\n",
       "      <td>8.0</td>\n",
       "      <td>20695</td>\n",
       "      <td>114.842815</td>\n",
       "    </tr>\n",
       "    <tr>\n",
       "      <th>3</th>\n",
       "      <td>31B</td>\n",
       "      <td>32.963973</td>\n",
       "      <td>10.0</td>\n",
       "      <td>6967</td>\n",
       "      <td>79.970964</td>\n",
       "    </tr>\n",
       "    <tr>\n",
       "      <th>4</th>\n",
       "      <td>AT7</td>\n",
       "      <td>1.024358</td>\n",
       "      <td>0.0</td>\n",
       "      <td>5255</td>\n",
       "      <td>17.500856</td>\n",
       "    </tr>\n",
       "    <tr>\n",
       "      <th>5</th>\n",
       "      <td>332</td>\n",
       "      <td>74.455046</td>\n",
       "      <td>33.0</td>\n",
       "      <td>4905</td>\n",
       "      <td>123.320416</td>\n",
       "    </tr>\n",
       "    <tr>\n",
       "      <th>6</th>\n",
       "      <td>CR9</td>\n",
       "      <td>6.904968</td>\n",
       "      <td>0.0</td>\n",
       "      <td>3704</td>\n",
       "      <td>46.600197</td>\n",
       "    </tr>\n",
       "    <tr>\n",
       "      <th>7</th>\n",
       "      <td>31A</td>\n",
       "      <td>32.450244</td>\n",
       "      <td>5.0</td>\n",
       "      <td>3487</td>\n",
       "      <td>88.024466</td>\n",
       "    </tr>\n",
       "    <tr>\n",
       "      <th>8</th>\n",
       "      <td>733</td>\n",
       "      <td>35.759292</td>\n",
       "      <td>15.0</td>\n",
       "      <td>565</td>\n",
       "      <td>54.978804</td>\n",
       "    </tr>\n",
       "    <tr>\n",
       "      <th>9</th>\n",
       "      <td>734</td>\n",
       "      <td>116.427807</td>\n",
       "      <td>45.0</td>\n",
       "      <td>561</td>\n",
       "      <td>211.717481</td>\n",
       "    </tr>\n",
       "    <tr>\n",
       "      <th>10</th>\n",
       "      <td>738</td>\n",
       "      <td>83.574932</td>\n",
       "      <td>50.0</td>\n",
       "      <td>367</td>\n",
       "      <td>99.147840</td>\n",
       "    </tr>\n",
       "    <tr>\n",
       "      <th>11</th>\n",
       "      <td>343</td>\n",
       "      <td>85.617834</td>\n",
       "      <td>33.0</td>\n",
       "      <td>314</td>\n",
       "      <td>139.518571</td>\n",
       "    </tr>\n",
       "    <tr>\n",
       "      <th>12</th>\n",
       "      <td>319</td>\n",
       "      <td>40.521583</td>\n",
       "      <td>10.0</td>\n",
       "      <td>278</td>\n",
       "      <td>92.967627</td>\n",
       "    </tr>\n",
       "    <tr>\n",
       "      <th>13</th>\n",
       "      <td>345</td>\n",
       "      <td>136.906542</td>\n",
       "      <td>40.0</td>\n",
       "      <td>214</td>\n",
       "      <td>226.516342</td>\n",
       "    </tr>\n",
       "    <tr>\n",
       "      <th>14</th>\n",
       "      <td>M87</td>\n",
       "      <td>19.166667</td>\n",
       "      <td>20.0</td>\n",
       "      <td>6</td>\n",
       "      <td>17.151288</td>\n",
       "    </tr>\n",
       "    <tr>\n",
       "      <th>15</th>\n",
       "      <td>321</td>\n",
       "      <td>205.400000</td>\n",
       "      <td>245.0</td>\n",
       "      <td>5</td>\n",
       "      <td>118.620403</td>\n",
       "    </tr>\n",
       "  </tbody>\n",
       "</table>\n",
       "</div>"
      ],
      "text/plain": [
       "   AC_num        mean  median  count         std\n",
       "0     32A   57.710807    18.0  32767  130.157296\n",
       "1     320   58.737628    22.0  27743  121.398102\n",
       "2     736   39.173858     8.0  20695  114.842815\n",
       "3     31B   32.963973    10.0   6967   79.970964\n",
       "4     AT7    1.024358     0.0   5255   17.500856\n",
       "5     332   74.455046    33.0   4905  123.320416\n",
       "6     CR9    6.904968     0.0   3704   46.600197\n",
       "7     31A   32.450244     5.0   3487   88.024466\n",
       "8     733   35.759292    15.0    565   54.978804\n",
       "9     734  116.427807    45.0    561  211.717481\n",
       "10    738   83.574932    50.0    367   99.147840\n",
       "11    343   85.617834    33.0    314  139.518571\n",
       "12    319   40.521583    10.0    278   92.967627\n",
       "13    345  136.906542    40.0    214  226.516342\n",
       "14    M87   19.166667    20.0      6   17.151288\n",
       "15    321  205.400000   245.0      5  118.620403"
      ]
     },
     "execution_count": 61,
     "metadata": {},
     "output_type": "execute_result"
    }
   ],
   "source": [
    "grouped_AC = df_train.groupby('AC_num')['target'].agg(['mean', 'median', 'count', 'std']).sort_values(by='count', ascending=False).reset_index()\n",
    "grouped_AC\n",
    "\n",
    "\n"
   ]
  },
  {
   "cell_type": "code",
   "execution_count": 71,
   "id": "4c83f990",
   "metadata": {},
   "outputs": [
    {
     "data": {
      "application/vnd.microsoft.datawrangler.viewer.v0+json": {
       "columns": [
        {
         "name": "index",
         "rawType": "int64",
         "type": "integer"
        },
        {
         "name": "AC_num",
         "rawType": "object",
         "type": "string"
        },
        {
         "name": "duration_bins",
         "rawType": "category",
         "type": "unknown"
        },
        {
         "name": "mean",
         "rawType": "float64",
         "type": "float"
        },
        {
         "name": "median",
         "rawType": "float64",
         "type": "float"
        },
        {
         "name": "std",
         "rawType": "float64",
         "type": "float"
        },
        {
         "name": "count",
         "rawType": "int64",
         "type": "integer"
        }
       ],
       "conversionMethod": "pd.DataFrame",
       "ref": "fe575f76-62db-4bf8-82cb-acf418248a1b",
       "rows": [
        [
         "0",
         "319",
         "0-60 min",
         "3.730769230769231",
         "0.0",
         "8.435912243771588",
         "26"
        ],
        [
         "1",
         "319",
         "61-120 min",
         null,
         null,
         null,
         "0"
        ],
        [
         "2",
         "319",
         "121-180 min",
         "42.74898785425101",
         "15.0",
         "90.75501816506967",
         "247"
        ],
        [
         "3",
         "319",
         "181 - 240 min",
         "121.8",
         "0.0",
         "272.35307965947436",
         "5"
        ],
        [
         "4",
         "319",
         "241 - 300 min",
         null,
         null,
         null,
         "0"
        ],
        [
         "5",
         "319",
         "301 - 360 min",
         null,
         null,
         null,
         "0"
        ],
        [
         "6",
         "319",
         "361 - 420 min",
         null,
         null,
         null,
         "0"
        ],
        [
         "7",
         "319",
         "420+ min",
         null,
         null,
         null,
         "0"
        ],
        [
         "8",
         "31A",
         "0-60 min",
         "20.598245614035086",
         "0.0",
         "65.71471332209092",
         "570"
        ],
        [
         "9",
         "31A",
         "61-120 min",
         "34.98208469055375",
         "10.0",
         "73.80242133336945",
         "614"
        ],
        [
         "10",
         "31A",
         "121-180 min",
         "39.07298530157121",
         "10.0",
         "101.95913424426497",
         "1973"
        ],
        [
         "11",
         "31A",
         "181 - 240 min",
         "10.647940074906368",
         "0.0",
         "36.29862082173792",
         "267"
        ],
        [
         "12",
         "31A",
         "241 - 300 min",
         "0.0",
         "0.0",
         "0.0",
         "11"
        ],
        [
         "13",
         "31A",
         "301 - 360 min",
         "0.0",
         "0.0",
         "0.0",
         "7"
        ],
        [
         "14",
         "31A",
         "361 - 420 min",
         null,
         null,
         null,
         "0"
        ],
        [
         "15",
         "31A",
         "420+ min",
         "0.0",
         "0.0",
         "0.0",
         "45"
        ],
        [
         "16",
         "31B",
         "0-60 min",
         "40.292682926829265",
         "12.0",
         "77.83396912210169",
         "123"
        ],
        [
         "17",
         "31B",
         "61-120 min",
         "30.7156368221942",
         "10.0",
         "71.56015459135286",
         "3172"
        ],
        [
         "18",
         "31B",
         "121-180 min",
         "37.22112676056338",
         "13.0",
         "91.17308355285215",
         "2130"
        ],
        [
         "19",
         "31B",
         "181 - 240 min",
         "23.836083608360838",
         "8.0",
         "53.51644088911309",
         "909"
        ],
        [
         "20",
         "31B",
         "241 - 300 min",
         "52.707317073170735",
         "28.5",
         "111.5519425543537",
         "410"
        ],
        [
         "21",
         "31B",
         "301 - 360 min",
         "35.488",
         "10.0",
         "118.76383559468468",
         "125"
        ],
        [
         "22",
         "31B",
         "361 - 420 min",
         "19.76923076923077",
         "0.0",
         "61.275544124000305",
         "13"
        ],
        [
         "23",
         "31B",
         "420+ min",
         "0.27058823529411763",
         "0.0",
         "2.494700264914546",
         "85"
        ],
        [
         "24",
         "320",
         "0-60 min",
         "73.80931458699473",
         "14.5",
         "198.53374046971166",
         "1138"
        ],
        [
         "25",
         "320",
         "61-120 min",
         "59.773980582524274",
         "24.0",
         "105.40505692112534",
         "10300"
        ],
        [
         "26",
         "320",
         "121-180 min",
         "51.67027845741582",
         "19.0",
         "104.05429498501277",
         "8583"
        ],
        [
         "27",
         "320",
         "181 - 240 min",
         "37.663770634231106",
         "7.0",
         "108.70115358309648",
         "2302"
        ],
        [
         "28",
         "320",
         "241 - 300 min",
         "78.60108976197304",
         "36.0",
         "148.02960593371603",
         "3487"
        ],
        [
         "29",
         "320",
         "301 - 360 min",
         "74.64128494943486",
         "35.0",
         "170.306479154956",
         "1681"
        ],
        [
         "30",
         "320",
         "361 - 420 min",
         "3.6666666666666665",
         "0.0",
         "16.521649805049787",
         "39"
        ],
        [
         "31",
         "320",
         "420+ min",
         "0.028169014084507043",
         "0.0",
         "0.41111322589651894",
         "213"
        ],
        [
         "32",
         "321",
         "0-60 min",
         null,
         null,
         null,
         "0"
        ],
        [
         "33",
         "321",
         "61-120 min",
         "252.5",
         "252.5",
         "10.606601717798213",
         "2"
        ],
        [
         "34",
         "321",
         "121-180 min",
         "174.0",
         "220.0",
         "156.16657773031974",
         "3"
        ],
        [
         "35",
         "321",
         "181 - 240 min",
         null,
         null,
         null,
         "0"
        ],
        [
         "36",
         "321",
         "241 - 300 min",
         null,
         null,
         null,
         "0"
        ],
        [
         "37",
         "321",
         "301 - 360 min",
         null,
         null,
         null,
         "0"
        ],
        [
         "38",
         "321",
         "361 - 420 min",
         null,
         null,
         null,
         "0"
        ],
        [
         "39",
         "321",
         "420+ min",
         null,
         null,
         null,
         "0"
        ],
        [
         "40",
         "32A",
         "0-60 min",
         "47.128846153846155",
         "0.0",
         "151.89393635845997",
         "2080"
        ],
        [
         "41",
         "32A",
         "61-120 min",
         "62.26523231011778",
         "23.0",
         "117.05697151151034",
         "10783"
        ],
        [
         "42",
         "32A",
         "121-180 min",
         "59.43055295220244",
         "20.0",
         "133.66334167040256",
         "16005"
        ],
        [
         "43",
         "32A",
         "181 - 240 min",
         "43.136281261326566",
         "4.0",
         "132.90567456466505",
         "2759"
        ],
        [
         "44",
         "32A",
         "241 - 300 min",
         "73.70860927152317",
         "5.0",
         "182.24084584940553",
         "604"
        ],
        [
         "45",
         "32A",
         "301 - 360 min",
         "86.79746835443038",
         "23.0",
         "155.1909807505872",
         "79"
        ],
        [
         "46",
         "32A",
         "361 - 420 min",
         "0.0",
         "0.0",
         "0.0",
         "50"
        ],
        [
         "47",
         "32A",
         "420+ min",
         "0.0",
         "0.0",
         "0.0",
         "407"
        ],
        [
         "48",
         "332",
         "0-60 min",
         "81.27777777777777",
         "18.5",
         "184.46410585587196",
         "36"
        ],
        [
         "49",
         "332",
         "61-120 min",
         "88.31229946524064",
         "45.0",
         "109.86690804056593",
         "935"
        ]
       ],
       "shape": {
        "columns": 6,
        "rows": 128
       }
      },
      "text/html": [
       "<div>\n",
       "<style scoped>\n",
       "    .dataframe tbody tr th:only-of-type {\n",
       "        vertical-align: middle;\n",
       "    }\n",
       "\n",
       "    .dataframe tbody tr th {\n",
       "        vertical-align: top;\n",
       "    }\n",
       "\n",
       "    .dataframe thead th {\n",
       "        text-align: right;\n",
       "    }\n",
       "</style>\n",
       "<table border=\"1\" class=\"dataframe\">\n",
       "  <thead>\n",
       "    <tr style=\"text-align: right;\">\n",
       "      <th></th>\n",
       "      <th>AC_num</th>\n",
       "      <th>duration_bins</th>\n",
       "      <th>mean</th>\n",
       "      <th>median</th>\n",
       "      <th>std</th>\n",
       "      <th>count</th>\n",
       "    </tr>\n",
       "  </thead>\n",
       "  <tbody>\n",
       "    <tr>\n",
       "      <th>0</th>\n",
       "      <td>319</td>\n",
       "      <td>0-60 min</td>\n",
       "      <td>3.730769</td>\n",
       "      <td>0.0</td>\n",
       "      <td>8.435912</td>\n",
       "      <td>26</td>\n",
       "    </tr>\n",
       "    <tr>\n",
       "      <th>1</th>\n",
       "      <td>319</td>\n",
       "      <td>61-120 min</td>\n",
       "      <td>NaN</td>\n",
       "      <td>NaN</td>\n",
       "      <td>NaN</td>\n",
       "      <td>0</td>\n",
       "    </tr>\n",
       "    <tr>\n",
       "      <th>2</th>\n",
       "      <td>319</td>\n",
       "      <td>121-180 min</td>\n",
       "      <td>42.748988</td>\n",
       "      <td>15.0</td>\n",
       "      <td>90.755018</td>\n",
       "      <td>247</td>\n",
       "    </tr>\n",
       "    <tr>\n",
       "      <th>3</th>\n",
       "      <td>319</td>\n",
       "      <td>181 - 240 min</td>\n",
       "      <td>121.800000</td>\n",
       "      <td>0.0</td>\n",
       "      <td>272.353080</td>\n",
       "      <td>5</td>\n",
       "    </tr>\n",
       "    <tr>\n",
       "      <th>4</th>\n",
       "      <td>319</td>\n",
       "      <td>241 - 300 min</td>\n",
       "      <td>NaN</td>\n",
       "      <td>NaN</td>\n",
       "      <td>NaN</td>\n",
       "      <td>0</td>\n",
       "    </tr>\n",
       "    <tr>\n",
       "      <th>...</th>\n",
       "      <td>...</td>\n",
       "      <td>...</td>\n",
       "      <td>...</td>\n",
       "      <td>...</td>\n",
       "      <td>...</td>\n",
       "      <td>...</td>\n",
       "    </tr>\n",
       "    <tr>\n",
       "      <th>123</th>\n",
       "      <td>M87</td>\n",
       "      <td>181 - 240 min</td>\n",
       "      <td>NaN</td>\n",
       "      <td>NaN</td>\n",
       "      <td>NaN</td>\n",
       "      <td>0</td>\n",
       "    </tr>\n",
       "    <tr>\n",
       "      <th>124</th>\n",
       "      <td>M87</td>\n",
       "      <td>241 - 300 min</td>\n",
       "      <td>NaN</td>\n",
       "      <td>NaN</td>\n",
       "      <td>NaN</td>\n",
       "      <td>0</td>\n",
       "    </tr>\n",
       "    <tr>\n",
       "      <th>125</th>\n",
       "      <td>M87</td>\n",
       "      <td>301 - 360 min</td>\n",
       "      <td>NaN</td>\n",
       "      <td>NaN</td>\n",
       "      <td>NaN</td>\n",
       "      <td>0</td>\n",
       "    </tr>\n",
       "    <tr>\n",
       "      <th>126</th>\n",
       "      <td>M87</td>\n",
       "      <td>361 - 420 min</td>\n",
       "      <td>NaN</td>\n",
       "      <td>NaN</td>\n",
       "      <td>NaN</td>\n",
       "      <td>0</td>\n",
       "    </tr>\n",
       "    <tr>\n",
       "      <th>127</th>\n",
       "      <td>M87</td>\n",
       "      <td>420+ min</td>\n",
       "      <td>NaN</td>\n",
       "      <td>NaN</td>\n",
       "      <td>NaN</td>\n",
       "      <td>0</td>\n",
       "    </tr>\n",
       "  </tbody>\n",
       "</table>\n",
       "<p>128 rows × 6 columns</p>\n",
       "</div>"
      ],
      "text/plain": [
       "    AC_num  duration_bins        mean  median         std  count\n",
       "0      319       0-60 min    3.730769     0.0    8.435912     26\n",
       "1      319     61-120 min         NaN     NaN         NaN      0\n",
       "2      319    121-180 min   42.748988    15.0   90.755018    247\n",
       "3      319  181 - 240 min  121.800000     0.0  272.353080      5\n",
       "4      319  241 - 300 min         NaN     NaN         NaN      0\n",
       "..     ...            ...         ...     ...         ...    ...\n",
       "123    M87  181 - 240 min         NaN     NaN         NaN      0\n",
       "124    M87  241 - 300 min         NaN     NaN         NaN      0\n",
       "125    M87  301 - 360 min         NaN     NaN         NaN      0\n",
       "126    M87  361 - 420 min         NaN     NaN         NaN      0\n",
       "127    M87       420+ min         NaN     NaN         NaN      0\n",
       "\n",
       "[128 rows x 6 columns]"
      ]
     },
     "execution_count": 71,
     "metadata": {},
     "output_type": "execute_result"
    }
   ],
   "source": [
    "\n",
    "bins = [0, 60, 120, 180, 240, 300, 360, 420, float('inf')]\n",
    "labels = ['0-60 min', '61-120 min', '121-180 min', '181 - 240 min', '241 - 300 min', '301 - 360 min', '361 - 420 min', '420+ min']\n",
    "df_train['duration_bins'] = pd.cut(df_train['duration_min'], bins=bins, labels=labels, right=False)\n",
    "\n",
    "grouped = df_train.groupby(['AC_num', 'duration_bins'])['target'].agg(['mean', 'median', 'std', 'count']).reset_index()\n",
    "grouped"
   ]
  },
  {
   "cell_type": "code",
   "execution_count": 80,
   "id": "bd16dc5f",
   "metadata": {},
   "outputs": [
    {
     "name": "stderr",
     "output_type": "stream",
     "text": [
      "c:\\Users\\mlaps\\neuefische\\flight_delay_project\\.venv\\Lib\\site-packages\\seaborn\\algorithms.py:98: RuntimeWarning: Mean of empty slice\n",
      "  boot_dist.append(f(*sample, **func_kwargs))\n"
     ]
    },
    {
     "data": {
      "image/png": "[encoded data removed]",
      "text/plain": [
       "<Figure size 1000x600 with 1 Axes>"
      ]
     },
     "metadata": {},
     "output_type": "display_data"
    }
   ],
   "source": [
    "plt.figure(figsize=(10, 6))  # Adjust figure size as needed\n",
    "sns.barplot(x='duration_bins', y='median', data=grouped)\n",
    "plt.title('Median delay')\n",
    "plt.xlabel('Flight Durations')\n",
    "plt.xticks(rotation=45, ha='right')  # Rotate x-axis labels for better readability\n",
    "plt.grid()\n",
    "plt.tight_layout()\n",
    "plt.show()"
   ]
  },
  {
   "cell_type": "code",
   "execution_count": 22,
   "id": "08608b66",
   "metadata": {},
   "outputs": [
    {
     "data": {
      "image/png": "[encoded data removed]",
      "text/plain": [
       "<Figure size 2000x1000 with 1 Axes>"
      ]
     },
     "metadata": {},
     "output_type": "display_data"
    }
   ],
   "source": [
    "plt.figure(figsize=(20, 10))\n",
    "\n",
    "top_AC = grouped_AC\n",
    "\n",
    "bar_width = 0.25\n",
    "x = np.arange(len(top_AC['AC_num']))\n",
    "\n",
    "plt.bar(x - bar_width, top_AC['mean'], bar_width, label='mean delay')\n",
    "plt.bar(x + bar_width, top_AC['median'], bar_width, label='median delay')\n",
    "plt.bar(x, top_AC['std'], bar_width, label='std delay')\n",
    "\n",
    "plt.xlabel('Aircraft')\n",
    "plt.ylabel('Delay [min]')\n",
    "plt.xticks(x, top_AC['AC_num'], rotation=45)\n",
    "plt.legend()\n",
    "plt.grid()\n",
    "plt.tight_layout()\n",
    "plt.show()"
   ]
  },
  {
   "cell_type": "code",
   "execution_count": 60,
   "id": "c9af5a5f",
   "metadata": {},
   "outputs": [
    {
     "data": {
      "text/plain": [
       "<Axes: xlabel='AC_num', ylabel='median'>"
      ]
     },
     "execution_count": 60,
     "metadata": {},
     "output_type": "execute_result"
    },
    {
     "data": {
      "image/png": "[encoded data removed]",
      "text/plain": [
       "<Figure size 640x480 with 1 Axes>"
      ]
     },
     "metadata": {},
     "output_type": "display_data"
    }
   ],
   "source": [
    "grouped_AC= grouped_AC.sort_values(by=\"count\", ascending=False)\n",
    "sns.scatterplot(data=grouped_AC, x= \"AC_num\", y=\"median\", hue=\"count\")"
   ]
  },
  {
   "cell_type": "code",
   "execution_count": 23,
   "id": "9d6336fd",
   "metadata": {},
   "outputs": [
    {
     "data": {
      "text/plain": [
       "<Axes: xlabel='AC_num', ylabel='target'>"
      ]
     },
     "execution_count": 23,
     "metadata": {},
     "output_type": "execute_result"
    },
    {
     "data": {
      "image/png": "[encoded data removed]",
      "text/plain": [
       "<Figure size 640x480 with 1 Axes>"
      ]
     },
     "metadata": {},
     "output_type": "display_data"
    }
   ],
   "source": [
    "sns.boxplot(x= df_train[\"AC_num\"], y=df_train[\"target\"])"
   ]
  },
  {
   "cell_type": "code",
   "execution_count": 24,
   "id": "e2a49e53",
   "metadata": {},
   "outputs": [],
   "source": [
    "# status_dummies = pd.get_dummies(df_train.STATUS, drop_first=True)\n",
    "# df_train = pd.concat([df_train, status_dummies], axis=1)\n",
    "\n",
    "\n",
    "# df_train.head()\n"
   ]
  },
  {
   "cell_type": "code",
   "execution_count": 59,
   "id": "1895807d",
   "metadata": {},
   "outputs": [
    {
     "data": {
      "image/png": "[encoded data removed]",
      "text/plain": [
       "<Figure size 2000x1000 with 2 Axes>"
      ]
     },
     "metadata": {},
     "output_type": "display_data"
    }
   ],
   "source": [
    "plt.figure(figsize=(20, 10))\n",
    "sns.heatmap(df_train.corr(numeric_only=True), annot=True)\n",
    "plt.show()"
   ]
  },
  {
   "cell_type": "code",
   "execution_count": 26,
   "id": "0e54fe4d",
   "metadata": {},
   "outputs": [
    {
     "data": {
      "text/plain": [
       "DATOP       FLTID     DEPSTN  ARRSTN  STD                  STA                  STATUS  AC         target  airline_code  flt_num  AC_num  route    STA_day  STA_month  STA_hour  STD_day  STD_month  STD_hour\n",
       "2016-01-01  TU 0216   TUN     IST     2016-01-01 16:00:00  2016-01-01 18:35:00  ATA     TU 320IMU  184.0   TU            0216     320     TUN-IST  4        1          18        4        1          16          1\n",
       "2018-01-28  TU 0848   BEY     TUN     2018-01-28 11:35:00  2018-01-28 15:10:00  ATA     TU 320IMS  5.0     TU            0848     320     BEY-TUN  6        1          15        6        1          11          1\n",
       "            TU 0996   TUN     NCE     2018-01-28 07:50:00  2018-01-28 09:20:00  ATA     TU 32AIMN  24.0    TU            0996     32A     TUN-NCE  6        1          9         6        1          7           1\n",
       "            TU 0931   MRS     TUN     2018-01-28 09:50:00  2018-01-28 11:25:00  ATA     TU 320IMV  38.0    TU            0931     320     MRS-TUN  6        1          11        6        1          9           1\n",
       "            TU 0930   TUN     MRS     2018-01-28 07:25:00  2018-01-28 09:00:00  ATA     TU 320IMV  43.0    TU            0930     320     TUN-MRS  6        1          9         6        1          7           1\n",
       "                                                                                                                                                                                                                ..\n",
       "2017-03-14  TU 0789   BRU     TUN     2017-03-14 11:25:00  2017-03-14 14:05:00  ATA     TU 32AIMD  27.0    TU            0789     32A     BRU-TUN  1        3          14        1        3          11          1\n",
       "            TU 0791   LHR     TUN     2017-03-14 16:50:00  2017-03-14 19:50:00  ATA     TU 32AIMH  6.0     TU            0791     32A     LHR-TUN  1        3          19        1        3          16          1\n",
       "            TU 0814   CAI     TUN     2017-03-14 11:00:00  2017-03-14 14:20:00  ATA     TU 320IMW  43.0    TU            0814     320     CAI-TUN  1        3          14        1        3          11          1\n",
       "            TU 0881   AMS     TUN     2017-03-14 10:00:00  2017-03-14 12:50:00  ATA     TU 736IOP  30.0    TU            0881     736     AMS-TUN  1        3          12        1        3          10          1\n",
       "2018-12-31  TU 9003   DJE     TUN     2018-12-31 21:35:00  2018-12-31 22:25:00  ATA     TU 736IOQ  10.0    TU            9003     736     DJE-TUN  0        12         22        0        12         21          1\n",
       "Name: count, Length: 69665, dtype: int64"
      ]
     },
     "execution_count": 26,
     "metadata": {},
     "output_type": "execute_result"
    }
   ],
   "source": [
    "df_train[df_train.target > 0 ].value_counts()"
   ]
  },
  {
   "cell_type": "code",
   "execution_count": 28,
   "id": "529d2b50",
   "metadata": {},
   "outputs": [],
   "source": [
    "# (df_train.flt_num[df_train.target > 0 ].value_counts() / df_train.flt_num.value_counts()) * 100"
   ]
  },
  {
   "cell_type": "markdown",
   "id": "5894a0d7",
   "metadata": {},
   "source": [
    "### Locations\n"
   ]
  },
  {
   "cell_type": "code",
   "execution_count": 90,
   "id": "608e1f8c",
   "metadata": {},
   "outputs": [
    {
     "data": {
      "application/vnd.microsoft.datawrangler.viewer.v0+json": {
       "columns": [
        {
         "name": "index",
         "rawType": "int64",
         "type": "integer"
        },
        {
         "name": "iata",
         "rawType": "object",
         "type": "unknown"
        },
        {
         "name": "country",
         "rawType": "object",
         "type": "string"
        },
        {
         "name": "lon",
         "rawType": "float64",
         "type": "float"
        },
        {
         "name": "lat",
         "rawType": "float64",
         "type": "float"
        }
       ],
       "conversionMethod": "pd.DataFrame",
       "ref": "b494d1b9-a6b1-49d8-94e6-5817406b27e9",
       "rows": [
        [
         "0",
         "",
         "US",
         "-151.695999146",
         "59.94919968"
        ],
        [
         "1",
         "",
         "US",
         "-86.7703018188",
         "34.8647994995"
        ],
        [
         "2",
         "",
         "US",
         "-112.1650009155",
         "34.3055992126"
        ],
        [
         "3",
         "",
         "US",
         "-116.888000488",
         "35.3504981995"
        ],
        [
         "4",
         "",
         "US",
         "-121.76342777",
         "39.42718888"
        ],
        [
         "5",
         "",
         "US",
         "-104.34400177",
         "40.6222000122"
        ],
        [
         "6",
         "",
         "US",
         "-82.21900177",
         "28.6455001831"
        ],
        [
         "7",
         "",
         "US",
         "-80.9692001343",
         "27.2308998108"
        ],
        [
         "8",
         "",
         "US",
         "-84.0682983398",
         "33.7675018311"
        ],
        [
         "9",
         "",
         "US",
         "-116.2139968872",
         "48.1453018188"
        ],
        [
         "10",
         "",
         "US",
         "-89.5604019165",
         "41.9784011841"
        ],
        [
         "11",
         "",
         "US",
         "-89.1229019165",
         "40.0256004333"
        ],
        [
         "12",
         "",
         "US",
         "-94.9304962158",
         "38.7277984619"
        ],
        [
         "13",
         "",
         "US",
         "-84.6196975708",
         "37.4094009399"
        ],
        [
         "14",
         "",
         "US",
         "-92.429397583",
         "30.1362991333"
        ],
        [
         "15",
         "",
         "US",
         "-75.7537994385",
         "38.7570991516"
        ],
        [
         "16",
         "",
         "US",
         "-95.700302124",
         "46.2999992371"
        ],
        [
         "17",
         "",
         "US",
         "-94.412399292",
         "37.2028007507"
        ],
        [
         "18",
         "",
         "US",
         "-109.7050018311",
         "48.5374984741"
        ],
        [
         "19",
         "",
         "US",
         "-78.3713989258",
         "36.0852012634"
        ],
        [
         "20",
         "",
         "US",
         "-77.4997024536",
         "42.900100708"
        ],
        [
         "21",
         "",
         "US",
         "-84.1421966553",
         "41.5909004211"
        ],
        [
         "22",
         "",
         "US",
         "-80.211111",
         "41.2995"
        ],
        [
         "23",
         "",
         "US",
         "-77.3653030396",
         "40.3777999878"
        ],
        [
         "24",
         "",
         "US",
         "-80.2671966553",
         "34.0093994141"
        ],
        [
         "25",
         "",
         "US",
         "-85.9535980225",
         "35.5158996582"
        ],
        [
         "26",
         "",
         "US",
         "-97.2419967651",
         "32.6076011658"
        ],
        [
         "27",
         "",
         "US",
         "-95.67313",
         "32.544452"
        ],
        [
         "28",
         "",
         "US",
         "-78.9991684",
         "36.57600021"
        ],
        [
         "29",
         "",
         "US",
         "-80.49949646",
         "36.6632995605"
        ],
        [
         "30",
         "",
         "US",
         "-122.7720031738",
         "47.1783981323"
        ],
        [
         "31",
         "",
         "US",
         "-89.0501022339",
         "44.3042984009"
        ],
        [
         "32",
         "",
         "US",
         "-117.2490005493",
         "46.25"
        ],
        [
         "33",
         "",
         "US",
         "-79.8660964966",
         "38.8288993835"
        ],
        [
         "34",
         "",
         "US",
         "-101.9339981079",
         "33.0334014893"
        ],
        [
         "35",
         "",
         "US",
         "-86.5139007568",
         "32.9459991455"
        ],
        [
         "36",
         "",
         "US",
         "-120.7340011597",
         "38.7999000549"
        ],
        [
         "37",
         "",
         "US",
         "-81.144203186",
         "28.5893993378"
        ],
        [
         "38",
         "",
         "US",
         "-81.1592025757",
         "28.7819004059"
        ],
        [
         "39",
         "",
         "US",
         "-82.7711029053",
         "32.6744003296"
        ],
        [
         "40",
         "",
         "US",
         "-90.7413024902",
         "41.6610984802"
        ],
        [
         "41",
         "",
         "US",
         "-112.0319976807",
         "42.6082000732"
        ],
        [
         "42",
         "",
         "US",
         "-86.5066986084",
         "39.8849983215"
        ],
        [
         "43",
         "",
         "US",
         "-90.3181991577",
         "39.0162010193"
        ],
        [
         "44",
         "",
         "US",
         "-97.0033035278",
         "38.540599823"
        ],
        [
         "45",
         "",
         "US",
         "-91.7736968994",
         "32.638999939"
        ],
        [
         "46",
         "",
         "US",
         "-89.4638977051",
         "38.1258010864"
        ],
        [
         "47",
         "",
         "US",
         "-91.0774002075",
         "30.7059993744"
        ],
        [
         "48",
         "",
         "US",
         "-114.8799972534",
         "48.789100647"
        ],
        [
         "49",
         "",
         "US",
         "-77.5813980103",
         "34.4752998352"
        ]
       ],
       "shape": {
        "columns": 4,
        "rows": 29267
       }
      },
      "text/html": [
       "<div>\n",
       "<style scoped>\n",
       "    .dataframe tbody tr th:only-of-type {\n",
       "        vertical-align: middle;\n",
       "    }\n",
       "\n",
       "    .dataframe tbody tr th {\n",
       "        vertical-align: top;\n",
       "    }\n",
       "\n",
       "    .dataframe thead th {\n",
       "        text-align: right;\n",
       "    }\n",
       "</style>\n",
       "<table border=\"1\" class=\"dataframe\">\n",
       "  <thead>\n",
       "    <tr style=\"text-align: right;\">\n",
       "      <th></th>\n",
       "      <th>iata</th>\n",
       "      <th>country</th>\n",
       "      <th>lon</th>\n",
       "      <th>lat</th>\n",
       "    </tr>\n",
       "  </thead>\n",
       "  <tbody>\n",
       "    <tr>\n",
       "      <th>0</th>\n",
       "      <td></td>\n",
       "      <td>US</td>\n",
       "      <td>-151.695999</td>\n",
       "      <td>59.949200</td>\n",
       "    </tr>\n",
       "    <tr>\n",
       "      <th>1</th>\n",
       "      <td></td>\n",
       "      <td>US</td>\n",
       "      <td>-86.770302</td>\n",
       "      <td>34.864799</td>\n",
       "    </tr>\n",
       "    <tr>\n",
       "      <th>2</th>\n",
       "      <td></td>\n",
       "      <td>US</td>\n",
       "      <td>-112.165001</td>\n",
       "      <td>34.305599</td>\n",
       "    </tr>\n",
       "    <tr>\n",
       "      <th>3</th>\n",
       "      <td></td>\n",
       "      <td>US</td>\n",
       "      <td>-116.888000</td>\n",
       "      <td>35.350498</td>\n",
       "    </tr>\n",
       "    <tr>\n",
       "      <th>4</th>\n",
       "      <td></td>\n",
       "      <td>US</td>\n",
       "      <td>-121.763428</td>\n",
       "      <td>39.427189</td>\n",
       "    </tr>\n",
       "    <tr>\n",
       "      <th>...</th>\n",
       "      <td>...</td>\n",
       "      <td>...</td>\n",
       "      <td>...</td>\n",
       "      <td>...</td>\n",
       "    </tr>\n",
       "    <tr>\n",
       "      <th>29262</th>\n",
       "      <td>TNH</td>\n",
       "      <td>CN</td>\n",
       "      <td>125.703333</td>\n",
       "      <td>42.253889</td>\n",
       "    </tr>\n",
       "    <tr>\n",
       "      <th>29263</th>\n",
       "      <td>SHE</td>\n",
       "      <td>CN</td>\n",
       "      <td>123.483002</td>\n",
       "      <td>41.639801</td>\n",
       "    </tr>\n",
       "    <tr>\n",
       "      <th>29264</th>\n",
       "      <td>XEN</td>\n",
       "      <td>CN</td>\n",
       "      <td>120.697998</td>\n",
       "      <td>40.580299</td>\n",
       "    </tr>\n",
       "    <tr>\n",
       "      <th>29265</th>\n",
       "      <td>YNJ</td>\n",
       "      <td>CN</td>\n",
       "      <td>129.451004</td>\n",
       "      <td>42.882801</td>\n",
       "    </tr>\n",
       "    <tr>\n",
       "      <th>29266</th>\n",
       "      <td></td>\n",
       "      <td>CN</td>\n",
       "      <td>123.496002</td>\n",
       "      <td>41.784401</td>\n",
       "    </tr>\n",
       "  </tbody>\n",
       "</table>\n",
       "<p>29267 rows × 4 columns</p>\n",
       "</div>"
      ],
      "text/plain": [
       "      iata country         lon        lat\n",
       "0               US -151.695999  59.949200\n",
       "1               US  -86.770302  34.864799\n",
       "2               US -112.165001  34.305599\n",
       "3               US -116.888000  35.350498\n",
       "4               US -121.763428  39.427189\n",
       "...    ...     ...         ...        ...\n",
       "29262  TNH      CN  125.703333  42.253889\n",
       "29263  SHE      CN  123.483002  41.639801\n",
       "29264  XEN      CN  120.697998  40.580299\n",
       "29265  YNJ      CN  129.451004  42.882801\n",
       "29266           CN  123.496002  41.784401\n",
       "\n",
       "[29267 rows x 4 columns]"
      ]
     },
     "execution_count": 90,
     "metadata": {},
     "output_type": "execute_result"
    }
   ],
   "source": [
    "\n",
    "with open('Airports-master/airports.json', 'r') as f:\n",
    "    data = json.load(f)\n",
    "\n",
    "airports = []\n",
    "for airport_code, details in data.items():\n",
    "    record = {\n",
    "        'iata': details.get('iata', ''),\n",
    "        'country': details.get('country', ''),\n",
    "        'lon': details.get('lon', None),\n",
    "        'lat': details.get('lat', None)\n",
    "    }\n",
    "    airports.append(record)\n",
    "\n",
    "\n",
    "df_airports = pd.DataFrame(airports)\n",
    "\n",
    "df_airports\n"
   ]
  },
  {
   "cell_type": "code",
   "execution_count": 97,
   "id": "030dd2d1",
   "metadata": {},
   "outputs": [
    {
     "data": {
      "application/vnd.microsoft.datawrangler.viewer.v0+json": {
       "columns": [
        {
         "name": "index",
         "rawType": "int64",
         "type": "integer"
        },
        {
         "name": "DATOP",
         "rawType": "object",
         "type": "unknown"
        },
        {
         "name": "FLTID",
         "rawType": "object",
         "type": "string"
        },
        {
         "name": "DEPSTN",
         "rawType": "object",
         "type": "string"
        },
        {
         "name": "ARRSTN",
         "rawType": "object",
         "type": "string"
        },
        {
         "name": "STD",
         "rawType": "datetime64[ns]",
         "type": "datetime"
        },
        {
         "name": "STA",
         "rawType": "datetime64[ns]",
         "type": "datetime"
        },
        {
         "name": "STATUS",
         "rawType": "object",
         "type": "string"
        },
        {
         "name": "AC",
         "rawType": "object",
         "type": "string"
        },
        {
         "name": "target",
         "rawType": "float64",
         "type": "float"
        },
        {
         "name": "airline_code",
         "rawType": "object",
         "type": "string"
        },
        {
         "name": "flt_num",
         "rawType": "object",
         "type": "string"
        },
        {
         "name": "AC_num",
         "rawType": "object",
         "type": "string"
        },
        {
         "name": "route",
         "rawType": "object",
         "type": "string"
        },
        {
         "name": "STD_duration",
         "rawType": "timedelta64[ns]",
         "type": "unknown"
        },
        {
         "name": "STA_day",
         "rawType": "int32",
         "type": "integer"
        },
        {
         "name": "STA_month",
         "rawType": "int32",
         "type": "integer"
        },
        {
         "name": "STA_hour",
         "rawType": "int32",
         "type": "integer"
        },
        {
         "name": "STD_day",
         "rawType": "int32",
         "type": "integer"
        },
        {
         "name": "STD_month",
         "rawType": "int32",
         "type": "integer"
        },
        {
         "name": "STD_hour",
         "rawType": "int32",
         "type": "integer"
        },
        {
         "name": "duration_min",
         "rawType": "Float64",
         "type": "float"
        },
        {
         "name": "duration_bins",
         "rawType": "category",
         "type": "unknown"
        },
        {
         "name": "DEP_lat",
         "rawType": "float64",
         "type": "float"
        },
        {
         "name": "DEP_lon",
         "rawType": "float64",
         "type": "float"
        },
        {
         "name": "DEP_country",
         "rawType": "object",
         "type": "string"
        },
        {
         "name": "ARR_lat",
         "rawType": "float64",
         "type": "float"
        },
        {
         "name": "ARR_lon",
         "rawType": "float64",
         "type": "float"
        },
        {
         "name": "ARR_country",
         "rawType": "object",
         "type": "string"
        }
       ],
       "conversionMethod": "pd.DataFrame",
       "ref": "89a86b7e-80ed-429b-9c55-36767300e968",
       "rows": [
        [
         "0",
         "2016-01-03",
         "TU 0712 ",
         "CMN",
         "TUN",
         "2016-01-03 10:30:00",
         "2016-01-03 12:55:00",
         "ATA",
         "TU 32AIMN",
         "260.0",
         "TU",
         "0712",
         "32A",
         "CMN-TUN",
         "0 days 02:25:00",
         "6",
         "1",
         "12",
         "6",
         "1",
         "10",
         "145.0",
         "121-180 min",
         "33.3675003052",
         "-7.5899701118",
         "MA",
         "36.8510017395",
         "10.2271995544",
         "TN"
        ],
        [
         "1",
         "2016-01-13",
         "TU 0757 ",
         "MXP",
         "TUN",
         "2016-01-13 15:05:00",
         "2016-01-13 16:55:00",
         "ATA",
         "TU 31BIMO",
         "20.0",
         "TU",
         "0757",
         "31B",
         "MXP-TUN",
         "0 days 01:50:00",
         "2",
         "1",
         "16",
         "2",
         "1",
         "15",
         "110.0",
         "61-120 min",
         "45.6305999756",
         "8.7281103134",
         "IT",
         "36.8510017395",
         "10.2271995544",
         "TN"
        ],
        [
         "2",
         "2016-01-16",
         "TU 0214 ",
         "TUN",
         "IST",
         "2016-01-16 04:10:00",
         "2016-01-16 06:45:00",
         "ATA",
         "TU 32AIMN",
         "0.0",
         "TU",
         "0214",
         "32A",
         "TUN-IST",
         "0 days 02:35:00",
         "5",
         "1",
         "6",
         "5",
         "1",
         "4",
         "155.0",
         "121-180 min",
         "36.8510017395",
         "10.2271995544",
         "TN",
         "41.262222",
         "28.727778",
         "TR"
        ],
        [
         "3",
         "2016-01-17",
         "TU 0480 ",
         "DJE",
         "NTE",
         "2016-01-17 14:10:00",
         "2016-01-17 17:00:00",
         "ATA",
         "TU 736IOK",
         "0.0",
         "TU",
         "0480",
         "736",
         "DJE-NTE",
         "0 days 02:50:00",
         "6",
         "1",
         "17",
         "6",
         "1",
         "14",
         "170.0",
         "121-180 min",
         "33.875",
         "10.7755002975",
         "TN",
         "47.1531982422",
         "-1.610730052",
         "FR"
        ],
        [
         "4",
         "2016-01-17",
         "TU 0338 ",
         "TUN",
         "ALG",
         "2016-01-17 14:30:00",
         "2016-01-17 15:50:00",
         "ATA",
         "TU 320IMU",
         "22.0",
         "TU",
         "0338",
         "320",
         "TUN-ALG",
         "0 days 01:20:00",
         "6",
         "1",
         "15",
         "6",
         "1",
         "14",
         "80.0",
         "61-120 min",
         "36.8510017395",
         "10.2271995544",
         "TN",
         "36.6910018921",
         "3.2154099941",
         "DZ"
        ]
       ],
       "shape": {
        "columns": 28,
        "rows": 5
       }
      },
      "text/html": [
       "<div>\n",
       "<style scoped>\n",
       "    .dataframe tbody tr th:only-of-type {\n",
       "        vertical-align: middle;\n",
       "    }\n",
       "\n",
       "    .dataframe tbody tr th {\n",
       "        vertical-align: top;\n",
       "    }\n",
       "\n",
       "    .dataframe thead th {\n",
       "        text-align: right;\n",
       "    }\n",
       "</style>\n",
       "<table border=\"1\" class=\"dataframe\">\n",
       "  <thead>\n",
       "    <tr style=\"text-align: right;\">\n",
       "      <th></th>\n",
       "      <th>DATOP</th>\n",
       "      <th>FLTID</th>\n",
       "      <th>DEPSTN</th>\n",
       "      <th>ARRSTN</th>\n",
       "      <th>STD</th>\n",
       "      <th>STA</th>\n",
       "      <th>STATUS</th>\n",
       "      <th>AC</th>\n",
       "      <th>target</th>\n",
       "      <th>airline_code</th>\n",
       "      <th>...</th>\n",
       "      <th>STD_month</th>\n",
       "      <th>STD_hour</th>\n",
       "      <th>duration_min</th>\n",
       "      <th>duration_bins</th>\n",
       "      <th>DEP_lat</th>\n",
       "      <th>DEP_lon</th>\n",
       "      <th>DEP_country</th>\n",
       "      <th>ARR_lat</th>\n",
       "      <th>ARR_lon</th>\n",
       "      <th>ARR_country</th>\n",
       "    </tr>\n",
       "  </thead>\n",
       "  <tbody>\n",
       "    <tr>\n",
       "      <th>0</th>\n",
       "      <td>2016-01-03</td>\n",
       "      <td>TU 0712</td>\n",
       "      <td>CMN</td>\n",
       "      <td>TUN</td>\n",
       "      <td>2016-01-03 10:30:00</td>\n",
       "      <td>2016-01-03 12:55:00</td>\n",
       "      <td>ATA</td>\n",
       "      <td>TU 32AIMN</td>\n",
       "      <td>260.0</td>\n",
       "      <td>TU</td>\n",
       "      <td>...</td>\n",
       "      <td>1</td>\n",
       "      <td>10</td>\n",
       "      <td>145.0</td>\n",
       "      <td>121-180 min</td>\n",
       "      <td>33.367500</td>\n",
       "      <td>-7.58997</td>\n",
       "      <td>MA</td>\n",
       "      <td>36.851002</td>\n",
       "      <td>10.227200</td>\n",
       "      <td>TN</td>\n",
       "    </tr>\n",
       "    <tr>\n",
       "      <th>1</th>\n",
       "      <td>2016-01-13</td>\n",
       "      <td>TU 0757</td>\n",
       "      <td>MXP</td>\n",
       "      <td>TUN</td>\n",
       "      <td>2016-01-13 15:05:00</td>\n",
       "      <td>2016-01-13 16:55:00</td>\n",
       "      <td>ATA</td>\n",
       "      <td>TU 31BIMO</td>\n",
       "      <td>20.0</td>\n",
       "      <td>TU</td>\n",
       "      <td>...</td>\n",
       "      <td>1</td>\n",
       "      <td>15</td>\n",
       "      <td>110.0</td>\n",
       "      <td>61-120 min</td>\n",
       "      <td>45.630600</td>\n",
       "      <td>8.72811</td>\n",
       "      <td>IT</td>\n",
       "      <td>36.851002</td>\n",
       "      <td>10.227200</td>\n",
       "      <td>TN</td>\n",
       "    </tr>\n",
       "    <tr>\n",
       "      <th>2</th>\n",
       "      <td>2016-01-16</td>\n",
       "      <td>TU 0214</td>\n",
       "      <td>TUN</td>\n",
       "      <td>IST</td>\n",
       "      <td>2016-01-16 04:10:00</td>\n",
       "      <td>2016-01-16 06:45:00</td>\n",
       "      <td>ATA</td>\n",
       "      <td>TU 32AIMN</td>\n",
       "      <td>0.0</td>\n",
       "      <td>TU</td>\n",
       "      <td>...</td>\n",
       "      <td>1</td>\n",
       "      <td>4</td>\n",
       "      <td>155.0</td>\n",
       "      <td>121-180 min</td>\n",
       "      <td>36.851002</td>\n",
       "      <td>10.22720</td>\n",
       "      <td>TN</td>\n",
       "      <td>41.262222</td>\n",
       "      <td>28.727778</td>\n",
       "      <td>TR</td>\n",
       "    </tr>\n",
       "    <tr>\n",
       "      <th>3</th>\n",
       "      <td>2016-01-17</td>\n",
       "      <td>TU 0480</td>\n",
       "      <td>DJE</td>\n",
       "      <td>NTE</td>\n",
       "      <td>2016-01-17 14:10:00</td>\n",
       "      <td>2016-01-17 17:00:00</td>\n",
       "      <td>ATA</td>\n",
       "      <td>TU 736IOK</td>\n",
       "      <td>0.0</td>\n",
       "      <td>TU</td>\n",
       "      <td>...</td>\n",
       "      <td>1</td>\n",
       "      <td>14</td>\n",
       "      <td>170.0</td>\n",
       "      <td>121-180 min</td>\n",
       "      <td>33.875000</td>\n",
       "      <td>10.77550</td>\n",
       "      <td>TN</td>\n",
       "      <td>47.153198</td>\n",
       "      <td>-1.610730</td>\n",
       "      <td>FR</td>\n",
       "    </tr>\n",
       "    <tr>\n",
       "      <th>4</th>\n",
       "      <td>2016-01-17</td>\n",
       "      <td>TU 0338</td>\n",
       "      <td>TUN</td>\n",
       "      <td>ALG</td>\n",
       "      <td>2016-01-17 14:30:00</td>\n",
       "      <td>2016-01-17 15:50:00</td>\n",
       "      <td>ATA</td>\n",
       "      <td>TU 320IMU</td>\n",
       "      <td>22.0</td>\n",
       "      <td>TU</td>\n",
       "      <td>...</td>\n",
       "      <td>1</td>\n",
       "      <td>14</td>\n",
       "      <td>80.0</td>\n",
       "      <td>61-120 min</td>\n",
       "      <td>36.851002</td>\n",
       "      <td>10.22720</td>\n",
       "      <td>TN</td>\n",
       "      <td>36.691002</td>\n",
       "      <td>3.215410</td>\n",
       "      <td>DZ</td>\n",
       "    </tr>\n",
       "  </tbody>\n",
       "</table>\n",
       "<p>5 rows × 28 columns</p>\n",
       "</div>"
      ],
      "text/plain": [
       "        DATOP     FLTID DEPSTN ARRSTN                 STD                 STA   \n",
       "0  2016-01-03  TU 0712     CMN    TUN 2016-01-03 10:30:00 2016-01-03 12:55:00  \\\n",
       "1  2016-01-13  TU 0757     MXP    TUN 2016-01-13 15:05:00 2016-01-13 16:55:00   \n",
       "2  2016-01-16  TU 0214     TUN    IST 2016-01-16 04:10:00 2016-01-16 06:45:00   \n",
       "3  2016-01-17  TU 0480     DJE    NTE 2016-01-17 14:10:00 2016-01-17 17:00:00   \n",
       "4  2016-01-17  TU 0338     TUN    ALG 2016-01-17 14:30:00 2016-01-17 15:50:00   \n",
       "\n",
       "  STATUS         AC  target airline_code  ... STD_month STD_hour duration_min   \n",
       "0    ATA  TU 32AIMN   260.0           TU  ...         1       10        145.0  \\\n",
       "1    ATA  TU 31BIMO    20.0           TU  ...         1       15        110.0   \n",
       "2    ATA  TU 32AIMN     0.0           TU  ...         1        4        155.0   \n",
       "3    ATA  TU 736IOK     0.0           TU  ...         1       14        170.0   \n",
       "4    ATA  TU 320IMU    22.0           TU  ...         1       14         80.0   \n",
       "\n",
       "  duration_bins    DEP_lat   DEP_lon  DEP_country    ARR_lat    ARR_lon   \n",
       "0   121-180 min  33.367500  -7.58997           MA  36.851002  10.227200  \\\n",
       "1    61-120 min  45.630600   8.72811           IT  36.851002  10.227200   \n",
       "2   121-180 min  36.851002  10.22720           TN  41.262222  28.727778   \n",
       "3   121-180 min  33.875000  10.77550           TN  47.153198  -1.610730   \n",
       "4    61-120 min  36.851002  10.22720           TN  36.691002   3.215410   \n",
       "\n",
       "   ARR_country  \n",
       "0           TN  \n",
       "1           TN  \n",
       "2           TR  \n",
       "3           FR  \n",
       "4           DZ  \n",
       "\n",
       "[5 rows x 28 columns]"
      ]
     },
     "execution_count": 97,
     "metadata": {},
     "output_type": "execute_result"
    }
   ],
   "source": [
    "# First merge for departure\n",
    "df_train_locations = df_train.merge(\n",
    "    df_airports[['iata', 'lat', 'lon', 'country']],\n",
    "    left_on='DEPSTN',\n",
    "    right_on='iata',\n",
    "    how='left'\n",
    ").rename(columns={\n",
    "    'lat': 'DEP_lat',\n",
    "    'lon': 'DEP_lon',\n",
    "    'country': 'DEP_country'\n",
    "}).drop(columns=['iata'])  # Drop redundant 'iata' after merge\n",
    "\n",
    "# Second merge for arrival\n",
    "df_train_locations = df_train_locations.merge(\n",
    "    df_airports[['iata', 'lat', 'lon', 'country']],\n",
    "    left_on='ARRSTN',\n",
    "    right_on='iata',\n",
    "    how='left'\n",
    ").rename(columns={\n",
    "    'lat': 'ARR_lat',\n",
    "    'lon': 'ARR_lon',\n",
    "    'country': 'ARR_country'\n",
    "}).drop(columns=['iata'])  # Drop redundant 'iata' after second merge\n",
    "\n",
    "# View the result\n",
    "df_train_locations.head()\n"
   ]
  },
  {
   "cell_type": "code",
   "execution_count": 98,
   "id": "46f93f29",
   "metadata": {},
   "outputs": [
    {
     "data": {
      "image/png": "[encoded data removed]",
      "text/plain": [
       "<Figure size 2000x1000 with 2 Axes>"
      ]
     },
     "metadata": {},
     "output_type": "display_data"
    }
   ],
   "source": [
    "plt.figure(figsize=(20, 10))\n",
    "sns.heatmap(df_train_locations.corr(numeric_only=True), annot=True)\n",
    "plt.show()"
   ]
  },
  {
   "cell_type": "code",
   "execution_count": 107,
   "id": "47f1e0cc",
   "metadata": {},
   "outputs": [
    {
     "data": {
      "application/vnd.microsoft.datawrangler.viewer.v0+json": {
       "columns": [
        {
         "name": "index",
         "rawType": "int64",
         "type": "integer"
        },
        {
         "name": "DEP_country",
         "rawType": "object",
         "type": "string"
        },
        {
         "name": "mean",
         "rawType": "float64",
         "type": "float"
        },
        {
         "name": "median",
         "rawType": "float64",
         "type": "float"
        },
        {
         "name": "count",
         "rawType": "int64",
         "type": "integer"
        },
        {
         "name": "std",
         "rawType": "float64",
         "type": "float"
        }
       ],
       "conversionMethod": "pd.DataFrame",
       "ref": "3b61c23d-821d-4583-b4a2-69e19f9b10e1",
       "rows": [
        [
         "0",
         "TN",
         "40.12641171684296",
         "9.0",
         "61450",
         "103.1843106759083"
        ],
        [
         "1",
         "FR",
         "59.38635336647086",
         "21.0",
         "17704",
         "124.6807556022322"
        ],
        [
         "2",
         "IT",
         "45.65888077858881",
         "10.0",
         "4110",
         "100.79346408498672"
        ],
        [
         "3",
         "DE",
         "48.47899159663866",
         "20.0",
         "3332",
         "139.40488249594455"
        ],
        [
         "4",
         "DZ",
         "83.42736185383244",
         "35.0",
         "2244",
         "142.85816797412997"
        ],
        [
         "5",
         "SA",
         "83.75987525987526",
         "35.0",
         "1924",
         "139.19355253112516"
        ],
        [
         "6",
         "MA",
         "41.99181669394435",
         "6.0",
         "1833",
         "100.9949814926896"
        ],
        [
         "7",
         "CH",
         "44.92866756393001",
         "14.0",
         "1486",
         "129.3201556307632"
        ],
        [
         "8",
         "TR",
         "96.45708446866485",
         "25.0",
         "1468",
         "170.07255417994625"
        ],
        [
         "9",
         "BE",
         "41.22834645669291",
         "16.0",
         "1397",
         "96.66178947998536"
        ],
        [
         "10",
         "ES",
         "59.17127496159754",
         "29.0",
         "1302",
         "92.9712823582564"
        ],
        [
         "11",
         "CZ",
         "37.732142857142854",
         "0.0",
         "1008",
         "119.44153264475352"
        ],
        [
         "12",
         "GB",
         "67.10847107438016",
         "33.0",
         "968",
         "139.42470664000592"
        ],
        [
         "13",
         "CI",
         "77.80194410692589",
         "26.0",
         "823",
         "229.94786967906109"
        ],
        [
         "14",
         "SN",
         "95.12005649717514",
         "50.0",
         "708",
         "154.1692377969166"
        ],
        [
         "15",
         "EG",
         "74.21830985915493",
         "30.0",
         "568",
         "145.4243254882044"
        ],
        [
         "16",
         "ML",
         "95.93258426966293",
         "44.0",
         "534",
         "186.12992281479782"
        ],
        [
         "17",
         "AT",
         "66.04545454545455",
         "20.0",
         "528",
         "173.82918674738684"
        ],
        [
         "18",
         "BF",
         "66.0068493150685",
         "29.0",
         "438",
         "139.86262448818567"
        ],
        [
         "19",
         "LB",
         "30.625",
         "10.0",
         "416",
         "66.80050320855123"
        ],
        [
         "20",
         "NL",
         "82.17548076923077",
         "38.5",
         "416",
         "153.36802096653"
        ],
        [
         "21",
         "PT",
         "52.35443037974684",
         "15.0",
         "395",
         "106.66421504389865"
        ],
        [
         "22",
         "MT",
         "5.394736842105263",
         "0.0",
         "342",
         "34.940574206552824"
        ],
        [
         "23",
         "NE",
         "69.2870090634441",
         "25.0",
         "331",
         "163.39967484611185"
        ],
        [
         "24",
         "MR",
         "110.58703071672355",
         "55.0",
         "293",
         "170.1095439841908"
        ],
        [
         "25",
         "RS",
         "52.70281124497992",
         "15.0",
         "249",
         "102.02841966572053"
        ],
        [
         "26",
         "CA",
         "45.69135802469136",
         "20.0",
         "243",
         "69.7589074809915"
        ],
        [
         "27",
         "RU",
         "98.12376237623762",
         "10.5",
         "202",
         "288.4868044607295"
        ],
        [
         "28",
         "GN",
         "91.66666666666667",
         "45.0",
         "177",
         "152.36505455151072"
        ],
        [
         "29",
         "HU",
         "37.578034682080926",
         "0.0",
         "173",
         "86.14307313767857"
        ],
        [
         "30",
         "SK",
         "34.09243697478992",
         "0.0",
         "119",
         "152.8621286193697"
        ],
        [
         "31",
         "SI",
         "39.107142857142854",
         "0.0",
         "112",
         "127.70012431599957"
        ],
        [
         "32",
         "BJ",
         "31.928571428571427",
         "9.5",
         "98",
         "85.5975057445643"
        ],
        [
         "33",
         "DK",
         "43.18181818181818",
         "0.0",
         "22",
         "79.76312333500891"
        ],
        [
         "34",
         "SE",
         "32.2",
         "0.0",
         "20",
         "91.3729200929673"
        ],
        [
         "35",
         "IQ",
         "70.17647058823529",
         "48.0",
         "17",
         "64.34500300539823"
        ],
        [
         "36",
         "GR",
         "88.8",
         "19.0",
         "10",
         "200.99684906319635"
        ],
        [
         "37",
         "BA",
         "0.0",
         "0.0",
         "8",
         "0.0"
        ],
        [
         "38",
         "LT",
         "1.0",
         "0.0",
         "5",
         "2.2360679774997894"
        ],
        [
         "39",
         "UA",
         "190.0",
         "0.0",
         "5",
         "276.8853553368252"
        ],
        [
         "40",
         "JO",
         "2.25",
         "0.0",
         "4",
         "4.5"
        ],
        [
         "41",
         "CD",
         "0.0",
         "0.0",
         "3",
         "0.0"
        ],
        [
         "42",
         "RW",
         "3.0",
         "3.0",
         "2",
         "4.242640687119285"
        ],
        [
         "43",
         "LU",
         "0.0",
         "0.0",
         "2",
         "0.0"
        ],
        [
         "44",
         "GA",
         "0.0",
         "0.0",
         "2",
         "0.0"
        ],
        [
         "45",
         "AO",
         "110.5",
         "110.5",
         "2",
         "156.27059864222701"
        ],
        [
         "46",
         "RO",
         "112.0",
         "112.0",
         "1",
         null
        ],
        [
         "47",
         "QA",
         "0.0",
         "0.0",
         "1",
         null
        ],
        [
         "48",
         "PL",
         "100.0",
         "100.0",
         "1",
         null
        ],
        [
         "49",
         "SD",
         "35.0",
         "35.0",
         "1",
         null
        ]
       ],
       "shape": {
        "columns": 5,
        "rows": 54
       }
      },
      "text/html": [
       "<div>\n",
       "<style scoped>\n",
       "    .dataframe tbody tr th:only-of-type {\n",
       "        vertical-align: middle;\n",
       "    }\n",
       "\n",
       "    .dataframe tbody tr th {\n",
       "        vertical-align: top;\n",
       "    }\n",
       "\n",
       "    .dataframe thead th {\n",
       "        text-align: right;\n",
       "    }\n",
       "</style>\n",
       "<table border=\"1\" class=\"dataframe\">\n",
       "  <thead>\n",
       "    <tr style=\"text-align: right;\">\n",
       "      <th></th>\n",
       "      <th>DEP_country</th>\n",
       "      <th>mean</th>\n",
       "      <th>median</th>\n",
       "      <th>count</th>\n",
       "      <th>std</th>\n",
       "    </tr>\n",
       "  </thead>\n",
       "  <tbody>\n",
       "    <tr>\n",
       "      <th>0</th>\n",
       "      <td>TN</td>\n",
       "      <td>40.126412</td>\n",
       "      <td>9.0</td>\n",
       "      <td>61450</td>\n",
       "      <td>103.184311</td>\n",
       "    </tr>\n",
       "    <tr>\n",
       "      <th>1</th>\n",
       "      <td>FR</td>\n",
       "      <td>59.386353</td>\n",
       "      <td>21.0</td>\n",
       "      <td>17704</td>\n",
       "      <td>124.680756</td>\n",
       "    </tr>\n",
       "    <tr>\n",
       "      <th>2</th>\n",
       "      <td>IT</td>\n",
       "      <td>45.658881</td>\n",
       "      <td>10.0</td>\n",
       "      <td>4110</td>\n",
       "      <td>100.793464</td>\n",
       "    </tr>\n",
       "    <tr>\n",
       "      <th>3</th>\n",
       "      <td>DE</td>\n",
       "      <td>48.478992</td>\n",
       "      <td>20.0</td>\n",
       "      <td>3332</td>\n",
       "      <td>139.404882</td>\n",
       "    </tr>\n",
       "    <tr>\n",
       "      <th>4</th>\n",
       "      <td>DZ</td>\n",
       "      <td>83.427362</td>\n",
       "      <td>35.0</td>\n",
       "      <td>2244</td>\n",
       "      <td>142.858168</td>\n",
       "    </tr>\n",
       "    <tr>\n",
       "      <th>5</th>\n",
       "      <td>SA</td>\n",
       "      <td>83.759875</td>\n",
       "      <td>35.0</td>\n",
       "      <td>1924</td>\n",
       "      <td>139.193553</td>\n",
       "    </tr>\n",
       "    <tr>\n",
       "      <th>6</th>\n",
       "      <td>MA</td>\n",
       "      <td>41.991817</td>\n",
       "      <td>6.0</td>\n",
       "      <td>1833</td>\n",
       "      <td>100.994981</td>\n",
       "    </tr>\n",
       "    <tr>\n",
       "      <th>7</th>\n",
       "      <td>CH</td>\n",
       "      <td>44.928668</td>\n",
       "      <td>14.0</td>\n",
       "      <td>1486</td>\n",
       "      <td>129.320156</td>\n",
       "    </tr>\n",
       "    <tr>\n",
       "      <th>8</th>\n",
       "      <td>TR</td>\n",
       "      <td>96.457084</td>\n",
       "      <td>25.0</td>\n",
       "      <td>1468</td>\n",
       "      <td>170.072554</td>\n",
       "    </tr>\n",
       "    <tr>\n",
       "      <th>9</th>\n",
       "      <td>BE</td>\n",
       "      <td>41.228346</td>\n",
       "      <td>16.0</td>\n",
       "      <td>1397</td>\n",
       "      <td>96.661789</td>\n",
       "    </tr>\n",
       "    <tr>\n",
       "      <th>10</th>\n",
       "      <td>ES</td>\n",
       "      <td>59.171275</td>\n",
       "      <td>29.0</td>\n",
       "      <td>1302</td>\n",
       "      <td>92.971282</td>\n",
       "    </tr>\n",
       "    <tr>\n",
       "      <th>11</th>\n",
       "      <td>CZ</td>\n",
       "      <td>37.732143</td>\n",
       "      <td>0.0</td>\n",
       "      <td>1008</td>\n",
       "      <td>119.441533</td>\n",
       "    </tr>\n",
       "    <tr>\n",
       "      <th>12</th>\n",
       "      <td>GB</td>\n",
       "      <td>67.108471</td>\n",
       "      <td>33.0</td>\n",
       "      <td>968</td>\n",
       "      <td>139.424707</td>\n",
       "    </tr>\n",
       "    <tr>\n",
       "      <th>13</th>\n",
       "      <td>CI</td>\n",
       "      <td>77.801944</td>\n",
       "      <td>26.0</td>\n",
       "      <td>823</td>\n",
       "      <td>229.947870</td>\n",
       "    </tr>\n",
       "    <tr>\n",
       "      <th>14</th>\n",
       "      <td>SN</td>\n",
       "      <td>95.120056</td>\n",
       "      <td>50.0</td>\n",
       "      <td>708</td>\n",
       "      <td>154.169238</td>\n",
       "    </tr>\n",
       "    <tr>\n",
       "      <th>15</th>\n",
       "      <td>EG</td>\n",
       "      <td>74.218310</td>\n",
       "      <td>30.0</td>\n",
       "      <td>568</td>\n",
       "      <td>145.424325</td>\n",
       "    </tr>\n",
       "    <tr>\n",
       "      <th>16</th>\n",
       "      <td>ML</td>\n",
       "      <td>95.932584</td>\n",
       "      <td>44.0</td>\n",
       "      <td>534</td>\n",
       "      <td>186.129923</td>\n",
       "    </tr>\n",
       "    <tr>\n",
       "      <th>17</th>\n",
       "      <td>AT</td>\n",
       "      <td>66.045455</td>\n",
       "      <td>20.0</td>\n",
       "      <td>528</td>\n",
       "      <td>173.829187</td>\n",
       "    </tr>\n",
       "    <tr>\n",
       "      <th>18</th>\n",
       "      <td>BF</td>\n",
       "      <td>66.006849</td>\n",
       "      <td>29.0</td>\n",
       "      <td>438</td>\n",
       "      <td>139.862624</td>\n",
       "    </tr>\n",
       "    <tr>\n",
       "      <th>19</th>\n",
       "      <td>LB</td>\n",
       "      <td>30.625000</td>\n",
       "      <td>10.0</td>\n",
       "      <td>416</td>\n",
       "      <td>66.800503</td>\n",
       "    </tr>\n",
       "    <tr>\n",
       "      <th>20</th>\n",
       "      <td>NL</td>\n",
       "      <td>82.175481</td>\n",
       "      <td>38.5</td>\n",
       "      <td>416</td>\n",
       "      <td>153.368021</td>\n",
       "    </tr>\n",
       "    <tr>\n",
       "      <th>21</th>\n",
       "      <td>PT</td>\n",
       "      <td>52.354430</td>\n",
       "      <td>15.0</td>\n",
       "      <td>395</td>\n",
       "      <td>106.664215</td>\n",
       "    </tr>\n",
       "    <tr>\n",
       "      <th>22</th>\n",
       "      <td>MT</td>\n",
       "      <td>5.394737</td>\n",
       "      <td>0.0</td>\n",
       "      <td>342</td>\n",
       "      <td>34.940574</td>\n",
       "    </tr>\n",
       "    <tr>\n",
       "      <th>23</th>\n",
       "      <td>NE</td>\n",
       "      <td>69.287009</td>\n",
       "      <td>25.0</td>\n",
       "      <td>331</td>\n",
       "      <td>163.399675</td>\n",
       "    </tr>\n",
       "    <tr>\n",
       "      <th>24</th>\n",
       "      <td>MR</td>\n",
       "      <td>110.587031</td>\n",
       "      <td>55.0</td>\n",
       "      <td>293</td>\n",
       "      <td>170.109544</td>\n",
       "    </tr>\n",
       "    <tr>\n",
       "      <th>25</th>\n",
       "      <td>RS</td>\n",
       "      <td>52.702811</td>\n",
       "      <td>15.0</td>\n",
       "      <td>249</td>\n",
       "      <td>102.028420</td>\n",
       "    </tr>\n",
       "    <tr>\n",
       "      <th>26</th>\n",
       "      <td>CA</td>\n",
       "      <td>45.691358</td>\n",
       "      <td>20.0</td>\n",
       "      <td>243</td>\n",
       "      <td>69.758907</td>\n",
       "    </tr>\n",
       "    <tr>\n",
       "      <th>27</th>\n",
       "      <td>RU</td>\n",
       "      <td>98.123762</td>\n",
       "      <td>10.5</td>\n",
       "      <td>202</td>\n",
       "      <td>288.486804</td>\n",
       "    </tr>\n",
       "    <tr>\n",
       "      <th>28</th>\n",
       "      <td>GN</td>\n",
       "      <td>91.666667</td>\n",
       "      <td>45.0</td>\n",
       "      <td>177</td>\n",
       "      <td>152.365055</td>\n",
       "    </tr>\n",
       "    <tr>\n",
       "      <th>29</th>\n",
       "      <td>HU</td>\n",
       "      <td>37.578035</td>\n",
       "      <td>0.0</td>\n",
       "      <td>173</td>\n",
       "      <td>86.143073</td>\n",
       "    </tr>\n",
       "    <tr>\n",
       "      <th>30</th>\n",
       "      <td>SK</td>\n",
       "      <td>34.092437</td>\n",
       "      <td>0.0</td>\n",
       "      <td>119</td>\n",
       "      <td>152.862129</td>\n",
       "    </tr>\n",
       "    <tr>\n",
       "      <th>31</th>\n",
       "      <td>SI</td>\n",
       "      <td>39.107143</td>\n",
       "      <td>0.0</td>\n",
       "      <td>112</td>\n",
       "      <td>127.700124</td>\n",
       "    </tr>\n",
       "    <tr>\n",
       "      <th>32</th>\n",
       "      <td>BJ</td>\n",
       "      <td>31.928571</td>\n",
       "      <td>9.5</td>\n",
       "      <td>98</td>\n",
       "      <td>85.597506</td>\n",
       "    </tr>\n",
       "    <tr>\n",
       "      <th>33</th>\n",
       "      <td>DK</td>\n",
       "      <td>43.181818</td>\n",
       "      <td>0.0</td>\n",
       "      <td>22</td>\n",
       "      <td>79.763123</td>\n",
       "    </tr>\n",
       "    <tr>\n",
       "      <th>34</th>\n",
       "      <td>SE</td>\n",
       "      <td>32.200000</td>\n",
       "      <td>0.0</td>\n",
       "      <td>20</td>\n",
       "      <td>91.372920</td>\n",
       "    </tr>\n",
       "    <tr>\n",
       "      <th>35</th>\n",
       "      <td>IQ</td>\n",
       "      <td>70.176471</td>\n",
       "      <td>48.0</td>\n",
       "      <td>17</td>\n",
       "      <td>64.345003</td>\n",
       "    </tr>\n",
       "    <tr>\n",
       "      <th>36</th>\n",
       "      <td>GR</td>\n",
       "      <td>88.800000</td>\n",
       "      <td>19.0</td>\n",
       "      <td>10</td>\n",
       "      <td>200.996849</td>\n",
       "    </tr>\n",
       "    <tr>\n",
       "      <th>37</th>\n",
       "      <td>BA</td>\n",
       "      <td>0.000000</td>\n",
       "      <td>0.0</td>\n",
       "      <td>8</td>\n",
       "      <td>0.000000</td>\n",
       "    </tr>\n",
       "    <tr>\n",
       "      <th>38</th>\n",
       "      <td>LT</td>\n",
       "      <td>1.000000</td>\n",
       "      <td>0.0</td>\n",
       "      <td>5</td>\n",
       "      <td>2.236068</td>\n",
       "    </tr>\n",
       "    <tr>\n",
       "      <th>39</th>\n",
       "      <td>UA</td>\n",
       "      <td>190.000000</td>\n",
       "      <td>0.0</td>\n",
       "      <td>5</td>\n",
       "      <td>276.885355</td>\n",
       "    </tr>\n",
       "    <tr>\n",
       "      <th>40</th>\n",
       "      <td>JO</td>\n",
       "      <td>2.250000</td>\n",
       "      <td>0.0</td>\n",
       "      <td>4</td>\n",
       "      <td>4.500000</td>\n",
       "    </tr>\n",
       "    <tr>\n",
       "      <th>41</th>\n",
       "      <td>CD</td>\n",
       "      <td>0.000000</td>\n",
       "      <td>0.0</td>\n",
       "      <td>3</td>\n",
       "      <td>0.000000</td>\n",
       "    </tr>\n",
       "    <tr>\n",
       "      <th>42</th>\n",
       "      <td>RW</td>\n",
       "      <td>3.000000</td>\n",
       "      <td>3.0</td>\n",
       "      <td>2</td>\n",
       "      <td>4.242641</td>\n",
       "    </tr>\n",
       "    <tr>\n",
       "      <th>43</th>\n",
       "      <td>LU</td>\n",
       "      <td>0.000000</td>\n",
       "      <td>0.0</td>\n",
       "      <td>2</td>\n",
       "      <td>0.000000</td>\n",
       "    </tr>\n",
       "    <tr>\n",
       "      <th>44</th>\n",
       "      <td>GA</td>\n",
       "      <td>0.000000</td>\n",
       "      <td>0.0</td>\n",
       "      <td>2</td>\n",
       "      <td>0.000000</td>\n",
       "    </tr>\n",
       "    <tr>\n",
       "      <th>45</th>\n",
       "      <td>AO</td>\n",
       "      <td>110.500000</td>\n",
       "      <td>110.5</td>\n",
       "      <td>2</td>\n",
       "      <td>156.270599</td>\n",
       "    </tr>\n",
       "    <tr>\n",
       "      <th>46</th>\n",
       "      <td>RO</td>\n",
       "      <td>112.000000</td>\n",
       "      <td>112.0</td>\n",
       "      <td>1</td>\n",
       "      <td>NaN</td>\n",
       "    </tr>\n",
       "    <tr>\n",
       "      <th>47</th>\n",
       "      <td>QA</td>\n",
       "      <td>0.000000</td>\n",
       "      <td>0.0</td>\n",
       "      <td>1</td>\n",
       "      <td>NaN</td>\n",
       "    </tr>\n",
       "    <tr>\n",
       "      <th>48</th>\n",
       "      <td>PL</td>\n",
       "      <td>100.000000</td>\n",
       "      <td>100.0</td>\n",
       "      <td>1</td>\n",
       "      <td>NaN</td>\n",
       "    </tr>\n",
       "    <tr>\n",
       "      <th>49</th>\n",
       "      <td>SD</td>\n",
       "      <td>35.000000</td>\n",
       "      <td>35.0</td>\n",
       "      <td>1</td>\n",
       "      <td>NaN</td>\n",
       "    </tr>\n",
       "    <tr>\n",
       "      <th>50</th>\n",
       "      <td>IS</td>\n",
       "      <td>0.000000</td>\n",
       "      <td>0.0</td>\n",
       "      <td>1</td>\n",
       "      <td>NaN</td>\n",
       "    </tr>\n",
       "    <tr>\n",
       "      <th>51</th>\n",
       "      <td>EE</td>\n",
       "      <td>0.000000</td>\n",
       "      <td>0.0</td>\n",
       "      <td>1</td>\n",
       "      <td>NaN</td>\n",
       "    </tr>\n",
       "    <tr>\n",
       "      <th>52</th>\n",
       "      <td>TG</td>\n",
       "      <td>0.000000</td>\n",
       "      <td>0.0</td>\n",
       "      <td>1</td>\n",
       "      <td>NaN</td>\n",
       "    </tr>\n",
       "    <tr>\n",
       "      <th>53</th>\n",
       "      <td>DJ</td>\n",
       "      <td>14.000000</td>\n",
       "      <td>14.0</td>\n",
       "      <td>1</td>\n",
       "      <td>NaN</td>\n",
       "    </tr>\n",
       "  </tbody>\n",
       "</table>\n",
       "</div>"
      ],
      "text/plain": [
       "   DEP_country        mean  median  count         std\n",
       "0           TN   40.126412     9.0  61450  103.184311\n",
       "1           FR   59.386353    21.0  17704  124.680756\n",
       "2           IT   45.658881    10.0   4110  100.793464\n",
       "3           DE   48.478992    20.0   3332  139.404882\n",
       "4           DZ   83.427362    35.0   2244  142.858168\n",
       "5           SA   83.759875    35.0   1924  139.193553\n",
       "6           MA   41.991817     6.0   1833  100.994981\n",
       "7           CH   44.928668    14.0   1486  129.320156\n",
       "8           TR   96.457084    25.0   1468  170.072554\n",
       "9           BE   41.228346    16.0   1397   96.661789\n",
       "10          ES   59.171275    29.0   1302   92.971282\n",
       "11          CZ   37.732143     0.0   1008  119.441533\n",
       "12          GB   67.108471    33.0    968  139.424707\n",
       "13          CI   77.801944    26.0    823  229.947870\n",
       "14          SN   95.120056    50.0    708  154.169238\n",
       "15          EG   74.218310    30.0    568  145.424325\n",
       "16          ML   95.932584    44.0    534  186.129923\n",
       "17          AT   66.045455    20.0    528  173.829187\n",
       "18          BF   66.006849    29.0    438  139.862624\n",
       "19          LB   30.625000    10.0    416   66.800503\n",
       "20          NL   82.175481    38.5    416  153.368021\n",
       "21          PT   52.354430    15.0    395  106.664215\n",
       "22          MT    5.394737     0.0    342   34.940574\n",
       "23          NE   69.287009    25.0    331  163.399675\n",
       "24          MR  110.587031    55.0    293  170.109544\n",
       "25          RS   52.702811    15.0    249  102.028420\n",
       "26          CA   45.691358    20.0    243   69.758907\n",
       "27          RU   98.123762    10.5    202  288.486804\n",
       "28          GN   91.666667    45.0    177  152.365055\n",
       "29          HU   37.578035     0.0    173   86.143073\n",
       "30          SK   34.092437     0.0    119  152.862129\n",
       "31          SI   39.107143     0.0    112  127.700124\n",
       "32          BJ   31.928571     9.5     98   85.597506\n",
       "33          DK   43.181818     0.0     22   79.763123\n",
       "34          SE   32.200000     0.0     20   91.372920\n",
       "35          IQ   70.176471    48.0     17   64.345003\n",
       "36          GR   88.800000    19.0     10  200.996849\n",
       "37          BA    0.000000     0.0      8    0.000000\n",
       "38          LT    1.000000     0.0      5    2.236068\n",
       "39          UA  190.000000     0.0      5  276.885355\n",
       "40          JO    2.250000     0.0      4    4.500000\n",
       "41          CD    0.000000     0.0      3    0.000000\n",
       "42          RW    3.000000     3.0      2    4.242641\n",
       "43          LU    0.000000     0.0      2    0.000000\n",
       "44          GA    0.000000     0.0      2    0.000000\n",
       "45          AO  110.500000   110.5      2  156.270599\n",
       "46          RO  112.000000   112.0      1         NaN\n",
       "47          QA    0.000000     0.0      1         NaN\n",
       "48          PL  100.000000   100.0      1         NaN\n",
       "49          SD   35.000000    35.0      1         NaN\n",
       "50          IS    0.000000     0.0      1         NaN\n",
       "51          EE    0.000000     0.0      1         NaN\n",
       "52          TG    0.000000     0.0      1         NaN\n",
       "53          DJ   14.000000    14.0      1         NaN"
      ]
     },
     "execution_count": 107,
     "metadata": {},
     "output_type": "execute_result"
    }
   ],
   "source": [
    "grouped_DEP_country = df_train_locations.groupby('DEP_country')['target'].agg(['mean', 'median', 'count', 'std']).sort_values(by='count', ascending=False).reset_index()\n",
    "grouped_DEP_country\n"
   ]
  },
  {
   "cell_type": "code",
   "execution_count": 120,
   "id": "2639b385",
   "metadata": {},
   "outputs": [
    {
     "data": {
      "image/png": "[encoded data removed]",
      "text/plain": [
       "<Figure size 2000x1000 with 2 Axes>"
      ]
     },
     "metadata": {},
     "output_type": "display_data"
    }
   ],
   "source": [
    "fig, ax1 = plt.subplots(figsize=(20, 10))\n",
    "\n",
    "top_AC = grouped_DEP_country.head(30)\n",
    "\n",
    "bar_width = 0.25\n",
    "x = np.arange(len(top_AC['DEP_country']))\n",
    "\n",
    "ax1.bar(x - bar_width, top_AC['mean'], bar_width, label='mean delay')\n",
    "ax1.bar(x + bar_width, top_AC['median'], bar_width, label='median delay')\n",
    "ax1.bar(x, top_AC['std'], bar_width, label='std delay')\n",
    "\n",
    "ax1.set_ylabel('Delay [min]')\n",
    "ax1.set_xticks(x)\n",
    "ax1.set_xticklabels(top_AC['DEP_country'], rotation=60, fontsize=8)\n",
    "ax1.legend()\n",
    "ax1.grid(True)\n",
    "\n",
    "\n",
    "ax2 = ax1.twinx()\n",
    "ax2.plot(x, top_AC['count'], color='red', marker='o', linestyle='--', label='Flight Count')\n",
    "ax2.set_ylabel('Number of Flights')\n",
    "ax2.legend(loc='upper right')\n",
    "ax2.set_ylim(bottom=0, top=6000)\n",
    "\n",
    "plt.tight_layout()\n",
    "plt.show()"
   ]
  },
  {
   "cell_type": "code",
   "execution_count": null,
   "id": "3dd2b3d1",
   "metadata": {},
   "outputs": [],
   "source": [
    "def plotbar(df, heads=5):\n",
    "    fig, ax1 = plt.subplots(figsize=(20, 10))\n",
    "\n",
    "    top_AC = df.head(heads)\n",
    "\n",
    "    bar_width = 0.25\n",
    "    x = np.arange(len(top_AC['DEP_country']))\n",
    "\n",
    "    ax1.bar(x - bar_width, top_AC['mean'], bar_width, label='mean delay')\n",
    "    ax1.bar(x + bar_width, top_AC['median'], bar_width, label='median delay')\n",
    "    ax1.bar(x, top_AC['std'], bar_width, label='std delay')\n",
    "\n",
    "    ax1.set_ylabel('Delay [min]')\n",
    "    ax1.set_xticks(x)\n",
    "    ax1.set_xticklabels(top_AC['DEP_country'], rotation=60, fontsize=8)\n",
    "    ax1.legend()\n",
    "    ax1.grid(True)\n",
    "\n",
    "\n",
    "    ax2 = ax1.twinx()\n",
    "    ax2.plot(x, top_AC['count'], color='red', marker='o', linestyle='--', label='Flight Count')\n",
    "    ax2.set_ylabel('Number of Flights')\n",
    "    ax2.legend(loc='upper right')\n",
    "    ax2.set_ylim(bottom=0, top=6000)\n",
    "\n",
    "    plt.tight_layout()\n",
    "    plt.show()"
   ]
  }
 ],
 "metadata": {
  "kernelspec": {
   "display_name": ".venv",
   "language": "python",
   "name": "python3"
  },
  "language_info": {
   "codemirror_mode": {
    "name": "ipython",
    "version": 3
   },
   "file_extension": ".py",
   "mimetype": "text/x-python",
   "name": "python",
   "nbconvert_exporter": "python",
   "pygments_lexer": "ipython3",
   "version": "3.11.3"
  }
 },
 "nbformat": 4,
 "nbformat_minor": 5
}
