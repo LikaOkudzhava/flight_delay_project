{
 "cells": [
  {
   "cell_type": "code",
   "execution_count": 1,
   "id": "bfd20739",
   "metadata": {},
   "outputs": [],
   "source": [
    "    # Import packages\n",
    "import numpy as np\n",
    "import pandas as pd\n",
    "import seaborn as sns\n",
    "import matplotlib.pyplot as plt\n",
    "from datetime import datetime, date, time, timedelta\n",
    "\n",
    "from sklearn.model_selection import train_test_split\n",
    "from sklearn.preprocessing import StandardScaler, MinMaxScaler, RobustScaler\n",
    "from sklearn.model_selection import GridSearchCV\n",
    "from sklearn.pipeline import Pipeline\n",
    "from sklearn.compose import ColumnTransformer\n",
    "from xgboost import XGBRegressor\n",
    "\n",
    "\n",
    "import init\n",
    "import baseline_model as bm\n",
    "\n",
    "RSEED=42"
   ]
  },
  {
   "cell_type": "code",
   "execution_count": 2,
   "id": "dbd8d589",
   "metadata": {},
   "outputs": [
    {
     "data": {
      "application/vnd.microsoft.datawrangler.viewer.v0+json": {
       "columns": [
        {
         "name": "index",
         "rawType": "int64",
         "type": "integer"
        },
        {
         "name": "ID",
         "rawType": "object",
         "type": "string"
        },
        {
         "name": "DATOP",
         "rawType": "datetime64[ns]",
         "type": "datetime"
        },
        {
         "name": "FLTID",
         "rawType": "object",
         "type": "string"
        },
        {
         "name": "DEPSTN",
         "rawType": "object",
         "type": "string"
        },
        {
         "name": "ARRSTN",
         "rawType": "object",
         "type": "string"
        },
        {
         "name": "STD",
         "rawType": "datetime64[ns]",
         "type": "datetime"
        },
        {
         "name": "STA",
         "rawType": "datetime64[ns]",
         "type": "datetime"
        },
        {
         "name": "STATUS",
         "rawType": "object",
         "type": "string"
        },
        {
         "name": "AC",
         "rawType": "object",
         "type": "string"
        },
        {
         "name": "target",
         "rawType": "float64",
         "type": "float"
        },
        {
         "name": "airline_code",
         "rawType": "object",
         "type": "string"
        },
        {
         "name": "flt_num",
         "rawType": "object",
         "type": "string"
        },
        {
         "name": "AC_num",
         "rawType": "object",
         "type": "string"
        },
        {
         "name": "STD_year",
         "rawType": "int32",
         "type": "integer"
        },
        {
         "name": "STD_month",
         "rawType": "int32",
         "type": "integer"
        },
        {
         "name": "STD_day",
         "rawType": "int32",
         "type": "integer"
        },
        {
         "name": "STD_hour",
         "rawType": "int32",
         "type": "integer"
        },
        {
         "name": "STA_hour",
         "rawType": "int32",
         "type": "integer"
        },
        {
         "name": "DURATION",
         "rawType": "float64",
         "type": "float"
        },
        {
         "name": "plane",
         "rawType": "object",
         "type": "string"
        },
        {
         "name": "DATOP_DEP_count",
         "rawType": "int64",
         "type": "integer"
        },
        {
         "name": "DATOP_ARR_count",
         "rawType": "int64",
         "type": "integer"
        },
        {
         "name": "DEP_lat",
         "rawType": "float64",
         "type": "float"
        },
        {
         "name": "DEP_lon",
         "rawType": "float64",
         "type": "float"
        },
        {
         "name": "ARR_lat",
         "rawType": "float64",
         "type": "float"
        },
        {
         "name": "ARR_lon",
         "rawType": "float64",
         "type": "float"
        },
        {
         "name": "STD_hour_category",
         "rawType": "object",
         "type": "string"
        }
       ],
       "conversionMethod": "pd.DataFrame",
       "ref": "85a305d6-fa05-4026-892f-501b02dcdd67",
       "rows": [
        [
         "0",
         "train_id_0",
         "2016-01-03 00:00:00",
         "TU 0712 ",
         "CMN",
         "TUN",
         "2016-01-03 10:30:00",
         "2016-01-03 12:55:00",
         "ATA",
         "TU 32AIMN",
         "260.0",
         "TU",
         "0712",
         "32AIMN",
         "2016",
         "1",
         "6",
         "10",
         "12",
         "145.0",
         "32A",
         "2",
         "41",
         "33.3675003052",
         "-7.5899701118",
         "36.8510017395",
         "10.2271995544",
         "morning"
        ],
        [
         "1",
         "train_id_1",
         "2016-01-13 00:00:00",
         "TU 0757 ",
         "MXP",
         "TUN",
         "2016-01-13 15:05:00",
         "2016-01-13 16:55:00",
         "ATA",
         "TU 31BIMO",
         "20.0",
         "TU",
         "0757",
         "31BIMO",
         "2016",
         "1",
         "2",
         "15",
         "16",
         "110.0",
         "31B",
         "1",
         "39",
         "45.6305999756",
         "8.7281103134",
         "36.8510017395",
         "10.2271995544",
         "noon"
        ],
        [
         "2",
         "train_id_2",
         "2016-01-16 00:00:00",
         "TU 0214 ",
         "TUN",
         "IST",
         "2016-01-16 04:10:00",
         "2016-01-16 06:45:00",
         "ATA",
         "TU 32AIMN",
         "0.0",
         "TU",
         "0214",
         "32AIMN",
         "2016",
         "1",
         "5",
         "4",
         "6",
         "155.0",
         "32A",
         "36",
         "2",
         "36.8510017395",
         "10.2271995544",
         "41.262222",
         "28.727778",
         "night"
        ],
        [
         "3",
         "train_id_3",
         "2016-01-17 00:00:00",
         "TU 0480 ",
         "DJE",
         "NTE",
         "2016-01-17 14:10:00",
         "2016-01-17 17:00:00",
         "ATA",
         "TU 736IOK",
         "0.0",
         "TU",
         "0480",
         "736IOK",
         "2016",
         "1",
         "6",
         "14",
         "17",
         "170.0",
         "736",
         "11",
         "2",
         "33.875",
         "10.7755002975",
         "47.1531982422",
         "-1.610730052",
         "noon"
        ],
        [
         "4",
         "train_id_4",
         "2016-01-17 00:00:00",
         "TU 0338 ",
         "TUN",
         "ALG",
         "2016-01-17 14:30:00",
         "2016-01-17 15:50:00",
         "ATA",
         "TU 320IMU",
         "22.0",
         "TU",
         "0338",
         "320IMU",
         "2016",
         "1",
         "6",
         "14",
         "15",
         "80.0",
         "320",
         "40",
         "2",
         "36.8510017395",
         "10.2271995544",
         "36.6910018921",
         "3.2154099941",
         "noon"
        ]
       ],
       "shape": {
        "columns": 27,
        "rows": 5
       }
      },
      "text/html": [
       "<div>\n",
       "<style scoped>\n",
       "    .dataframe tbody tr th:only-of-type {\n",
       "        vertical-align: middle;\n",
       "    }\n",
       "\n",
       "    .dataframe tbody tr th {\n",
       "        vertical-align: top;\n",
       "    }\n",
       "\n",
       "    .dataframe thead th {\n",
       "        text-align: right;\n",
       "    }\n",
       "</style>\n",
       "<table border=\"1\" class=\"dataframe\">\n",
       "  <thead>\n",
       "    <tr style=\"text-align: right;\">\n",
       "      <th></th>\n",
       "      <th>ID</th>\n",
       "      <th>DATOP</th>\n",
       "      <th>FLTID</th>\n",
       "      <th>DEPSTN</th>\n",
       "      <th>ARRSTN</th>\n",
       "      <th>STD</th>\n",
       "      <th>STA</th>\n",
       "      <th>STATUS</th>\n",
       "      <th>AC</th>\n",
       "      <th>target</th>\n",
       "      <th>...</th>\n",
       "      <th>STA_hour</th>\n",
       "      <th>DURATION</th>\n",
       "      <th>plane</th>\n",
       "      <th>DATOP_DEP_count</th>\n",
       "      <th>DATOP_ARR_count</th>\n",
       "      <th>DEP_lat</th>\n",
       "      <th>DEP_lon</th>\n",
       "      <th>ARR_lat</th>\n",
       "      <th>ARR_lon</th>\n",
       "      <th>STD_hour_category</th>\n",
       "    </tr>\n",
       "  </thead>\n",
       "  <tbody>\n",
       "    <tr>\n",
       "      <th>0</th>\n",
       "      <td>train_id_0</td>\n",
       "      <td>2016-01-03</td>\n",
       "      <td>TU 0712</td>\n",
       "      <td>CMN</td>\n",
       "      <td>TUN</td>\n",
       "      <td>2016-01-03 10:30:00</td>\n",
       "      <td>2016-01-03 12:55:00</td>\n",
       "      <td>ATA</td>\n",
       "      <td>TU 32AIMN</td>\n",
       "      <td>260.0</td>\n",
       "      <td>...</td>\n",
       "      <td>12</td>\n",
       "      <td>145.0</td>\n",
       "      <td>32A</td>\n",
       "      <td>2</td>\n",
       "      <td>41</td>\n",
       "      <td>33.367500</td>\n",
       "      <td>-7.58997</td>\n",
       "      <td>36.851002</td>\n",
       "      <td>10.227200</td>\n",
       "      <td>morning</td>\n",
       "    </tr>\n",
       "    <tr>\n",
       "      <th>1</th>\n",
       "      <td>train_id_1</td>\n",
       "      <td>2016-01-13</td>\n",
       "      <td>TU 0757</td>\n",
       "      <td>MXP</td>\n",
       "      <td>TUN</td>\n",
       "      <td>2016-01-13 15:05:00</td>\n",
       "      <td>2016-01-13 16:55:00</td>\n",
       "      <td>ATA</td>\n",
       "      <td>TU 31BIMO</td>\n",
       "      <td>20.0</td>\n",
       "      <td>...</td>\n",
       "      <td>16</td>\n",
       "      <td>110.0</td>\n",
       "      <td>31B</td>\n",
       "      <td>1</td>\n",
       "      <td>39</td>\n",
       "      <td>45.630600</td>\n",
       "      <td>8.72811</td>\n",
       "      <td>36.851002</td>\n",
       "      <td>10.227200</td>\n",
       "      <td>noon</td>\n",
       "    </tr>\n",
       "    <tr>\n",
       "      <th>2</th>\n",
       "      <td>train_id_2</td>\n",
       "      <td>2016-01-16</td>\n",
       "      <td>TU 0214</td>\n",
       "      <td>TUN</td>\n",
       "      <td>IST</td>\n",
       "      <td>2016-01-16 04:10:00</td>\n",
       "      <td>2016-01-16 06:45:00</td>\n",
       "      <td>ATA</td>\n",
       "      <td>TU 32AIMN</td>\n",
       "      <td>0.0</td>\n",
       "      <td>...</td>\n",
       "      <td>6</td>\n",
       "      <td>155.0</td>\n",
       "      <td>32A</td>\n",
       "      <td>36</td>\n",
       "      <td>2</td>\n",
       "      <td>36.851002</td>\n",
       "      <td>10.22720</td>\n",
       "      <td>41.262222</td>\n",
       "      <td>28.727778</td>\n",
       "      <td>night</td>\n",
       "    </tr>\n",
       "    <tr>\n",
       "      <th>3</th>\n",
       "      <td>train_id_3</td>\n",
       "      <td>2016-01-17</td>\n",
       "      <td>TU 0480</td>\n",
       "      <td>DJE</td>\n",
       "      <td>NTE</td>\n",
       "      <td>2016-01-17 14:10:00</td>\n",
       "      <td>2016-01-17 17:00:00</td>\n",
       "      <td>ATA</td>\n",
       "      <td>TU 736IOK</td>\n",
       "      <td>0.0</td>\n",
       "      <td>...</td>\n",
       "      <td>17</td>\n",
       "      <td>170.0</td>\n",
       "      <td>736</td>\n",
       "      <td>11</td>\n",
       "      <td>2</td>\n",
       "      <td>33.875000</td>\n",
       "      <td>10.77550</td>\n",
       "      <td>47.153198</td>\n",
       "      <td>-1.610730</td>\n",
       "      <td>noon</td>\n",
       "    </tr>\n",
       "    <tr>\n",
       "      <th>4</th>\n",
       "      <td>train_id_4</td>\n",
       "      <td>2016-01-17</td>\n",
       "      <td>TU 0338</td>\n",
       "      <td>TUN</td>\n",
       "      <td>ALG</td>\n",
       "      <td>2016-01-17 14:30:00</td>\n",
       "      <td>2016-01-17 15:50:00</td>\n",
       "      <td>ATA</td>\n",
       "      <td>TU 320IMU</td>\n",
       "      <td>22.0</td>\n",
       "      <td>...</td>\n",
       "      <td>15</td>\n",
       "      <td>80.0</td>\n",
       "      <td>320</td>\n",
       "      <td>40</td>\n",
       "      <td>2</td>\n",
       "      <td>36.851002</td>\n",
       "      <td>10.22720</td>\n",
       "      <td>36.691002</td>\n",
       "      <td>3.215410</td>\n",
       "      <td>noon</td>\n",
       "    </tr>\n",
       "  </tbody>\n",
       "</table>\n",
       "<p>5 rows × 27 columns</p>\n",
       "</div>"
      ],
      "text/plain": [
       "           ID      DATOP     FLTID DEPSTN ARRSTN                 STD   \n",
       "0  train_id_0 2016-01-03  TU 0712     CMN    TUN 2016-01-03 10:30:00  \\\n",
       "1  train_id_1 2016-01-13  TU 0757     MXP    TUN 2016-01-13 15:05:00   \n",
       "2  train_id_2 2016-01-16  TU 0214     TUN    IST 2016-01-16 04:10:00   \n",
       "3  train_id_3 2016-01-17  TU 0480     DJE    NTE 2016-01-17 14:10:00   \n",
       "4  train_id_4 2016-01-17  TU 0338     TUN    ALG 2016-01-17 14:30:00   \n",
       "\n",
       "                  STA STATUS         AC  target  ... STA_hour DURATION plane   \n",
       "0 2016-01-03 12:55:00    ATA  TU 32AIMN   260.0  ...       12    145.0   32A  \\\n",
       "1 2016-01-13 16:55:00    ATA  TU 31BIMO    20.0  ...       16    110.0   31B   \n",
       "2 2016-01-16 06:45:00    ATA  TU 32AIMN     0.0  ...        6    155.0   32A   \n",
       "3 2016-01-17 17:00:00    ATA  TU 736IOK     0.0  ...       17    170.0   736   \n",
       "4 2016-01-17 15:50:00    ATA  TU 320IMU    22.0  ...       15     80.0   320   \n",
       "\n",
       "   DATOP_DEP_count  DATOP_ARR_count    DEP_lat   DEP_lon    ARR_lat   \n",
       "0                2               41  33.367500  -7.58997  36.851002  \\\n",
       "1                1               39  45.630600   8.72811  36.851002   \n",
       "2               36                2  36.851002  10.22720  41.262222   \n",
       "3               11                2  33.875000  10.77550  47.153198   \n",
       "4               40                2  36.851002  10.22720  36.691002   \n",
       "\n",
       "     ARR_lon STD_hour_category  \n",
       "0  10.227200           morning  \n",
       "1  10.227200              noon  \n",
       "2  28.727778             night  \n",
       "3  -1.610730              noon  \n",
       "4   3.215410              noon  \n",
       "\n",
       "[5 rows x 27 columns]"
      ]
     },
     "execution_count": 2,
     "metadata": {},
     "output_type": "execute_result"
    }
   ],
   "source": [
    "# Load data\n",
    "df_train = init.load_data(\"train\")\n",
    "df_train.head()"
   ]
  },
  {
   "cell_type": "code",
   "execution_count": 3,
   "id": "fc7ea54d",
   "metadata": {},
   "outputs": [],
   "source": [
    "# Drop useless features\n",
    "df_train = df_train[[\"DEPSTN\",\"ARRSTN\",\"STATUS\",\"airline_code\",\"STD_month\",\"STD_day\",\"DURATION\",\"plane\",\"DATOP_DEP_count\",\"DATOP_ARR_count\",\"STD_hour_category\",\"target\"]]"
   ]
  },
  {
   "cell_type": "code",
   "execution_count": 4,
   "id": "d1034298",
   "metadata": {},
   "outputs": [],
   "source": [
    "# Create dummy variables\n",
    "categorical_cols = ['STATUS','DEPSTN','ARRSTN','airline_code','plane',\"STD_hour_category\"]\n",
    "df_analysis = pd.get_dummies(df_train,columns=categorical_cols,drop_first=True,dtype=int)"
   ]
  },
  {
   "cell_type": "code",
   "execution_count": 5,
   "id": "7b5e10c6",
   "metadata": {},
   "outputs": [],
   "source": [
    "# Split data\n",
    "y = df_analysis[\"target\"]\n",
    "X = df_analysis.drop(\"target\", axis=1)\n",
    "\n",
    "# Split into train and test set \n",
    "X_train, X_test, y_train, y_test = train_test_split(X, y, test_size=0.2, random_state=RSEED)"
   ]
  },
  {
   "cell_type": "code",
   "execution_count": null,
   "id": "dec3342a",
   "metadata": {},
   "outputs": [
    {
     "data": {
      "text/html": [
       "<style>#sk-container-id-2 {color: black;background-color: white;}#sk-container-id-2 pre{padding: 0;}#sk-container-id-2 div.sk-toggleable {background-color: white;}#sk-container-id-2 label.sk-toggleable__label {cursor: pointer;display: block;width: 100%;margin-bottom: 0;padding: 0.3em;box-sizing: border-box;text-align: center;}#sk-container-id-2 label.sk-toggleable__label-arrow:before {content: \"▸\";float: left;margin-right: 0.25em;color: #696969;}#sk-container-id-2 label.sk-toggleable__label-arrow:hover:before {color: black;}#sk-container-id-2 div.sk-estimator:hover label.sk-toggleable__label-arrow:before {color: black;}#sk-container-id-2 div.sk-toggleable__content {max-height: 0;max-width: 0;overflow: hidden;text-align: left;background-color: #f0f8ff;}#sk-container-id-2 div.sk-toggleable__content pre {margin: 0.2em;color: black;border-radius: 0.25em;background-color: #f0f8ff;}#sk-container-id-2 input.sk-toggleable__control:checked~div.sk-toggleable__content {max-height: 200px;max-width: 100%;overflow: auto;}#sk-container-id-2 input.sk-toggleable__control:checked~label.sk-toggleable__label-arrow:before {content: \"▾\";}#sk-container-id-2 div.sk-estimator input.sk-toggleable__control:checked~label.sk-toggleable__label {background-color: #d4ebff;}#sk-container-id-2 div.sk-label input.sk-toggleable__control:checked~label.sk-toggleable__label {background-color: #d4ebff;}#sk-container-id-2 input.sk-hidden--visually {border: 0;clip: rect(1px 1px 1px 1px);clip: rect(1px, 1px, 1px, 1px);height: 1px;margin: -1px;overflow: hidden;padding: 0;position: absolute;width: 1px;}#sk-container-id-2 div.sk-estimator {font-family: monospace;background-color: #f0f8ff;border: 1px dotted black;border-radius: 0.25em;box-sizing: border-box;margin-bottom: 0.5em;}#sk-container-id-2 div.sk-estimator:hover {background-color: #d4ebff;}#sk-container-id-2 div.sk-parallel-item::after {content: \"\";width: 100%;border-bottom: 1px solid gray;flex-grow: 1;}#sk-container-id-2 div.sk-label:hover label.sk-toggleable__label {background-color: #d4ebff;}#sk-container-id-2 div.sk-serial::before {content: \"\";position: absolute;border-left: 1px solid gray;box-sizing: border-box;top: 0;bottom: 0;left: 50%;z-index: 0;}#sk-container-id-2 div.sk-serial {display: flex;flex-direction: column;align-items: center;background-color: white;padding-right: 0.2em;padding-left: 0.2em;position: relative;}#sk-container-id-2 div.sk-item {position: relative;z-index: 1;}#sk-container-id-2 div.sk-parallel {display: flex;align-items: stretch;justify-content: center;background-color: white;position: relative;}#sk-container-id-2 div.sk-item::before, #sk-container-id-2 div.sk-parallel-item::before {content: \"\";position: absolute;border-left: 1px solid gray;box-sizing: border-box;top: 0;bottom: 0;left: 50%;z-index: -1;}#sk-container-id-2 div.sk-parallel-item {display: flex;flex-direction: column;z-index: 1;position: relative;background-color: white;}#sk-container-id-2 div.sk-parallel-item:first-child::after {align-self: flex-end;width: 50%;}#sk-container-id-2 div.sk-parallel-item:last-child::after {align-self: flex-start;width: 50%;}#sk-container-id-2 div.sk-parallel-item:only-child::after {width: 0;}#sk-container-id-2 div.sk-dashed-wrapped {border: 1px dashed gray;margin: 0 0.4em 0.5em 0.4em;box-sizing: border-box;padding-bottom: 0.4em;background-color: white;}#sk-container-id-2 div.sk-label label {font-family: monospace;font-weight: bold;display: inline-block;line-height: 1.2em;}#sk-container-id-2 div.sk-label-container {text-align: center;}#sk-container-id-2 div.sk-container {/* jupyter's `normalize.less` sets `[hidden] { display: none; }` but bootstrap.min.css set `[hidden] { display: none !important; }` so we also need the `!important` here to be able to override the default hidden behavior on the sphinx rendered scikit-learn.org. See: https://github.com/scikit-learn/scikit-learn/issues/21755 */display: inline-block !important;position: relative;}#sk-container-id-2 div.sk-text-repr-fallback {display: none;}</style><div id=\"sk-container-id-2\" class=\"sk-top-container\"><div class=\"sk-text-repr-fallback\"><pre>XGBRegressor(base_score=None, booster=None, callbacks=None,\n",
       "             colsample_bylevel=None, colsample_bynode=None,\n",
       "             colsample_bytree=None, device=None, early_stopping_rounds=None,\n",
       "             enable_categorical=False, eval_metric=None, feature_types=None,\n",
       "             feature_weights=None, gamma=None, grow_policy=None,\n",
       "             importance_type=None, interaction_constraints=None,\n",
       "             learning_rate=None, max_bin=None, max_cat_threshold=None,\n",
       "             max_cat_to_onehot=None, max_delta_step=None, max_depth=None,\n",
       "             max_leaves=None, min_child_weight=None, missing=nan,\n",
       "             monotone_constraints=None, multi_strategy=None, n_estimators=None,\n",
       "             n_jobs=None, num_parallel_tree=None, ...)</pre><b>In a Jupyter environment, please rerun this cell to show the HTML representation or trust the notebook. <br />On GitHub, the HTML representation is unable to render, please try loading this page with nbviewer.org.</b></div><div class=\"sk-container\" hidden><div class=\"sk-item\"><div class=\"sk-estimator sk-toggleable\"><input class=\"sk-toggleable__control sk-hidden--visually\" id=\"sk-estimator-id-2\" type=\"checkbox\" checked><label for=\"sk-estimator-id-2\" class=\"sk-toggleable__label sk-toggleable__label-arrow\">XGBRegressor</label><div class=\"sk-toggleable__content\"><pre>XGBRegressor(base_score=None, booster=None, callbacks=None,\n",
       "             colsample_bylevel=None, colsample_bynode=None,\n",
       "             colsample_bytree=None, device=None, early_stopping_rounds=None,\n",
       "             enable_categorical=False, eval_metric=None, feature_types=None,\n",
       "             feature_weights=None, gamma=None, grow_policy=None,\n",
       "             importance_type=None, interaction_constraints=None,\n",
       "             learning_rate=None, max_bin=None, max_cat_threshold=None,\n",
       "             max_cat_to_onehot=None, max_delta_step=None, max_depth=None,\n",
       "             max_leaves=None, min_child_weight=None, missing=nan,\n",
       "             monotone_constraints=None, multi_strategy=None, n_estimators=None,\n",
       "             n_jobs=None, num_parallel_tree=None, ...)</pre></div></div></div></div></div>"
      ],
      "text/plain": [
       "XGBRegressor(base_score=None, booster=None, callbacks=None,\n",
       "             colsample_bylevel=None, colsample_bynode=None,\n",
       "             colsample_bytree=None, device=None, early_stopping_rounds=None,\n",
       "             enable_categorical=False, eval_metric=None, feature_types=None,\n",
       "             feature_weights=None, gamma=None, grow_policy=None,\n",
       "             importance_type=None, interaction_constraints=None,\n",
       "             learning_rate=None, max_bin=None, max_cat_threshold=None,\n",
       "             max_cat_to_onehot=None, max_delta_step=None, max_depth=None,\n",
       "             max_leaves=None, min_child_weight=None, missing=nan,\n",
       "             monotone_constraints=None, multi_strategy=None, n_estimators=None,\n",
       "             n_jobs=None, num_parallel_tree=None, ...)"
      ]
     },
     "execution_count": 14,
     "metadata": {},
     "output_type": "execute_result"
    }
   ],
   "source": [
    "# XG Boost\n",
    "model = XGBRegressor()"
   ]
  },
  {
   "cell_type": "code",
   "execution_count": 17,
   "id": "64db1f2c",
   "metadata": {},
   "outputs": [],
   "source": [
    "from sklearn.metrics import make_scorer\n",
    "\n",
    "score_func = make_scorer(bm.get_accuracy)"
   ]
  },
  {
   "cell_type": "code",
   "execution_count": null,
   "id": "c388d35b",
   "metadata": {},
   "outputs": [],
   "source": [
    "param_grid = \n",
    "\n",
    "grid_logreg = GridSearchCV(model, param_grid=param_grid, cv=5, scoring='score_func', \n",
    "                           verbose=5, n_jobs=-1)"
   ]
  },
  {
   "cell_type": "code",
   "execution_count": 15,
   "id": "c1b5275a",
   "metadata": {},
   "outputs": [],
   "source": [
    "# Make predictions on test set\n",
    "y_predict = model.predict(X_test)\n",
    "y_predict_train = model.predict(X_train)"
   ]
  },
  {
   "cell_type": "code",
   "execution_count": 16,
   "id": "5cfa4c97",
   "metadata": {},
   "outputs": [
    {
     "name": "stdout",
     "output_type": "stream",
     "text": [
      "Accuracy for the train data: 0.2213567023693606\n",
      "Accuracy for the test data: 0.2267521387336842\n"
     ]
    }
   ],
   "source": [
    "print(\"Accuracy for the train data:\",bm.get_accuracy(y_test,y_predict,10))\n",
    "print(\"Accuracy for the test data:\",bm.get_accuracy(y_train,y_predict_train,10))"
   ]
  }
 ],
 "metadata": {
  "kernelspec": {
   "display_name": ".venv",
   "language": "python",
   "name": "python3"
  },
  "language_info": {
   "codemirror_mode": {
    "name": "ipython",
    "version": 3
   },
   "file_extension": ".py",
   "mimetype": "text/x-python",
   "name": "python",
   "nbconvert_exporter": "python",
   "pygments_lexer": "ipython3",
   "version": "3.11.3"
  }
 },
 "nbformat": 4,
 "nbformat_minor": 5
}
