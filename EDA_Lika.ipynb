{
 "cells": [
  {
   "cell_type": "code",
   "execution_count": 1,
   "id": "dd6b26fb",
   "metadata": {},
   "outputs": [],
   "source": [
    "import numpy as np\n",
    "import pandas as pd\n",
    "import matplotlib.pyplot as plt\n",
    "import seaborn as sns\n"
   ]
  },
  {
   "cell_type": "code",
   "execution_count": 67,
   "id": "9e5bea2e",
   "metadata": {},
   "outputs": [],
   "source": [
    "df_test = pd.read_csv('data/Test.csv')\n",
    "df_train = pd.read_csv('data/Train.csv')"
   ]
  },
  {
   "cell_type": "markdown",
   "id": "7c071b8a",
   "metadata": {},
   "source": [
    "#### columns\n",
    "\n",
    "- **DATOP** - Date of flight  \n",
    "- **FLTID** - Flight number  \n",
    "- **DEPSTN** - Departure point  \n",
    "- **ARRSTN** - Arrival point  \n",
    "- **STD** - Scheduled Time departure  \n",
    "- **STA** - Scheduled Time arrival  \n",
    "- **STATUS** - Flight status  \n",
    "- **AC** - Aircraft Code  "
   ]
  },
  {
   "cell_type": "code",
   "execution_count": null,
   "id": "92142d86",
   "metadata": {},
   "outputs": [],
   "source": [
    "df_test.head()"
   ]
  },
  {
   "cell_type": "code",
   "execution_count": 15,
   "id": "890547ad",
   "metadata": {},
   "outputs": [
    {
     "data": {
      "application/vnd.microsoft.datawrangler.viewer.v0+json": {
       "columns": [
        {
         "name": "index",
         "rawType": "int64",
         "type": "integer"
        },
        {
         "name": "ID",
         "rawType": "object",
         "type": "string"
        },
        {
         "name": "DATOP",
         "rawType": "object",
         "type": "string"
        },
        {
         "name": "FLTID",
         "rawType": "object",
         "type": "string"
        },
        {
         "name": "DEPSTN",
         "rawType": "object",
         "type": "string"
        },
        {
         "name": "ARRSTN",
         "rawType": "object",
         "type": "string"
        },
        {
         "name": "STD",
         "rawType": "object",
         "type": "string"
        },
        {
         "name": "STA",
         "rawType": "object",
         "type": "string"
        },
        {
         "name": "STATUS",
         "rawType": "object",
         "type": "string"
        },
        {
         "name": "AC",
         "rawType": "object",
         "type": "string"
        },
        {
         "name": "target",
         "rawType": "float64",
         "type": "float"
        }
       ],
       "conversionMethod": "pd.DataFrame",
       "ref": "c0f99ef7-163b-42a0-a459-2f8f4a510229",
       "rows": [
        [
         "0",
         "train_id_0",
         "2016-01-03",
         "TU 0712 ",
         "CMN",
         "TUN",
         "2016-01-03 10:30:00",
         "2016-01-03 12.55.00",
         "ATA",
         "TU 32AIMN",
         "260.0"
        ],
        [
         "1",
         "train_id_1",
         "2016-01-13",
         "TU 0757 ",
         "MXP",
         "TUN",
         "2016-01-13 15:05:00",
         "2016-01-13 16.55.00",
         "ATA",
         "TU 31BIMO",
         "20.0"
        ],
        [
         "2",
         "train_id_2",
         "2016-01-16",
         "TU 0214 ",
         "TUN",
         "IST",
         "2016-01-16 04:10:00",
         "2016-01-16 06.45.00",
         "ATA",
         "TU 32AIMN",
         "0.0"
        ],
        [
         "3",
         "train_id_3",
         "2016-01-17",
         "TU 0480 ",
         "DJE",
         "NTE",
         "2016-01-17 14:10:00",
         "2016-01-17 17.00.00",
         "ATA",
         "TU 736IOK",
         "0.0"
        ],
        [
         "4",
         "train_id_4",
         "2016-01-17",
         "TU 0338 ",
         "TUN",
         "ALG",
         "2016-01-17 14:30:00",
         "2016-01-17 15.50.00",
         "ATA",
         "TU 320IMU",
         "22.0"
        ]
       ],
       "shape": {
        "columns": 10,
        "rows": 5
       }
      },
      "text/html": [
       "<div>\n",
       "<style scoped>\n",
       "    .dataframe tbody tr th:only-of-type {\n",
       "        vertical-align: middle;\n",
       "    }\n",
       "\n",
       "    .dataframe tbody tr th {\n",
       "        vertical-align: top;\n",
       "    }\n",
       "\n",
       "    .dataframe thead th {\n",
       "        text-align: right;\n",
       "    }\n",
       "</style>\n",
       "<table border=\"1\" class=\"dataframe\">\n",
       "  <thead>\n",
       "    <tr style=\"text-align: right;\">\n",
       "      <th></th>\n",
       "      <th>ID</th>\n",
       "      <th>DATOP</th>\n",
       "      <th>FLTID</th>\n",
       "      <th>DEPSTN</th>\n",
       "      <th>ARRSTN</th>\n",
       "      <th>STD</th>\n",
       "      <th>STA</th>\n",
       "      <th>STATUS</th>\n",
       "      <th>AC</th>\n",
       "      <th>target</th>\n",
       "    </tr>\n",
       "  </thead>\n",
       "  <tbody>\n",
       "    <tr>\n",
       "      <th>0</th>\n",
       "      <td>train_id_0</td>\n",
       "      <td>2016-01-03</td>\n",
       "      <td>TU 0712</td>\n",
       "      <td>CMN</td>\n",
       "      <td>TUN</td>\n",
       "      <td>2016-01-03 10:30:00</td>\n",
       "      <td>2016-01-03 12.55.00</td>\n",
       "      <td>ATA</td>\n",
       "      <td>TU 32AIMN</td>\n",
       "      <td>260.0</td>\n",
       "    </tr>\n",
       "    <tr>\n",
       "      <th>1</th>\n",
       "      <td>train_id_1</td>\n",
       "      <td>2016-01-13</td>\n",
       "      <td>TU 0757</td>\n",
       "      <td>MXP</td>\n",
       "      <td>TUN</td>\n",
       "      <td>2016-01-13 15:05:00</td>\n",
       "      <td>2016-01-13 16.55.00</td>\n",
       "      <td>ATA</td>\n",
       "      <td>TU 31BIMO</td>\n",
       "      <td>20.0</td>\n",
       "    </tr>\n",
       "    <tr>\n",
       "      <th>2</th>\n",
       "      <td>train_id_2</td>\n",
       "      <td>2016-01-16</td>\n",
       "      <td>TU 0214</td>\n",
       "      <td>TUN</td>\n",
       "      <td>IST</td>\n",
       "      <td>2016-01-16 04:10:00</td>\n",
       "      <td>2016-01-16 06.45.00</td>\n",
       "      <td>ATA</td>\n",
       "      <td>TU 32AIMN</td>\n",
       "      <td>0.0</td>\n",
       "    </tr>\n",
       "    <tr>\n",
       "      <th>3</th>\n",
       "      <td>train_id_3</td>\n",
       "      <td>2016-01-17</td>\n",
       "      <td>TU 0480</td>\n",
       "      <td>DJE</td>\n",
       "      <td>NTE</td>\n",
       "      <td>2016-01-17 14:10:00</td>\n",
       "      <td>2016-01-17 17.00.00</td>\n",
       "      <td>ATA</td>\n",
       "      <td>TU 736IOK</td>\n",
       "      <td>0.0</td>\n",
       "    </tr>\n",
       "    <tr>\n",
       "      <th>4</th>\n",
       "      <td>train_id_4</td>\n",
       "      <td>2016-01-17</td>\n",
       "      <td>TU 0338</td>\n",
       "      <td>TUN</td>\n",
       "      <td>ALG</td>\n",
       "      <td>2016-01-17 14:30:00</td>\n",
       "      <td>2016-01-17 15.50.00</td>\n",
       "      <td>ATA</td>\n",
       "      <td>TU 320IMU</td>\n",
       "      <td>22.0</td>\n",
       "    </tr>\n",
       "  </tbody>\n",
       "</table>\n",
       "</div>"
      ],
      "text/plain": [
       "           ID       DATOP     FLTID DEPSTN ARRSTN                  STD   \n",
       "0  train_id_0  2016-01-03  TU 0712     CMN    TUN  2016-01-03 10:30:00  \\\n",
       "1  train_id_1  2016-01-13  TU 0757     MXP    TUN  2016-01-13 15:05:00   \n",
       "2  train_id_2  2016-01-16  TU 0214     TUN    IST  2016-01-16 04:10:00   \n",
       "3  train_id_3  2016-01-17  TU 0480     DJE    NTE  2016-01-17 14:10:00   \n",
       "4  train_id_4  2016-01-17  TU 0338     TUN    ALG  2016-01-17 14:30:00   \n",
       "\n",
       "                   STA STATUS         AC  target  \n",
       "0  2016-01-03 12.55.00    ATA  TU 32AIMN   260.0  \n",
       "1  2016-01-13 16.55.00    ATA  TU 31BIMO    20.0  \n",
       "2  2016-01-16 06.45.00    ATA  TU 32AIMN     0.0  \n",
       "3  2016-01-17 17.00.00    ATA  TU 736IOK     0.0  \n",
       "4  2016-01-17 15.50.00    ATA  TU 320IMU    22.0  "
      ]
     },
     "execution_count": 15,
     "metadata": {},
     "output_type": "execute_result"
    }
   ],
   "source": [
    "df_train.head()"
   ]
  },
  {
   "cell_type": "code",
   "execution_count": 16,
   "id": "ac09b371",
   "metadata": {},
   "outputs": [
    {
     "data": {
      "text/plain": [
       "array(['ATA', 'DEP', 'RTR', 'SCH', 'DEL'], dtype=object)"
      ]
     },
     "execution_count": 16,
     "metadata": {},
     "output_type": "execute_result"
    }
   ],
   "source": [
    "df_train['STATUS'].unique()"
   ]
  },
  {
   "cell_type": "code",
   "execution_count": 8,
   "id": "133efa26",
   "metadata": {},
   "outputs": [
    {
     "data": {
      "text/plain": [
       "ID        0\n",
       "DATOP     0\n",
       "FLTID     0\n",
       "DEPSTN    0\n",
       "ARRSTN    0\n",
       "STD       0\n",
       "STA       0\n",
       "STATUS    0\n",
       "AC        0\n",
       "target    0\n",
       "dtype: int64"
      ]
     },
     "execution_count": 8,
     "metadata": {},
     "output_type": "execute_result"
    }
   ],
   "source": [
    "df_train.isnull().sum()"
   ]
  },
  {
   "cell_type": "code",
   "execution_count": 9,
   "id": "345152d9",
   "metadata": {},
   "outputs": [
    {
     "name": "stdout",
     "output_type": "stream",
     "text": [
      "<class 'pandas.core.frame.DataFrame'>\n",
      "RangeIndex: 107833 entries, 0 to 107832\n",
      "Data columns (total 10 columns):\n",
      " #   Column  Non-Null Count   Dtype  \n",
      "---  ------  --------------   -----  \n",
      " 0   ID      107833 non-null  object \n",
      " 1   DATOP   107833 non-null  object \n",
      " 2   FLTID   107833 non-null  object \n",
      " 3   DEPSTN  107833 non-null  object \n",
      " 4   ARRSTN  107833 non-null  object \n",
      " 5   STD     107833 non-null  object \n",
      " 6   STA     107833 non-null  object \n",
      " 7   STATUS  107833 non-null  object \n",
      " 8   AC      107833 non-null  object \n",
      " 9   target  107833 non-null  float64\n",
      "dtypes: float64(1), object(9)\n",
      "memory usage: 8.2+ MB\n"
     ]
    }
   ],
   "source": [
    "df_train.info()"
   ]
  },
  {
   "cell_type": "code",
   "execution_count": 10,
   "id": "02bd5674",
   "metadata": {},
   "outputs": [
    {
     "data": {
      "application/vnd.microsoft.datawrangler.viewer.v0+json": {
       "columns": [
        {
         "name": "index",
         "rawType": "object",
         "type": "string"
        },
        {
         "name": "target",
         "rawType": "float64",
         "type": "float"
        }
       ],
       "conversionMethod": "pd.DataFrame",
       "ref": "d196fb75-eccf-4297-96ff-850c3c4aa5a9",
       "rows": [
        [
         "count",
         "107833.0"
        ],
        [
         "mean",
         "48.73"
        ],
        [
         "std",
         "117.14"
        ],
        [
         "min",
         "0.0"
        ],
        [
         "25%",
         "0.0"
        ],
        [
         "50%",
         "14.0"
        ],
        [
         "75%",
         "43.0"
        ],
        [
         "max",
         "3451.0"
        ]
       ],
       "shape": {
        "columns": 1,
        "rows": 8
       }
      },
      "text/html": [
       "<div>\n",
       "<style scoped>\n",
       "    .dataframe tbody tr th:only-of-type {\n",
       "        vertical-align: middle;\n",
       "    }\n",
       "\n",
       "    .dataframe tbody tr th {\n",
       "        vertical-align: top;\n",
       "    }\n",
       "\n",
       "    .dataframe thead th {\n",
       "        text-align: right;\n",
       "    }\n",
       "</style>\n",
       "<table border=\"1\" class=\"dataframe\">\n",
       "  <thead>\n",
       "    <tr style=\"text-align: right;\">\n",
       "      <th></th>\n",
       "      <th>target</th>\n",
       "    </tr>\n",
       "  </thead>\n",
       "  <tbody>\n",
       "    <tr>\n",
       "      <th>count</th>\n",
       "      <td>107833.00</td>\n",
       "    </tr>\n",
       "    <tr>\n",
       "      <th>mean</th>\n",
       "      <td>48.73</td>\n",
       "    </tr>\n",
       "    <tr>\n",
       "      <th>std</th>\n",
       "      <td>117.14</td>\n",
       "    </tr>\n",
       "    <tr>\n",
       "      <th>min</th>\n",
       "      <td>0.00</td>\n",
       "    </tr>\n",
       "    <tr>\n",
       "      <th>25%</th>\n",
       "      <td>0.00</td>\n",
       "    </tr>\n",
       "    <tr>\n",
       "      <th>50%</th>\n",
       "      <td>14.00</td>\n",
       "    </tr>\n",
       "    <tr>\n",
       "      <th>75%</th>\n",
       "      <td>43.00</td>\n",
       "    </tr>\n",
       "    <tr>\n",
       "      <th>max</th>\n",
       "      <td>3451.00</td>\n",
       "    </tr>\n",
       "  </tbody>\n",
       "</table>\n",
       "</div>"
      ],
      "text/plain": [
       "          target\n",
       "count  107833.00\n",
       "mean       48.73\n",
       "std       117.14\n",
       "min         0.00\n",
       "25%         0.00\n",
       "50%        14.00\n",
       "75%        43.00\n",
       "max      3451.00"
      ]
     },
     "execution_count": 10,
     "metadata": {},
     "output_type": "execute_result"
    }
   ],
   "source": [
    "df_train.describe().round(2)"
   ]
  },
  {
   "cell_type": "code",
   "execution_count": 11,
   "id": "1215e21b",
   "metadata": {},
   "outputs": [
    {
     "data": {
      "text/plain": [
       "ID        107833\n",
       "DATOP       1011\n",
       "FLTID       1861\n",
       "DEPSTN       132\n",
       "ARRSTN       128\n",
       "STD        81697\n",
       "STA        85136\n",
       "STATUS         5\n",
       "AC            68\n",
       "target       968\n",
       "dtype: int64"
      ]
     },
     "execution_count": 11,
     "metadata": {},
     "output_type": "execute_result"
    }
   ],
   "source": [
    "df_train.nunique()"
   ]
  },
  {
   "cell_type": "code",
   "execution_count": null,
   "id": "ba8b34d3",
   "metadata": {
    "vscode": {
     "languageId": "ruby"
    }
   },
   "outputs": [],
   "source": [
    "\n",
    "df_train['STD'] = pd.to_datetime(df_train['STD'])\n",
    "\n",
    "# replace periods with colons in the STA column to fix the datetime format\n",
    "df_train['STA'] = df_train['STA'].str.replace('.', ':', regex=False)\n",
    "df_train['STA'] = pd.to_datetime(df_train['STA'])\n",
    "\n",
    "# year, month, day, and time for STD and STA\n",
    "df_train['STD_year'] = df_train['STD'].dt.year\n",
    "df_train['STD_month'] = df_train['STD'].dt.month\n",
    "df_train['STD_day'] = df_train['STD'].dt.day\n",
    "\n",
    "df_train['STA_year'] = df_train['STA'].dt.year\n",
    "df_train['STA_month'] = df_train['STA'].dt.month\n",
    "df_train['STA_day'] = df_train['STA'].dt.day"
   ]
  },
  {
   "cell_type": "code",
   "execution_count": null,
   "id": "ff1108a7",
   "metadata": {
    "vscode": {
     "languageId": "ruby"
    }
   },
   "outputs": [],
   "source": [
    "# flight duration in minutes\n",
    "duration = (df_train['STA'] - df_train['STD']).dt.total_seconds() / 60\n",
    "df_train['duration'] = duration\n"
   ]
  },
  {
   "cell_type": "code",
   "execution_count": 71,
   "id": "3bcca490",
   "metadata": {
    "vscode": {
     "languageId": "ruby"
    }
   },
   "outputs": [],
   "source": [
    "# Add day of the week and month name columns\n",
    "df_train['STD_day_of_week'] = df_train['STD'].dt.day_name()\n",
    "df_train['STA_day_of_week'] = df_train['STA'].dt.day_name()\n",
    "df_train['STD_month_name'] = df_train['STD'].dt.month_name()\n",
    "df_train['STA_month_name'] = df_train['STA'].dt.month_name()"
   ]
  },
  {
   "cell_type": "code",
   "execution_count": 73,
   "id": "3ee2eac3",
   "metadata": {
    "vscode": {
     "languageId": "ruby"
    }
   },
   "outputs": [
    {
     "data": {
      "application/vnd.microsoft.datawrangler.viewer.v0+json": {
       "columns": [
        {
         "name": "index",
         "rawType": "int64",
         "type": "integer"
        },
        {
         "name": "STD",
         "rawType": "datetime64[ns]",
         "type": "datetime"
        },
        {
         "name": "STD_hour",
         "rawType": "int32",
         "type": "integer"
        },
        {
         "name": "STA",
         "rawType": "datetime64[ns]",
         "type": "datetime"
        },
        {
         "name": "STA_hour",
         "rawType": "int32",
         "type": "integer"
        },
        {
         "name": "STD_day_of_week",
         "rawType": "object",
         "type": "string"
        },
        {
         "name": "STA_day_of_week",
         "rawType": "object",
         "type": "string"
        },
        {
         "name": "STD_month_name",
         "rawType": "object",
         "type": "string"
        },
        {
         "name": "STA_month_name",
         "rawType": "object",
         "type": "string"
        },
        {
         "name": "STA_month",
         "rawType": "int32",
         "type": "integer"
        }
       ],
       "conversionMethod": "pd.DataFrame",
       "ref": "d46a7a92-3133-4846-bfa4-159c752fa07b",
       "rows": [
        [
         "0",
         "2016-01-03 10:30:00",
         "10",
         "2016-01-03 12:55:00",
         "12",
         "Sunday",
         "Sunday",
         "January",
         "January",
         "1"
        ],
        [
         "1",
         "2016-01-13 15:05:00",
         "15",
         "2016-01-13 16:55:00",
         "16",
         "Wednesday",
         "Wednesday",
         "January",
         "January",
         "1"
        ],
        [
         "2",
         "2016-01-16 04:10:00",
         "4",
         "2016-01-16 06:45:00",
         "6",
         "Saturday",
         "Saturday",
         "January",
         "January",
         "1"
        ],
        [
         "3",
         "2016-01-17 14:10:00",
         "14",
         "2016-01-17 17:00:00",
         "17",
         "Sunday",
         "Sunday",
         "January",
         "January",
         "1"
        ],
        [
         "4",
         "2016-01-17 14:30:00",
         "14",
         "2016-01-17 15:50:00",
         "15",
         "Sunday",
         "Sunday",
         "January",
         "January",
         "1"
        ]
       ],
       "shape": {
        "columns": 9,
        "rows": 5
       }
      },
      "text/html": [
       "<div>\n",
       "<style scoped>\n",
       "    .dataframe tbody tr th:only-of-type {\n",
       "        vertical-align: middle;\n",
       "    }\n",
       "\n",
       "    .dataframe tbody tr th {\n",
       "        vertical-align: top;\n",
       "    }\n",
       "\n",
       "    .dataframe thead th {\n",
       "        text-align: right;\n",
       "    }\n",
       "</style>\n",
       "<table border=\"1\" class=\"dataframe\">\n",
       "  <thead>\n",
       "    <tr style=\"text-align: right;\">\n",
       "      <th></th>\n",
       "      <th>STD</th>\n",
       "      <th>STD_hour</th>\n",
       "      <th>STA</th>\n",
       "      <th>STA_hour</th>\n",
       "      <th>STD_day_of_week</th>\n",
       "      <th>STA_day_of_week</th>\n",
       "      <th>STD_month_name</th>\n",
       "      <th>STA_month_name</th>\n",
       "      <th>STA_month</th>\n",
       "    </tr>\n",
       "  </thead>\n",
       "  <tbody>\n",
       "    <tr>\n",
       "      <th>0</th>\n",
       "      <td>2016-01-03 10:30:00</td>\n",
       "      <td>10</td>\n",
       "      <td>2016-01-03 12:55:00</td>\n",
       "      <td>12</td>\n",
       "      <td>Sunday</td>\n",
       "      <td>Sunday</td>\n",
       "      <td>January</td>\n",
       "      <td>January</td>\n",
       "      <td>1</td>\n",
       "    </tr>\n",
       "    <tr>\n",
       "      <th>1</th>\n",
       "      <td>2016-01-13 15:05:00</td>\n",
       "      <td>15</td>\n",
       "      <td>2016-01-13 16:55:00</td>\n",
       "      <td>16</td>\n",
       "      <td>Wednesday</td>\n",
       "      <td>Wednesday</td>\n",
       "      <td>January</td>\n",
       "      <td>January</td>\n",
       "      <td>1</td>\n",
       "    </tr>\n",
       "    <tr>\n",
       "      <th>2</th>\n",
       "      <td>2016-01-16 04:10:00</td>\n",
       "      <td>4</td>\n",
       "      <td>2016-01-16 06:45:00</td>\n",
       "      <td>6</td>\n",
       "      <td>Saturday</td>\n",
       "      <td>Saturday</td>\n",
       "      <td>January</td>\n",
       "      <td>January</td>\n",
       "      <td>1</td>\n",
       "    </tr>\n",
       "    <tr>\n",
       "      <th>3</th>\n",
       "      <td>2016-01-17 14:10:00</td>\n",
       "      <td>14</td>\n",
       "      <td>2016-01-17 17:00:00</td>\n",
       "      <td>17</td>\n",
       "      <td>Sunday</td>\n",
       "      <td>Sunday</td>\n",
       "      <td>January</td>\n",
       "      <td>January</td>\n",
       "      <td>1</td>\n",
       "    </tr>\n",
       "    <tr>\n",
       "      <th>4</th>\n",
       "      <td>2016-01-17 14:30:00</td>\n",
       "      <td>14</td>\n",
       "      <td>2016-01-17 15:50:00</td>\n",
       "      <td>15</td>\n",
       "      <td>Sunday</td>\n",
       "      <td>Sunday</td>\n",
       "      <td>January</td>\n",
       "      <td>January</td>\n",
       "      <td>1</td>\n",
       "    </tr>\n",
       "  </tbody>\n",
       "</table>\n",
       "</div>"
      ],
      "text/plain": [
       "                  STD  STD_hour                 STA  STA_hour STD_day_of_week   \n",
       "0 2016-01-03 10:30:00        10 2016-01-03 12:55:00        12          Sunday  \\\n",
       "1 2016-01-13 15:05:00        15 2016-01-13 16:55:00        16       Wednesday   \n",
       "2 2016-01-16 04:10:00         4 2016-01-16 06:45:00         6        Saturday   \n",
       "3 2016-01-17 14:10:00        14 2016-01-17 17:00:00        17          Sunday   \n",
       "4 2016-01-17 14:30:00        14 2016-01-17 15:50:00        15          Sunday   \n",
       "\n",
       "  STA_day_of_week STD_month_name STA_month_name  STA_month  \n",
       "0          Sunday        January        January          1  \n",
       "1       Wednesday        January        January          1  \n",
       "2        Saturday        January        January          1  \n",
       "3          Sunday        January        January          1  \n",
       "4          Sunday        January        January          1  "
      ]
     },
     "execution_count": 73,
     "metadata": {},
     "output_type": "execute_result"
    }
   ],
   "source": [
    "# Extract the hour of the day from STD and STA columns\n",
    "df_train['STD_hour'] = df_train['STD'].dt.hour\n",
    "df_train['STA_hour'] = df_train['STA'].dt.hour\n",
    "\n",
    "# Display the updated DataFrame\n",
    "df_train[['STD', 'STD_hour', 'STA', 'STA_hour','STD_day_of_week','STA_day_of_week','STD_month_name','STA_month_name','STA_month']].head()"
   ]
  },
  {
   "cell_type": "code",
   "execution_count": null,
   "id": "e940156f",
   "metadata": {},
   "outputs": [],
   "source": [
    "# Map days of the week to numbers (\n",
    "day_of_week_mapping = {\n",
    "    'Monday': 1, 'Tuesday': 2, 'Wednesday': 3, \n",
    "    'Thursday': 4, 'Friday': 5, 'Saturday': 6, 'Sunday': 7\n",
    "}\n",
    "\n",
    "df_train['STD_day_of_week_encoded'] = df_train['STD_day_of_week'].map(day_of_week_mapping)\n",
    "df_train['STA_day_of_week_encoded'] = df_train['STA_day_of_week'].map(day_of_week_mapping)"
   ]
  },
  {
   "cell_type": "code",
   "execution_count": 120,
   "id": "a9e62e50",
   "metadata": {},
   "outputs": [],
   "source": [
    "df_train['log_target'] = np.log1p(df_train['target'])\n",
    "df_train['log_duration'] =  np.log1p(df_train['duration'])"
   ]
  },
  {
   "cell_type": "code",
   "execution_count": 124,
   "id": "afc7eba3",
   "metadata": {},
   "outputs": [
    {
     "data": {
      "text/plain": [
       "<Axes: xlabel='log_duration', ylabel='Count'>"
      ]
     },
     "execution_count": 124,
     "metadata": {},
     "output_type": "execute_result"
    },
    {
     "data": {
      "image/png": "[encoded data removed]",
      "text/plain": [
       "<Figure size 640x480 with 1 Axes>"
      ]
     },
     "metadata": {},
     "output_type": "display_data"
    }
   ],
   "source": [
    "sns.histplot(df_train['log_duration'], bins=30)"
   ]
  },
  {
   "cell_type": "code",
   "execution_count": 129,
   "id": "56ee7832",
   "metadata": {},
   "outputs": [
    {
     "data": {
      "application/vnd.microsoft.datawrangler.viewer.v0+json": {
       "columns": [
        {
         "name": "index",
         "rawType": "int64",
         "type": "integer"
        },
        {
         "name": "STD_month",
         "rawType": "int32",
         "type": "integer"
        },
        {
         "name": "season",
         "rawType": "object",
         "type": "string"
        }
       ],
       "conversionMethod": "pd.DataFrame",
       "ref": "eb086432-07aa-419c-abe9-27dbc287ae05",
       "rows": [
        [
         "0",
         "1",
         "Winter"
        ],
        [
         "1",
         "1",
         "Winter"
        ],
        [
         "2",
         "1",
         "Winter"
        ],
        [
         "3",
         "1",
         "Winter"
        ],
        [
         "4",
         "1",
         "Winter"
        ]
       ],
       "shape": {
        "columns": 2,
        "rows": 5
       }
      },
      "text/html": [
       "<div>\n",
       "<style scoped>\n",
       "    .dataframe tbody tr th:only-of-type {\n",
       "        vertical-align: middle;\n",
       "    }\n",
       "\n",
       "    .dataframe tbody tr th {\n",
       "        vertical-align: top;\n",
       "    }\n",
       "\n",
       "    .dataframe thead th {\n",
       "        text-align: right;\n",
       "    }\n",
       "</style>\n",
       "<table border=\"1\" class=\"dataframe\">\n",
       "  <thead>\n",
       "    <tr style=\"text-align: right;\">\n",
       "      <th></th>\n",
       "      <th>STD_month</th>\n",
       "      <th>season</th>\n",
       "    </tr>\n",
       "  </thead>\n",
       "  <tbody>\n",
       "    <tr>\n",
       "      <th>0</th>\n",
       "      <td>1</td>\n",
       "      <td>Winter</td>\n",
       "    </tr>\n",
       "    <tr>\n",
       "      <th>1</th>\n",
       "      <td>1</td>\n",
       "      <td>Winter</td>\n",
       "    </tr>\n",
       "    <tr>\n",
       "      <th>2</th>\n",
       "      <td>1</td>\n",
       "      <td>Winter</td>\n",
       "    </tr>\n",
       "    <tr>\n",
       "      <th>3</th>\n",
       "      <td>1</td>\n",
       "      <td>Winter</td>\n",
       "    </tr>\n",
       "    <tr>\n",
       "      <th>4</th>\n",
       "      <td>1</td>\n",
       "      <td>Winter</td>\n",
       "    </tr>\n",
       "  </tbody>\n",
       "</table>\n",
       "</div>"
      ],
      "text/plain": [
       "   STD_month  season\n",
       "0          1  Winter\n",
       "1          1  Winter\n",
       "2          1  Winter\n",
       "3          1  Winter\n",
       "4          1  Winter"
      ]
     },
     "execution_count": 129,
     "metadata": {},
     "output_type": "execute_result"
    }
   ],
   "source": [
    "# Define a function to map months to seasons\n",
    "def get_season(month):\n",
    "    if month in [12, 1, 2]:\n",
    "        return 'Winter'\n",
    "    elif month in [3, 4, 5]:\n",
    "        return 'Spring'\n",
    "    elif month in [6, 7, 8]:\n",
    "        return 'Summer'\n",
    "    elif month in [9, 10, 11]:\n",
    "        return 'Autumn'\n",
    "\n",
    "# Apply the function to create a new column for seasons\n",
    "df_train['season'] = df_train['STD_month'].apply(get_season)\n",
    "df_train[['STD_month', 'season']].head()"
   ]
  },
  {
   "cell_type": "code",
   "execution_count": 154,
   "id": "456a626c",
   "metadata": {
    "vscode": {
     "languageId": "ruby"
    }
   },
   "outputs": [
    {
     "data": {
      "application/vnd.microsoft.datawrangler.viewer.v0+json": {
       "columns": [
        {
         "name": "index",
         "rawType": "int64",
         "type": "integer"
        },
        {
         "name": "STD_hour",
         "rawType": "int32",
         "type": "integer"
        },
        {
         "name": "STD_hour_category",
         "rawType": "object",
         "type": "string"
        },
        {
         "name": "STA_hour",
         "rawType": "int32",
         "type": "integer"
        },
        {
         "name": "STA_hour_category",
         "rawType": "object",
         "type": "string"
        }
       ],
       "conversionMethod": "pd.DataFrame",
       "ref": "6326ed0b-9477-4413-b23a-c061eedf2904",
       "rows": [
        [
         "0",
         "10",
         "6 - 12 AM",
         "12",
         "12 - 18 PM"
        ],
        [
         "1",
         "15",
         "12 - 18 PM",
         "16",
         "12 - 18 PM"
        ],
        [
         "2",
         "4",
         "0 - 6 AM",
         "6",
         "6 - 12 AM"
        ],
        [
         "3",
         "14",
         "12 - 18 PM",
         "17",
         "12 - 18 PM"
        ],
        [
         "4",
         "14",
         "12 - 18 PM",
         "15",
         "12 - 18 PM"
        ]
       ],
       "shape": {
        "columns": 4,
        "rows": 5
       }
      },
      "text/html": [
       "<div>\n",
       "<style scoped>\n",
       "    .dataframe tbody tr th:only-of-type {\n",
       "        vertical-align: middle;\n",
       "    }\n",
       "\n",
       "    .dataframe tbody tr th {\n",
       "        vertical-align: top;\n",
       "    }\n",
       "\n",
       "    .dataframe thead th {\n",
       "        text-align: right;\n",
       "    }\n",
       "</style>\n",
       "<table border=\"1\" class=\"dataframe\">\n",
       "  <thead>\n",
       "    <tr style=\"text-align: right;\">\n",
       "      <th></th>\n",
       "      <th>STD_hour</th>\n",
       "      <th>STD_hour_category</th>\n",
       "      <th>STA_hour</th>\n",
       "      <th>STA_hour_category</th>\n",
       "    </tr>\n",
       "  </thead>\n",
       "  <tbody>\n",
       "    <tr>\n",
       "      <th>0</th>\n",
       "      <td>10</td>\n",
       "      <td>6 - 12 AM</td>\n",
       "      <td>12</td>\n",
       "      <td>12 - 18 PM</td>\n",
       "    </tr>\n",
       "    <tr>\n",
       "      <th>1</th>\n",
       "      <td>15</td>\n",
       "      <td>12 - 18 PM</td>\n",
       "      <td>16</td>\n",
       "      <td>12 - 18 PM</td>\n",
       "    </tr>\n",
       "    <tr>\n",
       "      <th>2</th>\n",
       "      <td>4</td>\n",
       "      <td>0 - 6 AM</td>\n",
       "      <td>6</td>\n",
       "      <td>6 - 12 AM</td>\n",
       "    </tr>\n",
       "    <tr>\n",
       "      <th>3</th>\n",
       "      <td>14</td>\n",
       "      <td>12 - 18 PM</td>\n",
       "      <td>17</td>\n",
       "      <td>12 - 18 PM</td>\n",
       "    </tr>\n",
       "    <tr>\n",
       "      <th>4</th>\n",
       "      <td>14</td>\n",
       "      <td>12 - 18 PM</td>\n",
       "      <td>15</td>\n",
       "      <td>12 - 18 PM</td>\n",
       "    </tr>\n",
       "  </tbody>\n",
       "</table>\n",
       "</div>"
      ],
      "text/plain": [
       "   STD_hour STD_hour_category  STA_hour STA_hour_category\n",
       "0        10         6 - 12 AM        12        12 - 18 PM\n",
       "1        15        12 - 18 PM        16        12 - 18 PM\n",
       "2         4          0 - 6 AM         6         6 - 12 AM\n",
       "3        14        12 - 18 PM        17        12 - 18 PM\n",
       "4        14        12 - 18 PM        15        12 - 18 PM"
      ]
     },
     "execution_count": 154,
     "metadata": {},
     "output_type": "execute_result"
    }
   ],
   "source": [
    "# Define a function to categorize hours\n",
    "def categorize_hour(hour):\n",
    "    if 6 <= hour < 12:\n",
    "        return '6 - 12 AM'\n",
    "    elif 12 <= hour < 18:\n",
    "        return '12 - 18 PM'\n",
    "    elif 18 <= hour < 24:\n",
    "        return '18 - 24 PM'\n",
    "    else:\n",
    "        return '0 - 6 AM'\n",
    "\n",
    "# Apply the function to categorize STD_hour and STA_hour\n",
    "df_train['STD_hour_category'] = df_train['STD_hour'].apply(categorize_hour)\n",
    "df_train['STA_hour_category'] = df_train['STA_hour'].apply(categorize_hour)\n",
    "\n",
    "# Display the updated DataFrame\n",
    "df_train[['STD_hour', 'STD_hour_category', 'STA_hour', 'STA_hour_category']].head()"
   ]
  },
  {
   "cell_type": "code",
   "execution_count": 185,
   "id": "f01886f8",
   "metadata": {
    "vscode": {
     "languageId": "ruby"
    }
   },
   "outputs": [
    {
     "data": {
      "image/png": "[encoded data removed]",
      "text/plain": [
       "<Figure size 1200x600 with 1 Axes>"
      ]
     },
     "metadata": {},
     "output_type": "display_data"
    }
   ],
   "source": [
    "# Group by STD_hour_category and calculate the mean and median of the target\n",
    "std_hour_category_stats = df_train.groupby('STD_hour_category')['target'].agg(['mean', 'median'])\n",
    "hour_category_sorted = std_hour_category_stats.sort_values(by='mean', ascending=False)\n",
    "\n",
    "# Create a bar plot for the mean and median target by hour category\n",
    "fig, ax = plt.subplots(figsize=(12, 6))  # Adjust figure size for better readability\n",
    "\n",
    "# Define the x-axis positions based on the sorted data\n",
    "x_positions = np.arange(len(hour_category_sorted))\n",
    "\n",
    "# Bar plot for mean\n",
    "ax.bar(x_positions - 0.2, hour_category_sorted['mean'], width=0.4, label='Mean', color='blue', align='center')\n",
    "\n",
    "# Bar plot for median\n",
    "ax.bar(x_positions + 0.2, hour_category_sorted['median'], width=0.4, label='Median', color='orange', alpha=0.7, align='center')\n",
    "\n",
    "# Set labels and title\n",
    "ax.set_xlabel('Hour Category')\n",
    "ax.set_ylabel('Target')\n",
    "ax.set_title('Mean and Median Target by Hour Category (Sorted by Mean)')\n",
    "\n",
    "# Set the x-ticks and labels using the sorted hour category index\n",
    "ax.set_xticks(x_positions)\n",
    "ax.set_xticklabels(hour_category_sorted.index)  # Use the index of the sorted DataFrame\n",
    "\n",
    "ax.legend()\n",
    "plt.tight_layout()\n",
    "plt.show()\n"
   ]
  },
  {
   "cell_type": "code",
   "execution_count": 178,
   "id": "dce86b5e",
   "metadata": {},
   "outputs": [
    {
     "data": {
      "image/png": "[encoded data removed]",
      "text/plain": [
       "<Figure size 1200x600 with 1 Axes>"
      ]
     },
     "metadata": {},
     "output_type": "display_data"
    }
   ],
   "source": [
    "# Group by STD_month and calculate the mean and median of the target\n",
    "std_month_stats = df_train.groupby('STD_month')['target'].agg(['mean', 'median'])\n",
    "month_sorted = std_month_stats.sort_values(by='mean', ascending=False)\n",
    "\n",
    "# Create a bar plot for the mean and median target by month\n",
    "fig, ax = plt.subplots(figsize=(12, 6))  # Adjust figure size for better readability\n",
    "\n",
    "# Define the x-axis positions based on the sorted data\n",
    "x_positions = np.arange(len(month_sorted))\n",
    "\n",
    "# Bar plot for mean\n",
    "ax.bar(x_positions - 0.2, month_sorted['mean'], width=0.4, label='Mean', color='blue', align='center')\n",
    "\n",
    "# Bar plot for median\n",
    "ax.bar(x_positions + 0.2, month_sorted['median'], width=0.4, label='Median', color='orange', alpha=0.7, align='center')\n",
    "\n",
    "# Set labels and title\n",
    "ax.set_xlabel('Month')\n",
    "ax.set_ylabel('Target')\n",
    "ax.set_title('Mean and Median Target by Month (Sorted by Mean)')\n",
    "\n",
    "# Set the x-ticks and labels using the sorted month index\n",
    "ax.set_xticks(x_positions)\n",
    "ax.set_xticklabels(month_sorted.index)  # Use the index of the sorted DataFrame\n",
    "\n",
    "ax.legend()\n",
    "plt.tight_layout()\n",
    "plt.show()\n"
   ]
  },
  {
   "cell_type": "code",
   "execution_count": 179,
   "id": "c7a2f92c",
   "metadata": {},
   "outputs": [
    {
     "data": {
      "image/png": "[encoded data removed]",
      "text/plain": [
       "<Figure size 1200x600 with 1 Axes>"
      ]
     },
     "metadata": {},
     "output_type": "display_data"
    }
   ],
   "source": [
    "# Group by year and calculate the mean and median of the target\n",
    "year_stats = df_train.groupby('STD_year')['target'].agg(['mean', 'median'])\n",
    "year_sorted = year_stats.sort_values(by='mean', ascending=False)\n",
    "\n",
    "# Create a bar plot for the mean and median target by year\n",
    "fig, ax = plt.subplots(figsize=(12, 6))\n",
    "\n",
    "x_positions = np.arange(len(year_sorted))\n",
    "\n",
    "# Bar plot for mean\n",
    "ax.bar(x_positions - 0.2, year_sorted['mean'], width=0.4, label='Mean', color='blue', align='center')\n",
    "\n",
    "# Bar plot for median\n",
    "ax.bar(x_positions + 0.2, year_sorted['median'], width=0.4, label='Median', color='orange', alpha=0.7, align='center')\n",
    "\n",
    "# Set labels and title\n",
    "ax.set_xlabel('Year')\n",
    "ax.set_ylabel('Target')\n",
    "ax.set_title('Mean and Median Target by Year')\n",
    "ax.legend()\n",
    "\n",
    "ax.set_xticks(x_positions)\n",
    "ax.set_xticklabels(year_sorted.index)\n",
    "\n",
    "plt.tight_layout()\n",
    "plt.show()\n",
    "\n"
   ]
  },
  {
   "cell_type": "code",
   "execution_count": 182,
   "id": "e18ef79c",
   "metadata": {},
   "outputs": [
    {
     "data": {
      "image/png": "[encoded data removed]",
      "text/plain": [
       "<Figure size 1200x600 with 1 Axes>"
      ]
     },
     "metadata": {},
     "output_type": "display_data"
    }
   ],
   "source": [
    "#\n",
    "# Sort the day_of_week_stats DataFrame by the 'mean' column in descending order\n",
    "day_of_week_stats = df_train.groupby('STD_day_of_week_encoded')['target'].agg(['mean', 'median'])\n",
    "day_of_week_stats_sorted = day_of_week_stats.sort_values(by='mean', ascending=False)\n",
    "\n",
    "# Create a bar plot for the mean and median target by day of the week encoded\n",
    "fig, ax = plt.subplots(figsize=(12, 6))\n",
    "\n",
    "x_positions = np.arange(len(day_of_week_stats_sorted))\n",
    "\n",
    "# Bar plot for mean\n",
    "ax.bar(x_positions - 0.2, day_of_week_stats_sorted['mean'], width=0.4, label='Mean', color='blue', align='center')\n",
    "\n",
    "# Bar plot for median\n",
    "ax.bar(x_positions + 0.2, day_of_week_stats_sorted['median'], width=0.4, label='Median', color='orange', alpha=0.7, align='center')\n",
    "\n",
    "# Set labels and title\n",
    "ax.set_xlabel('Day of Week Encoded')\n",
    "ax.set_ylabel('Target')\n",
    "ax.set_title('Mean and Median Target by Day of Week Encoded (Sorted by Mean)')\n",
    "ax.legend()\n",
    "\n",
    "ax.set_xticks(x_positions)\n",
    "ax.set_xticklabels(day_of_week_stats_sorted.index)\n",
    "\n",
    "plt.tight_layout()\n",
    "plt.show()"
   ]
  },
  {
   "cell_type": "code",
   "execution_count": 184,
   "id": "f6314f03",
   "metadata": {},
   "outputs": [
    {
     "data": {
      "image/png": "[encoded data removed]",
      "text/plain": [
       "<Figure size 1200x600 with 1 Axes>"
      ]
     },
     "metadata": {},
     "output_type": "display_data"
    }
   ],
   "source": [
    "# Group by season and calculate the mean and median of the target\n",
    "season_stats = df_train.groupby('season')['target'].agg(['mean', 'median'])\n",
    "season_sorted = season_stats.sort_values(by='mean', ascending=False)\n",
    "\n",
    "# Create a bar plot for the mean and median target by season\n",
    "fig, ax = plt.subplots(figsize=(12, 6))\n",
    "\n",
    "# Convert the index to a numeric range for plotting\n",
    "x_positions = np.arange(len(season_sorted))\n",
    "\n",
    "# Bar plot for mean\n",
    "ax.bar(x_positions - 0.2, season_sorted['mean'], width=0.4, label='Mean', color='blue', align='center')\n",
    "\n",
    "# Bar plot for median\n",
    "ax.bar(x_positions + 0.2, season_sorted['median'], width=0.4, label='Median', color='orange', alpha=0.7, align='center')\n",
    "\n",
    "# Set the x-axis tick labels to the season names\n",
    "ax.set_xticks(x_positions)\n",
    "ax.set_xticklabels(season_sorted.index)\n",
    "\n",
    "# Set labels and title\n",
    "ax.set_xlabel('Season')\n",
    "ax.set_ylabel('Target')\n",
    "ax.set_title('Mean and Median Target by Season')\n",
    "ax.legend()\n",
    "\n",
    "plt.tight_layout()\n",
    "plt.show()"
   ]
  }
 ],
 "metadata": {
  "kernelspec": {
   "display_name": ".venv",
   "language": "python",
   "name": "python3"
  },
  "language_info": {
   "codemirror_mode": {
    "name": "ipython",
    "version": 3
   },
   "file_extension": ".py",
   "mimetype": "text/x-python",
   "name": "python",
   "nbconvert_exporter": "python",
   "pygments_lexer": "ipython3",
   "version": "3.11.3"
  }
 },
 "nbformat": 4,
 "nbformat_minor": 5
}
